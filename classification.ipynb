{
 "cells": [
  {
   "cell_type": "markdown",
   "metadata": {},
   "source": [
    "# Classification"
   ]
  },
  {
   "cell_type": "code",
   "execution_count": null,
   "metadata": {},
   "outputs": [],
   "source": []
  },
  {
   "cell_type": "markdown",
   "metadata": {},
   "source": [
    "# 1. Loading Library"
   ]
  },
  {
   "cell_type": "code",
   "execution_count": 115,
   "metadata": {},
   "outputs": [],
   "source": [
    "import pandas as pd\n",
    "import numpy as np\n",
    "import time\n",
    "import os\n",
    "import getpass"
   ]
  },
  {
   "cell_type": "code",
   "execution_count": 2,
   "metadata": {},
   "outputs": [],
   "source": [
    "%matplotlib inline\n",
    "import matplotlib.pyplot as plt\n",
    "import seaborn as sns\n",
    "from mpl_toolkits.mplot3d import Axes3D"
   ]
  },
  {
   "cell_type": "code",
   "execution_count": 3,
   "metadata": {},
   "outputs": [],
   "source": [
    "from sklearn.pipeline import make_pipeline\n",
    "from sklearn.preprocessing import StandardScaler"
   ]
  },
  {
   "cell_type": "code",
   "execution_count": 4,
   "metadata": {},
   "outputs": [],
   "source": [
    "from sklearn.cluster import KMeans\n",
    "from scipy.cluster.hierarchy import linkage, dendrogram\n",
    "from scipy.cluster.hierarchy import fcluster\n",
    "from sklearn.cluster import DBSCAN"
   ]
  },
  {
   "cell_type": "code",
   "execution_count": 5,
   "metadata": {},
   "outputs": [
    {
     "name": "stderr",
     "output_type": "stream",
     "text": [
      "C:\\ai\\python\\Anaconda3\\lib\\site-packages\\sklearn\\utils\\deprecation.py:144: FutureWarning: The sklearn.neighbors.base module is  deprecated in version 0.22 and will be removed in version 0.24. The corresponding classes / functions should instead be imported from sklearn.neighbors. Anything that cannot be imported from sklearn.neighbors is now part of the private API.\n",
      "  warnings.warn(message, FutureWarning)\n",
      "C:\\ai\\python\\Anaconda3\\lib\\site-packages\\sklearn\\utils\\deprecation.py:144: FutureWarning: The sklearn.ensemble.bagging module is  deprecated in version 0.22 and will be removed in version 0.24. The corresponding classes / functions should instead be imported from sklearn.ensemble. Anything that cannot be imported from sklearn.ensemble is now part of the private API.\n",
      "  warnings.warn(message, FutureWarning)\n",
      "C:\\ai\\python\\Anaconda3\\lib\\site-packages\\sklearn\\utils\\deprecation.py:144: FutureWarning: The sklearn.ensemble.base module is  deprecated in version 0.22 and will be removed in version 0.24. The corresponding classes / functions should instead be imported from sklearn.ensemble. Anything that cannot be imported from sklearn.ensemble is now part of the private API.\n",
      "  warnings.warn(message, FutureWarning)\n",
      "C:\\ai\\python\\Anaconda3\\lib\\site-packages\\sklearn\\utils\\deprecation.py:144: FutureWarning: The sklearn.ensemble.forest module is  deprecated in version 0.22 and will be removed in version 0.24. The corresponding classes / functions should instead be imported from sklearn.ensemble. Anything that cannot be imported from sklearn.ensemble is now part of the private API.\n",
      "  warnings.warn(message, FutureWarning)\n",
      "C:\\ai\\python\\Anaconda3\\lib\\site-packages\\sklearn\\utils\\deprecation.py:144: FutureWarning: The sklearn.utils.testing module is  deprecated in version 0.22 and will be removed in version 0.24. The corresponding classes / functions should instead be imported from sklearn.utils. Anything that cannot be imported from sklearn.utils is now part of the private API.\n",
      "  warnings.warn(message, FutureWarning)\n",
      "C:\\ai\\python\\Anaconda3\\lib\\site-packages\\sklearn\\utils\\deprecation.py:144: FutureWarning: The sklearn.metrics.classification module is  deprecated in version 0.22 and will be removed in version 0.24. The corresponding classes / functions should instead be imported from sklearn.metrics. Anything that cannot be imported from sklearn.metrics is now part of the private API.\n",
      "  warnings.warn(message, FutureWarning)\n"
     ]
    }
   ],
   "source": [
    "from imblearn.over_sampling import SMOTENC"
   ]
  },
  {
   "cell_type": "markdown",
   "metadata": {},
   "source": [
    "# 2. Loading Data"
   ]
  },
  {
   "cell_type": "markdown",
   "metadata": {},
   "source": [
    "## 2-1. client data"
   ]
  },
  {
   "cell_type": "code",
   "execution_count": 6,
   "metadata": {},
   "outputs": [
    {
     "data": {
      "text/html": [
       "<div>\n",
       "<style scoped>\n",
       "    .dataframe tbody tr th:only-of-type {\n",
       "        vertical-align: middle;\n",
       "    }\n",
       "\n",
       "    .dataframe tbody tr th {\n",
       "        vertical-align: top;\n",
       "    }\n",
       "\n",
       "    .dataframe thead th {\n",
       "        text-align: right;\n",
       "    }\n",
       "</style>\n",
       "<table border=\"1\" class=\"dataframe\">\n",
       "  <thead>\n",
       "    <tr style=\"text-align: right;\">\n",
       "      <th></th>\n",
       "      <th>고객번호</th>\n",
       "      <th>성별</th>\n",
       "      <th>연령대</th>\n",
       "      <th>거주지역</th>\n",
       "    </tr>\n",
       "  </thead>\n",
       "  <tbody>\n",
       "    <tr>\n",
       "      <td>0</td>\n",
       "      <td>1</td>\n",
       "      <td>M</td>\n",
       "      <td>60세이상</td>\n",
       "      <td>60.0</td>\n",
       "    </tr>\n",
       "    <tr>\n",
       "      <td>1</td>\n",
       "      <td>2</td>\n",
       "      <td>M</td>\n",
       "      <td>60세이상</td>\n",
       "      <td>100.0</td>\n",
       "    </tr>\n",
       "    <tr>\n",
       "      <td>2</td>\n",
       "      <td>3</td>\n",
       "      <td>M</td>\n",
       "      <td>60세이상</td>\n",
       "      <td>33.0</td>\n",
       "    </tr>\n",
       "    <tr>\n",
       "      <td>3</td>\n",
       "      <td>4</td>\n",
       "      <td>F</td>\n",
       "      <td>60세이상</td>\n",
       "      <td>16.0</td>\n",
       "    </tr>\n",
       "    <tr>\n",
       "      <td>4</td>\n",
       "      <td>5</td>\n",
       "      <td>M</td>\n",
       "      <td>60세이상</td>\n",
       "      <td>100.0</td>\n",
       "    </tr>\n",
       "  </tbody>\n",
       "</table>\n",
       "</div>"
      ],
      "text/plain": [
       "   고객번호 성별    연령대   거주지역\n",
       "0     1  M  60세이상   60.0\n",
       "1     2  M  60세이상  100.0\n",
       "2     3  M  60세이상   33.0\n",
       "3     4  F  60세이상   16.0\n",
       "4     5  M  60세이상  100.0"
      ]
     },
     "execution_count": 6,
     "metadata": {},
     "output_type": "execute_result"
    }
   ],
   "source": [
    "# 고객 데이터를 불러온다.\n",
    "df_client = pd.read_csv(\"./data/01client_demo.csv\", encoding=\"cp949\")\n",
    "df_client.head()"
   ]
  },
  {
   "cell_type": "code",
   "execution_count": 7,
   "metadata": {},
   "outputs": [],
   "source": [
    "# 서울시 데이터만 선별하기 위해 우편 데이터를 가져온다.\n",
    "comuser = getpass.getuser()\n",
    "path = f'C:\\\\Users\\\\{comuser}\\\\Desktop\\\\ModuleProject01\\data\\post_num'\n",
    "\n",
    "file_list = []\n",
    "# r=root, d=directories, f = files\n",
    "for r, d, f in os.walk(path):\n",
    "    for file in f:\n",
    "        if '.xlsx' in file:\n",
    "            file_list.append(os.path.join(r, file))"
   ]
  },
  {
   "cell_type": "code",
   "execution_count": 8,
   "metadata": {},
   "outputs": [],
   "source": [
    "# 파일명을 가진 변수로 데이터프레임을 생성한다.\n",
    "for file in file_list :\n",
    "    save_file = file.split('\\\\')[-1].split('.')[0]\n",
    "    globals()[save_file] = pd.read_excel(file.replace('\\\\', '\\\\\\\\'))"
   ]
  },
  {
   "cell_type": "code",
   "execution_count": 9,
   "metadata": {},
   "outputs": [
    {
     "data": {
      "text/html": [
       "<div>\n",
       "<style scoped>\n",
       "    .dataframe tbody tr th:only-of-type {\n",
       "        vertical-align: middle;\n",
       "    }\n",
       "\n",
       "    .dataframe tbody tr th {\n",
       "        vertical-align: top;\n",
       "    }\n",
       "\n",
       "    .dataframe thead th {\n",
       "        text-align: right;\n",
       "    }\n",
       "</style>\n",
       "<table border=\"1\" class=\"dataframe\">\n",
       "  <thead>\n",
       "    <tr style=\"text-align: right;\">\n",
       "      <th></th>\n",
       "      <th>우편번호\\n(구역번호)</th>\n",
       "      <th>시도</th>\n",
       "      <th>시군구</th>\n",
       "      <th>읍면</th>\n",
       "      <th>도로명주소</th>\n",
       "      <th>범위종류</th>\n",
       "    </tr>\n",
       "  </thead>\n",
       "  <tbody>\n",
       "    <tr>\n",
       "      <td>0</td>\n",
       "      <td>6267</td>\n",
       "      <td>서울특별시</td>\n",
       "      <td>강남구</td>\n",
       "      <td>NaN</td>\n",
       "      <td>강남대로 238 ~ 246</td>\n",
       "      <td>짝수</td>\n",
       "    </tr>\n",
       "    <tr>\n",
       "      <td>1</td>\n",
       "      <td>6266</td>\n",
       "      <td>서울특별시</td>\n",
       "      <td>강남구</td>\n",
       "      <td>NaN</td>\n",
       "      <td>강남대로 248 ~ 256</td>\n",
       "      <td>짝수</td>\n",
       "    </tr>\n",
       "    <tr>\n",
       "      <td>2</td>\n",
       "      <td>6265</td>\n",
       "      <td>서울특별시</td>\n",
       "      <td>강남구</td>\n",
       "      <td>NaN</td>\n",
       "      <td>강남대로 262 ~ 276</td>\n",
       "      <td>짝수</td>\n",
       "    </tr>\n",
       "    <tr>\n",
       "      <td>3</td>\n",
       "      <td>6258</td>\n",
       "      <td>서울특별시</td>\n",
       "      <td>강남구</td>\n",
       "      <td>NaN</td>\n",
       "      <td>강남대로 278 ~ 292</td>\n",
       "      <td>짝수</td>\n",
       "    </tr>\n",
       "    <tr>\n",
       "      <td>4</td>\n",
       "      <td>6253</td>\n",
       "      <td>서울특별시</td>\n",
       "      <td>강남구</td>\n",
       "      <td>NaN</td>\n",
       "      <td>강남대로 298 ~ 318</td>\n",
       "      <td>짝수</td>\n",
       "    </tr>\n",
       "  </tbody>\n",
       "</table>\n",
       "</div>"
      ],
      "text/plain": [
       "   우편번호\\n(구역번호)     시도  시군구  읍면           도로명주소 범위종류\n",
       "0          6267  서울특별시  강남구 NaN  강남대로 238 ~ 246   짝수\n",
       "1          6266  서울특별시  강남구 NaN  강남대로 248 ~ 256   짝수\n",
       "2          6265  서울특별시  강남구 NaN  강남대로 262 ~ 276   짝수\n",
       "3          6258  서울특별시  강남구 NaN  강남대로 278 ~ 292   짝수\n",
       "4          6253  서울특별시  강남구 NaN  강남대로 298 ~ 318   짝수"
      ]
     },
     "execution_count": 9,
     "metadata": {},
     "output_type": "execute_result"
    }
   ],
   "source": [
    "서울시.head()"
   ]
  },
  {
   "cell_type": "code",
   "execution_count": 10,
   "metadata": {},
   "outputs": [],
   "source": [
    "def s_cut_postnum(df):\n",
    "    df['CutPostnum'] = df['우편번호\\n(구역번호)'].apply(lambda x: str(x)[0:2])"
   ]
  },
  {
   "cell_type": "code",
   "execution_count": 11,
   "metadata": {},
   "outputs": [
    {
     "data": {
      "text/html": [
       "<div>\n",
       "<style scoped>\n",
       "    .dataframe tbody tr th:only-of-type {\n",
       "        vertical-align: middle;\n",
       "    }\n",
       "\n",
       "    .dataframe tbody tr th {\n",
       "        vertical-align: top;\n",
       "    }\n",
       "\n",
       "    .dataframe thead th {\n",
       "        text-align: right;\n",
       "    }\n",
       "</style>\n",
       "<table border=\"1\" class=\"dataframe\">\n",
       "  <thead>\n",
       "    <tr style=\"text-align: right;\">\n",
       "      <th></th>\n",
       "      <th>우편번호\\n(구역번호)</th>\n",
       "      <th>시도</th>\n",
       "      <th>시군구</th>\n",
       "      <th>읍면</th>\n",
       "      <th>도로명주소</th>\n",
       "      <th>범위종류</th>\n",
       "      <th>CutPostnum</th>\n",
       "    </tr>\n",
       "  </thead>\n",
       "  <tbody>\n",
       "    <tr>\n",
       "      <td>0</td>\n",
       "      <td>6267</td>\n",
       "      <td>서울특별시</td>\n",
       "      <td>강남구</td>\n",
       "      <td>NaN</td>\n",
       "      <td>강남대로 238 ~ 246</td>\n",
       "      <td>짝수</td>\n",
       "      <td>62</td>\n",
       "    </tr>\n",
       "    <tr>\n",
       "      <td>1</td>\n",
       "      <td>6266</td>\n",
       "      <td>서울특별시</td>\n",
       "      <td>강남구</td>\n",
       "      <td>NaN</td>\n",
       "      <td>강남대로 248 ~ 256</td>\n",
       "      <td>짝수</td>\n",
       "      <td>62</td>\n",
       "    </tr>\n",
       "    <tr>\n",
       "      <td>2</td>\n",
       "      <td>6265</td>\n",
       "      <td>서울특별시</td>\n",
       "      <td>강남구</td>\n",
       "      <td>NaN</td>\n",
       "      <td>강남대로 262 ~ 276</td>\n",
       "      <td>짝수</td>\n",
       "      <td>62</td>\n",
       "    </tr>\n",
       "    <tr>\n",
       "      <td>3</td>\n",
       "      <td>6258</td>\n",
       "      <td>서울특별시</td>\n",
       "      <td>강남구</td>\n",
       "      <td>NaN</td>\n",
       "      <td>강남대로 278 ~ 292</td>\n",
       "      <td>짝수</td>\n",
       "      <td>62</td>\n",
       "    </tr>\n",
       "    <tr>\n",
       "      <td>4</td>\n",
       "      <td>6253</td>\n",
       "      <td>서울특별시</td>\n",
       "      <td>강남구</td>\n",
       "      <td>NaN</td>\n",
       "      <td>강남대로 298 ~ 318</td>\n",
       "      <td>짝수</td>\n",
       "      <td>62</td>\n",
       "    </tr>\n",
       "  </tbody>\n",
       "</table>\n",
       "</div>"
      ],
      "text/plain": [
       "   우편번호\\n(구역번호)     시도  시군구  읍면           도로명주소 범위종류 CutPostnum\n",
       "0          6267  서울특별시  강남구 NaN  강남대로 238 ~ 246   짝수         62\n",
       "1          6266  서울특별시  강남구 NaN  강남대로 248 ~ 256   짝수         62\n",
       "2          6265  서울특별시  강남구 NaN  강남대로 262 ~ 276   짝수         62\n",
       "3          6258  서울특별시  강남구 NaN  강남대로 278 ~ 292   짝수         62\n",
       "4          6253  서울특별시  강남구 NaN  강남대로 298 ~ 318   짝수         62"
      ]
     },
     "execution_count": 11,
     "metadata": {},
     "output_type": "execute_result"
    }
   ],
   "source": [
    "s_cut_postnum(서울시)\n",
    "서울시.head()"
   ]
  },
  {
   "cell_type": "code",
   "execution_count": 12,
   "metadata": {},
   "outputs": [
    {
     "data": {
      "text/html": [
       "<div>\n",
       "<style scoped>\n",
       "    .dataframe tbody tr th:only-of-type {\n",
       "        vertical-align: middle;\n",
       "    }\n",
       "\n",
       "    .dataframe tbody tr th {\n",
       "        vertical-align: top;\n",
       "    }\n",
       "\n",
       "    .dataframe thead th {\n",
       "        text-align: right;\n",
       "    }\n",
       "</style>\n",
       "<table border=\"1\" class=\"dataframe\">\n",
       "  <thead>\n",
       "    <tr style=\"text-align: right;\">\n",
       "      <th></th>\n",
       "      <th>거주지역</th>\n",
       "      <th>S_koo</th>\n",
       "    </tr>\n",
       "  </thead>\n",
       "  <tbody>\n",
       "    <tr>\n",
       "      <td>0</td>\n",
       "      <td>62</td>\n",
       "      <td>강남구</td>\n",
       "    </tr>\n",
       "    <tr>\n",
       "      <td>1</td>\n",
       "      <td>62</td>\n",
       "      <td>강남구</td>\n",
       "    </tr>\n",
       "    <tr>\n",
       "      <td>2</td>\n",
       "      <td>62</td>\n",
       "      <td>강남구</td>\n",
       "    </tr>\n",
       "    <tr>\n",
       "      <td>3</td>\n",
       "      <td>62</td>\n",
       "      <td>강남구</td>\n",
       "    </tr>\n",
       "    <tr>\n",
       "      <td>4</td>\n",
       "      <td>62</td>\n",
       "      <td>강남구</td>\n",
       "    </tr>\n",
       "  </tbody>\n",
       "</table>\n",
       "</div>"
      ],
      "text/plain": [
       "  거주지역 S_koo\n",
       "0   62   강남구\n",
       "1   62   강남구\n",
       "2   62   강남구\n",
       "3   62   강남구\n",
       "4   62   강남구"
      ]
     },
     "execution_count": 12,
     "metadata": {},
     "output_type": "execute_result"
    }
   ],
   "source": [
    "s_postnum = 서울시['CutPostnum']\n",
    "s_koo = 서울시['시군구']\n",
    "\n",
    "frame = { '거주지역': s_postnum, 'S_koo': s_koo } \n",
    "\n",
    "df_post_s = pd.DataFrame(frame)\n",
    "df_post_s.head()"
   ]
  },
  {
   "cell_type": "code",
   "execution_count": 13,
   "metadata": {},
   "outputs": [
    {
     "data": {
      "text/html": [
       "<div>\n",
       "<style scoped>\n",
       "    .dataframe tbody tr th:only-of-type {\n",
       "        vertical-align: middle;\n",
       "    }\n",
       "\n",
       "    .dataframe tbody tr th {\n",
       "        vertical-align: top;\n",
       "    }\n",
       "\n",
       "    .dataframe thead th {\n",
       "        text-align: right;\n",
       "    }\n",
       "</style>\n",
       "<table border=\"1\" class=\"dataframe\">\n",
       "  <thead>\n",
       "    <tr style=\"text-align: right;\">\n",
       "      <th></th>\n",
       "      <th>고객번호</th>\n",
       "      <th>성별</th>\n",
       "      <th>연령대</th>\n",
       "      <th>거주지역</th>\n",
       "    </tr>\n",
       "  </thead>\n",
       "  <tbody>\n",
       "    <tr>\n",
       "      <td>0</td>\n",
       "      <td>1</td>\n",
       "      <td>M</td>\n",
       "      <td>60세이상</td>\n",
       "      <td>60.0</td>\n",
       "    </tr>\n",
       "    <tr>\n",
       "      <td>2</td>\n",
       "      <td>3</td>\n",
       "      <td>M</td>\n",
       "      <td>60세이상</td>\n",
       "      <td>33.0</td>\n",
       "    </tr>\n",
       "    <tr>\n",
       "      <td>3</td>\n",
       "      <td>4</td>\n",
       "      <td>F</td>\n",
       "      <td>60세이상</td>\n",
       "      <td>16.0</td>\n",
       "    </tr>\n",
       "    <tr>\n",
       "      <td>6</td>\n",
       "      <td>7</td>\n",
       "      <td>F</td>\n",
       "      <td>60세이상</td>\n",
       "      <td>36.0</td>\n",
       "    </tr>\n",
       "    <tr>\n",
       "      <td>7</td>\n",
       "      <td>8</td>\n",
       "      <td>M</td>\n",
       "      <td>60세이상</td>\n",
       "      <td>10.0</td>\n",
       "    </tr>\n",
       "  </tbody>\n",
       "</table>\n",
       "</div>"
      ],
      "text/plain": [
       "   고객번호 성별    연령대  거주지역\n",
       "0     1  M  60세이상  60.0\n",
       "2     3  M  60세이상  33.0\n",
       "3     4  F  60세이상  16.0\n",
       "6     7  F  60세이상  36.0\n",
       "7     8  M  60세이상  10.0"
      ]
     },
     "execution_count": 13,
     "metadata": {},
     "output_type": "execute_result"
    }
   ],
   "source": [
    "df_post_s['거주지역'] = df_post_s['거주지역'].apply(lambda x : np.float64(x))\n",
    "df_post_s = df_post_s.drop_duplicates()\n",
    "s_df_client = df_client[df_client['거주지역']<100]\n",
    "s_df_client.head()"
   ]
  },
  {
   "cell_type": "code",
   "execution_count": 14,
   "metadata": {
    "scrolled": false
   },
   "outputs": [
    {
     "data": {
      "text/html": [
       "<div>\n",
       "<style scoped>\n",
       "    .dataframe tbody tr th:only-of-type {\n",
       "        vertical-align: middle;\n",
       "    }\n",
       "\n",
       "    .dataframe tbody tr th {\n",
       "        vertical-align: top;\n",
       "    }\n",
       "\n",
       "    .dataframe thead th {\n",
       "        text-align: right;\n",
       "    }\n",
       "</style>\n",
       "<table border=\"1\" class=\"dataframe\">\n",
       "  <thead>\n",
       "    <tr style=\"text-align: right;\">\n",
       "      <th></th>\n",
       "      <th>고객번호</th>\n",
       "      <th>성별</th>\n",
       "      <th>연령대</th>\n",
       "      <th>거주지역</th>\n",
       "      <th>S_koo</th>\n",
       "    </tr>\n",
       "  </thead>\n",
       "  <tbody>\n",
       "    <tr>\n",
       "      <td>0</td>\n",
       "      <td>1</td>\n",
       "      <td>M</td>\n",
       "      <td>60세이상</td>\n",
       "      <td>60.0</td>\n",
       "      <td>강남구</td>\n",
       "    </tr>\n",
       "    <tr>\n",
       "      <td>1</td>\n",
       "      <td>3</td>\n",
       "      <td>M</td>\n",
       "      <td>60세이상</td>\n",
       "      <td>33.0</td>\n",
       "      <td>은평구</td>\n",
       "    </tr>\n",
       "    <tr>\n",
       "      <td>2</td>\n",
       "      <td>4</td>\n",
       "      <td>F</td>\n",
       "      <td>60세이상</td>\n",
       "      <td>16.0</td>\n",
       "      <td>노원구</td>\n",
       "    </tr>\n",
       "    <tr>\n",
       "      <td>3</td>\n",
       "      <td>7</td>\n",
       "      <td>F</td>\n",
       "      <td>60세이상</td>\n",
       "      <td>36.0</td>\n",
       "      <td>서대문구</td>\n",
       "    </tr>\n",
       "    <tr>\n",
       "      <td>4</td>\n",
       "      <td>8</td>\n",
       "      <td>M</td>\n",
       "      <td>60세이상</td>\n",
       "      <td>10.0</td>\n",
       "      <td>강북구</td>\n",
       "    </tr>\n",
       "  </tbody>\n",
       "</table>\n",
       "</div>"
      ],
      "text/plain": [
       "   고객번호 성별    연령대  거주지역 S_koo\n",
       "0     1  M  60세이상  60.0   강남구\n",
       "1     3  M  60세이상  33.0   은평구\n",
       "2     4  F  60세이상  16.0   노원구\n",
       "3     7  F  60세이상  36.0  서대문구\n",
       "4     8  M  60세이상  10.0   강북구"
      ]
     },
     "execution_count": 14,
     "metadata": {},
     "output_type": "execute_result"
    }
   ],
   "source": [
    "s_df_client = pd.merge(s_df_client, df_post_s, how='left')\n",
    "s_df_client.head()"
   ]
  },
  {
   "cell_type": "code",
   "execution_count": 15,
   "metadata": {},
   "outputs": [
    {
     "data": {
      "text/plain": [
       "5841"
      ]
     },
     "execution_count": 15,
     "metadata": {},
     "output_type": "execute_result"
    }
   ],
   "source": [
    "len(s_df_client)"
   ]
  },
  {
   "cell_type": "markdown",
   "metadata": {},
   "source": [
    "## 2-2. purchase data\n",
    "\n",
    "### 해당 데이터 크기가 커서 서울시 데이터로 불러와서 분석할 것!"
   ]
  },
  {
   "cell_type": "code",
   "execution_count": 16,
   "metadata": {},
   "outputs": [
    {
     "name": "stdout",
     "output_type": "stream",
     "text": [
      "time : 17.334537982940674\n"
     ]
    }
   ],
   "source": [
    "# 고객 구매내역 불러오기 ... 시간이 오래걸려서 확인\n",
    "start = time.time()\n",
    "\n",
    "df_purchase = pd.read_csv('./data/02purchaseTR.csv', encoding='CP949')\n",
    "\n",
    "print(\"time :\", time.time() - start)  # 현재시각 - 시작시간 = 실행 시간"
   ]
  },
  {
   "cell_type": "code",
   "execution_count": 17,
   "metadata": {},
   "outputs": [
    {
     "data": {
      "text/html": [
       "<div>\n",
       "<style scoped>\n",
       "    .dataframe tbody tr th:only-of-type {\n",
       "        vertical-align: middle;\n",
       "    }\n",
       "\n",
       "    .dataframe tbody tr th {\n",
       "        vertical-align: top;\n",
       "    }\n",
       "\n",
       "    .dataframe thead th {\n",
       "        text-align: right;\n",
       "    }\n",
       "</style>\n",
       "<table border=\"1\" class=\"dataframe\">\n",
       "  <thead>\n",
       "    <tr style=\"text-align: right;\">\n",
       "      <th></th>\n",
       "      <th>제휴사</th>\n",
       "      <th>영수증번호</th>\n",
       "      <th>대분류코드</th>\n",
       "      <th>중분류코드</th>\n",
       "      <th>소분류코드</th>\n",
       "      <th>고객번호</th>\n",
       "      <th>점포코드</th>\n",
       "      <th>구매일자</th>\n",
       "      <th>구매시간</th>\n",
       "      <th>구매금액</th>\n",
       "    </tr>\n",
       "  </thead>\n",
       "  <tbody>\n",
       "    <tr>\n",
       "      <td>0</td>\n",
       "      <td>B</td>\n",
       "      <td>8664000</td>\n",
       "      <td>15</td>\n",
       "      <td>1504</td>\n",
       "      <td>B150401</td>\n",
       "      <td>17218</td>\n",
       "      <td>44</td>\n",
       "      <td>20140222</td>\n",
       "      <td>20</td>\n",
       "      <td>2420</td>\n",
       "    </tr>\n",
       "    <tr>\n",
       "      <td>1</td>\n",
       "      <td>B</td>\n",
       "      <td>8664000</td>\n",
       "      <td>16</td>\n",
       "      <td>1601</td>\n",
       "      <td>B160101</td>\n",
       "      <td>17218</td>\n",
       "      <td>44</td>\n",
       "      <td>20140222</td>\n",
       "      <td>20</td>\n",
       "      <td>1070</td>\n",
       "    </tr>\n",
       "    <tr>\n",
       "      <td>2</td>\n",
       "      <td>B</td>\n",
       "      <td>8664000</td>\n",
       "      <td>16</td>\n",
       "      <td>1602</td>\n",
       "      <td>B160201</td>\n",
       "      <td>17218</td>\n",
       "      <td>44</td>\n",
       "      <td>20140222</td>\n",
       "      <td>20</td>\n",
       "      <td>8060</td>\n",
       "    </tr>\n",
       "    <tr>\n",
       "      <td>3</td>\n",
       "      <td>B</td>\n",
       "      <td>8664000</td>\n",
       "      <td>18</td>\n",
       "      <td>1803</td>\n",
       "      <td>B180301</td>\n",
       "      <td>17218</td>\n",
       "      <td>44</td>\n",
       "      <td>20140222</td>\n",
       "      <td>20</td>\n",
       "      <td>6000</td>\n",
       "    </tr>\n",
       "    <tr>\n",
       "      <td>4</td>\n",
       "      <td>B</td>\n",
       "      <td>8664001</td>\n",
       "      <td>5</td>\n",
       "      <td>509</td>\n",
       "      <td>B050901</td>\n",
       "      <td>17674</td>\n",
       "      <td>44</td>\n",
       "      <td>20140222</td>\n",
       "      <td>22</td>\n",
       "      <td>1120</td>\n",
       "    </tr>\n",
       "  </tbody>\n",
       "</table>\n",
       "</div>"
      ],
      "text/plain": [
       "  제휴사    영수증번호  대분류코드  중분류코드    소분류코드   고객번호  점포코드      구매일자  구매시간  구매금액\n",
       "0   B  8664000     15   1504  B150401  17218    44  20140222    20  2420\n",
       "1   B  8664000     16   1601  B160101  17218    44  20140222    20  1070\n",
       "2   B  8664000     16   1602  B160201  17218    44  20140222    20  8060\n",
       "3   B  8664000     18   1803  B180301  17218    44  20140222    20  6000\n",
       "4   B  8664001      5    509  B050901  17674    44  20140222    22  1120"
      ]
     },
     "execution_count": 17,
     "metadata": {},
     "output_type": "execute_result"
    }
   ],
   "source": [
    "df_purchase.head()"
   ]
  },
  {
   "cell_type": "code",
   "execution_count": 18,
   "metadata": {},
   "outputs": [
    {
     "data": {
      "text/plain": [
       "(28593030, 10)"
      ]
     },
     "execution_count": 18,
     "metadata": {},
     "output_type": "execute_result"
    }
   ],
   "source": [
    "# 데이터 크기가 크기 때문에 sample 수 확인\n",
    "df_purchase.shape"
   ]
  },
  {
   "cell_type": "code",
   "execution_count": 19,
   "metadata": {},
   "outputs": [
    {
     "data": {
      "text/html": [
       "<div>\n",
       "<style scoped>\n",
       "    .dataframe tbody tr th:only-of-type {\n",
       "        vertical-align: middle;\n",
       "    }\n",
       "\n",
       "    .dataframe tbody tr th {\n",
       "        vertical-align: top;\n",
       "    }\n",
       "\n",
       "    .dataframe thead th {\n",
       "        text-align: right;\n",
       "    }\n",
       "</style>\n",
       "<table border=\"1\" class=\"dataframe\">\n",
       "  <thead>\n",
       "    <tr style=\"text-align: right;\">\n",
       "      <th></th>\n",
       "      <th>고객번호</th>\n",
       "      <th>성별</th>\n",
       "      <th>연령대</th>\n",
       "      <th>거주지역</th>\n",
       "      <th>S_koo</th>\n",
       "      <th>제휴사</th>\n",
       "      <th>영수증번호</th>\n",
       "      <th>대분류코드</th>\n",
       "      <th>중분류코드</th>\n",
       "      <th>소분류코드</th>\n",
       "      <th>점포코드</th>\n",
       "      <th>구매일자</th>\n",
       "      <th>구매시간</th>\n",
       "      <th>구매금액</th>\n",
       "    </tr>\n",
       "  </thead>\n",
       "  <tbody>\n",
       "    <tr>\n",
       "      <td>0</td>\n",
       "      <td>1</td>\n",
       "      <td>M</td>\n",
       "      <td>60세이상</td>\n",
       "      <td>60.0</td>\n",
       "      <td>강남구</td>\n",
       "      <td>A</td>\n",
       "      <td>1239451</td>\n",
       "      <td>2</td>\n",
       "      <td>201</td>\n",
       "      <td>A020105</td>\n",
       "      <td>12</td>\n",
       "      <td>20140118</td>\n",
       "      <td>15</td>\n",
       "      <td>10000</td>\n",
       "    </tr>\n",
       "    <tr>\n",
       "      <td>1</td>\n",
       "      <td>1</td>\n",
       "      <td>M</td>\n",
       "      <td>60세이상</td>\n",
       "      <td>60.0</td>\n",
       "      <td>강남구</td>\n",
       "      <td>A</td>\n",
       "      <td>1319908</td>\n",
       "      <td>4</td>\n",
       "      <td>402</td>\n",
       "      <td>A040214</td>\n",
       "      <td>20</td>\n",
       "      <td>20140203</td>\n",
       "      <td>15</td>\n",
       "      <td>129000</td>\n",
       "    </tr>\n",
       "    <tr>\n",
       "      <td>2</td>\n",
       "      <td>1</td>\n",
       "      <td>M</td>\n",
       "      <td>60세이상</td>\n",
       "      <td>60.0</td>\n",
       "      <td>강남구</td>\n",
       "      <td>A</td>\n",
       "      <td>1807440</td>\n",
       "      <td>1</td>\n",
       "      <td>103</td>\n",
       "      <td>A010302</td>\n",
       "      <td>12</td>\n",
       "      <td>20140425</td>\n",
       "      <td>12</td>\n",
       "      <td>7000</td>\n",
       "    </tr>\n",
       "    <tr>\n",
       "      <td>3</td>\n",
       "      <td>1</td>\n",
       "      <td>M</td>\n",
       "      <td>60세이상</td>\n",
       "      <td>60.0</td>\n",
       "      <td>강남구</td>\n",
       "      <td>A</td>\n",
       "      <td>1807440</td>\n",
       "      <td>1</td>\n",
       "      <td>104</td>\n",
       "      <td>A010404</td>\n",
       "      <td>12</td>\n",
       "      <td>20140425</td>\n",
       "      <td>12</td>\n",
       "      <td>2650</td>\n",
       "    </tr>\n",
       "    <tr>\n",
       "      <td>4</td>\n",
       "      <td>1</td>\n",
       "      <td>M</td>\n",
       "      <td>60세이상</td>\n",
       "      <td>60.0</td>\n",
       "      <td>강남구</td>\n",
       "      <td>A</td>\n",
       "      <td>1807440</td>\n",
       "      <td>1</td>\n",
       "      <td>105</td>\n",
       "      <td>A010501</td>\n",
       "      <td>12</td>\n",
       "      <td>20140425</td>\n",
       "      <td>12</td>\n",
       "      <td>9800</td>\n",
       "    </tr>\n",
       "  </tbody>\n",
       "</table>\n",
       "</div>"
      ],
      "text/plain": [
       "   고객번호 성별    연령대  거주지역 S_koo 제휴사    영수증번호  대분류코드  중분류코드    소분류코드  점포코드  \\\n",
       "0     1  M  60세이상  60.0   강남구   A  1239451      2    201  A020105    12   \n",
       "1     1  M  60세이상  60.0   강남구   A  1319908      4    402  A040214    20   \n",
       "2     1  M  60세이상  60.0   강남구   A  1807440      1    103  A010302    12   \n",
       "3     1  M  60세이상  60.0   강남구   A  1807440      1    104  A010404    12   \n",
       "4     1  M  60세이상  60.0   강남구   A  1807440      1    105  A010501    12   \n",
       "\n",
       "       구매일자  구매시간    구매금액  \n",
       "0  20140118    15   10000  \n",
       "1  20140203    15  129000  \n",
       "2  20140425    12    7000  \n",
       "3  20140425    12    2650  \n",
       "4  20140425    12    9800  "
      ]
     },
     "execution_count": 19,
     "metadata": {},
     "output_type": "execute_result"
    }
   ],
   "source": [
    "# 서울시 고객 데이터의 구매내역만 불러온다.\n",
    "s_df_purchase = pd.merge(s_df_client, df_purchase, how='left')\n",
    "#s_df_purchase.drop(['성별', '연령대', '거주지역', 'S_koo'], axis='columns', inplace=True)\n",
    "s_df_purchase.head()"
   ]
  },
  {
   "cell_type": "code",
   "execution_count": 20,
   "metadata": {},
   "outputs": [
    {
     "data": {
      "text/plain": [
       "(8181992, 14)"
      ]
     },
     "execution_count": 20,
     "metadata": {},
     "output_type": "execute_result"
    }
   ],
   "source": [
    "s_df_purchase.shape"
   ]
  },
  {
   "cell_type": "code",
   "execution_count": 21,
   "metadata": {},
   "outputs": [],
   "source": [
    "# 구매내역 데이터 파일 크기가 크기 때문에 서울시 구매내역으로 데이터를 대체하여 새로 저장한다.\n",
    "s_df_purchase.to_csv('./data/02_s_purchaseTR.csv', index=False)"
   ]
  },
  {
   "cell_type": "code",
   "execution_count": 22,
   "metadata": {},
   "outputs": [
    {
     "data": {
      "text/html": [
       "<div>\n",
       "<style scoped>\n",
       "    .dataframe tbody tr th:only-of-type {\n",
       "        vertical-align: middle;\n",
       "    }\n",
       "\n",
       "    .dataframe tbody tr th {\n",
       "        vertical-align: top;\n",
       "    }\n",
       "\n",
       "    .dataframe thead th {\n",
       "        text-align: right;\n",
       "    }\n",
       "</style>\n",
       "<table border=\"1\" class=\"dataframe\">\n",
       "  <thead>\n",
       "    <tr style=\"text-align: right;\">\n",
       "      <th></th>\n",
       "      <th>고객번호</th>\n",
       "      <th>성별</th>\n",
       "      <th>연령대</th>\n",
       "      <th>거주지역</th>\n",
       "      <th>S_koo</th>\n",
       "      <th>제휴사</th>\n",
       "      <th>영수증번호</th>\n",
       "      <th>대분류코드</th>\n",
       "      <th>중분류코드</th>\n",
       "      <th>소분류코드</th>\n",
       "      <th>점포코드</th>\n",
       "      <th>구매일자</th>\n",
       "      <th>구매시간</th>\n",
       "      <th>구매금액</th>\n",
       "    </tr>\n",
       "  </thead>\n",
       "  <tbody>\n",
       "    <tr>\n",
       "      <td>0</td>\n",
       "      <td>1</td>\n",
       "      <td>M</td>\n",
       "      <td>60세이상</td>\n",
       "      <td>60.0</td>\n",
       "      <td>강남구</td>\n",
       "      <td>A</td>\n",
       "      <td>1239451</td>\n",
       "      <td>2</td>\n",
       "      <td>201</td>\n",
       "      <td>A020105</td>\n",
       "      <td>12</td>\n",
       "      <td>20140118</td>\n",
       "      <td>15</td>\n",
       "      <td>10000</td>\n",
       "    </tr>\n",
       "    <tr>\n",
       "      <td>1</td>\n",
       "      <td>1</td>\n",
       "      <td>M</td>\n",
       "      <td>60세이상</td>\n",
       "      <td>60.0</td>\n",
       "      <td>강남구</td>\n",
       "      <td>A</td>\n",
       "      <td>1319908</td>\n",
       "      <td>4</td>\n",
       "      <td>402</td>\n",
       "      <td>A040214</td>\n",
       "      <td>20</td>\n",
       "      <td>20140203</td>\n",
       "      <td>15</td>\n",
       "      <td>129000</td>\n",
       "    </tr>\n",
       "    <tr>\n",
       "      <td>2</td>\n",
       "      <td>1</td>\n",
       "      <td>M</td>\n",
       "      <td>60세이상</td>\n",
       "      <td>60.0</td>\n",
       "      <td>강남구</td>\n",
       "      <td>A</td>\n",
       "      <td>1807440</td>\n",
       "      <td>1</td>\n",
       "      <td>103</td>\n",
       "      <td>A010302</td>\n",
       "      <td>12</td>\n",
       "      <td>20140425</td>\n",
       "      <td>12</td>\n",
       "      <td>7000</td>\n",
       "    </tr>\n",
       "    <tr>\n",
       "      <td>3</td>\n",
       "      <td>1</td>\n",
       "      <td>M</td>\n",
       "      <td>60세이상</td>\n",
       "      <td>60.0</td>\n",
       "      <td>강남구</td>\n",
       "      <td>A</td>\n",
       "      <td>1807440</td>\n",
       "      <td>1</td>\n",
       "      <td>104</td>\n",
       "      <td>A010404</td>\n",
       "      <td>12</td>\n",
       "      <td>20140425</td>\n",
       "      <td>12</td>\n",
       "      <td>2650</td>\n",
       "    </tr>\n",
       "    <tr>\n",
       "      <td>4</td>\n",
       "      <td>1</td>\n",
       "      <td>M</td>\n",
       "      <td>60세이상</td>\n",
       "      <td>60.0</td>\n",
       "      <td>강남구</td>\n",
       "      <td>A</td>\n",
       "      <td>1807440</td>\n",
       "      <td>1</td>\n",
       "      <td>105</td>\n",
       "      <td>A010501</td>\n",
       "      <td>12</td>\n",
       "      <td>20140425</td>\n",
       "      <td>12</td>\n",
       "      <td>9800</td>\n",
       "    </tr>\n",
       "  </tbody>\n",
       "</table>\n",
       "</div>"
      ],
      "text/plain": [
       "   고객번호 성별    연령대  거주지역 S_koo 제휴사    영수증번호  대분류코드  중분류코드    소분류코드  점포코드  \\\n",
       "0     1  M  60세이상  60.0   강남구   A  1239451      2    201  A020105    12   \n",
       "1     1  M  60세이상  60.0   강남구   A  1319908      4    402  A040214    20   \n",
       "2     1  M  60세이상  60.0   강남구   A  1807440      1    103  A010302    12   \n",
       "3     1  M  60세이상  60.0   강남구   A  1807440      1    104  A010404    12   \n",
       "4     1  M  60세이상  60.0   강남구   A  1807440      1    105  A010501    12   \n",
       "\n",
       "       구매일자  구매시간    구매금액  \n",
       "0  20140118    15   10000  \n",
       "1  20140203    15  129000  \n",
       "2  20140425    12    7000  \n",
       "3  20140425    12    2650  \n",
       "4  20140425    12    9800  "
      ]
     },
     "execution_count": 22,
     "metadata": {},
     "output_type": "execute_result"
    }
   ],
   "source": [
    "# 서울시 고객의 구매내역 데이터 불러오기\n",
    "s_df_purchase = pd.read_csv('./data/02_s_purchaseTR.csv')\n",
    "s_df_purchase.head()"
   ]
  },
  {
   "cell_type": "markdown",
   "metadata": {},
   "source": [
    "## 2-3. product data"
   ]
  },
  {
   "cell_type": "code",
   "execution_count": 23,
   "metadata": {},
   "outputs": [
    {
     "data": {
      "text/html": [
       "<div>\n",
       "<style scoped>\n",
       "    .dataframe tbody tr th:only-of-type {\n",
       "        vertical-align: middle;\n",
       "    }\n",
       "\n",
       "    .dataframe tbody tr th {\n",
       "        vertical-align: top;\n",
       "    }\n",
       "\n",
       "    .dataframe thead th {\n",
       "        text-align: right;\n",
       "    }\n",
       "</style>\n",
       "<table border=\"1\" class=\"dataframe\">\n",
       "  <thead>\n",
       "    <tr style=\"text-align: right;\">\n",
       "      <th></th>\n",
       "      <th>제휴사</th>\n",
       "      <th>대분류코드</th>\n",
       "      <th>중분류코드</th>\n",
       "      <th>소분류코드</th>\n",
       "      <th>중분류명</th>\n",
       "      <th>소분류명</th>\n",
       "    </tr>\n",
       "  </thead>\n",
       "  <tbody>\n",
       "    <tr>\n",
       "      <td>0</td>\n",
       "      <td>A</td>\n",
       "      <td>1</td>\n",
       "      <td>101</td>\n",
       "      <td>A010101</td>\n",
       "      <td>일용잡화</td>\n",
       "      <td>위생세제</td>\n",
       "    </tr>\n",
       "    <tr>\n",
       "      <td>1</td>\n",
       "      <td>A</td>\n",
       "      <td>1</td>\n",
       "      <td>101</td>\n",
       "      <td>A010102</td>\n",
       "      <td>일용잡화</td>\n",
       "      <td>휴지류</td>\n",
       "    </tr>\n",
       "    <tr>\n",
       "      <td>2</td>\n",
       "      <td>A</td>\n",
       "      <td>1</td>\n",
       "      <td>101</td>\n",
       "      <td>A010103</td>\n",
       "      <td>일용잡화</td>\n",
       "      <td>뷰티상품</td>\n",
       "    </tr>\n",
       "    <tr>\n",
       "      <td>3</td>\n",
       "      <td>A</td>\n",
       "      <td>1</td>\n",
       "      <td>101</td>\n",
       "      <td>A010104</td>\n",
       "      <td>일용잡화</td>\n",
       "      <td>일용잡화</td>\n",
       "    </tr>\n",
       "    <tr>\n",
       "      <td>4</td>\n",
       "      <td>A</td>\n",
       "      <td>1</td>\n",
       "      <td>101</td>\n",
       "      <td>A010105</td>\n",
       "      <td>일용잡화</td>\n",
       "      <td>세트상품</td>\n",
       "    </tr>\n",
       "  </tbody>\n",
       "</table>\n",
       "</div>"
      ],
      "text/plain": [
       "  제휴사  대분류코드  중분류코드    소분류코드  중분류명  소분류명\n",
       "0   A      1    101  A010101  일용잡화  위생세제\n",
       "1   A      1    101  A010102  일용잡화   휴지류\n",
       "2   A      1    101  A010103  일용잡화  뷰티상품\n",
       "3   A      1    101  A010104  일용잡화  일용잡화\n",
       "4   A      1    101  A010105  일용잡화  세트상품"
      ]
     },
     "execution_count": 23,
     "metadata": {},
     "output_type": "execute_result"
    }
   ],
   "source": [
    "# 상품정보 불러오기\n",
    "df_product =  pd.read_csv('./data/03product.csv', encoding='CP949')\n",
    "df_product.head()"
   ]
  },
  {
   "cell_type": "markdown",
   "metadata": {},
   "source": [
    "## 2-4. channel data"
   ]
  },
  {
   "cell_type": "code",
   "execution_count": 24,
   "metadata": {
    "scrolled": true
   },
   "outputs": [
    {
     "data": {
      "text/html": [
       "<div>\n",
       "<style scoped>\n",
       "    .dataframe tbody tr th:only-of-type {\n",
       "        vertical-align: middle;\n",
       "    }\n",
       "\n",
       "    .dataframe tbody tr th {\n",
       "        vertical-align: top;\n",
       "    }\n",
       "\n",
       "    .dataframe thead th {\n",
       "        text-align: right;\n",
       "    }\n",
       "</style>\n",
       "<table border=\"1\" class=\"dataframe\">\n",
       "  <thead>\n",
       "    <tr style=\"text-align: right;\">\n",
       "      <th></th>\n",
       "      <th>고객번호</th>\n",
       "      <th>제휴사</th>\n",
       "      <th>이용횟수</th>\n",
       "    </tr>\n",
       "  </thead>\n",
       "  <tbody>\n",
       "    <tr>\n",
       "      <td>0</td>\n",
       "      <td>7</td>\n",
       "      <td>A_MOBILE/APP</td>\n",
       "      <td>4</td>\n",
       "    </tr>\n",
       "    <tr>\n",
       "      <td>1</td>\n",
       "      <td>14</td>\n",
       "      <td>A_MOBILE/APP</td>\n",
       "      <td>1</td>\n",
       "    </tr>\n",
       "    <tr>\n",
       "      <td>2</td>\n",
       "      <td>42</td>\n",
       "      <td>B_MOBILE/APP</td>\n",
       "      <td>23</td>\n",
       "    </tr>\n",
       "    <tr>\n",
       "      <td>3</td>\n",
       "      <td>74</td>\n",
       "      <td>A_MOBILE/APP</td>\n",
       "      <td>1</td>\n",
       "    </tr>\n",
       "    <tr>\n",
       "      <td>4</td>\n",
       "      <td>74</td>\n",
       "      <td>B_MOBILE/APP</td>\n",
       "      <td>30</td>\n",
       "    </tr>\n",
       "  </tbody>\n",
       "</table>\n",
       "</div>"
      ],
      "text/plain": [
       "   고객번호           제휴사  이용횟수\n",
       "0     7  A_MOBILE/APP     4\n",
       "1    14  A_MOBILE/APP     1\n",
       "2    42  B_MOBILE/APP    23\n",
       "3    74  A_MOBILE/APP     1\n",
       "4    74  B_MOBILE/APP    30"
      ]
     },
     "execution_count": 24,
     "metadata": {},
     "output_type": "execute_result"
    }
   ],
   "source": [
    "# 채널정보 불러오기\n",
    "df_channel = pd.read_csv(\"./data/06channel.csv\", encoding=\"cp949\")\n",
    "df_channel.head()"
   ]
  },
  {
   "cell_type": "code",
   "execution_count": 25,
   "metadata": {},
   "outputs": [
    {
     "data": {
      "text/plain": [
       "고객번호    0\n",
       "제휴사     0\n",
       "이용횟수    0\n",
       "dtype: int64"
      ]
     },
     "execution_count": 25,
     "metadata": {},
     "output_type": "execute_result"
    }
   ],
   "source": [
    "df_channel.isnull().sum()"
   ]
  },
  {
   "cell_type": "code",
   "execution_count": 26,
   "metadata": {
    "scrolled": true
   },
   "outputs": [
    {
     "data": {
      "text/html": [
       "<div>\n",
       "<style scoped>\n",
       "    .dataframe tbody tr th:only-of-type {\n",
       "        vertical-align: middle;\n",
       "    }\n",
       "\n",
       "    .dataframe tbody tr th {\n",
       "        vertical-align: top;\n",
       "    }\n",
       "\n",
       "    .dataframe thead th {\n",
       "        text-align: right;\n",
       "    }\n",
       "</style>\n",
       "<table border=\"1\" class=\"dataframe\">\n",
       "  <thead>\n",
       "    <tr style=\"text-align: right;\">\n",
       "      <th></th>\n",
       "      <th>고객번호</th>\n",
       "      <th>성별</th>\n",
       "      <th>연령대</th>\n",
       "      <th>거주지역</th>\n",
       "      <th>S_koo</th>\n",
       "      <th>제휴사</th>\n",
       "      <th>이용횟수</th>\n",
       "    </tr>\n",
       "  </thead>\n",
       "  <tbody>\n",
       "    <tr>\n",
       "      <td>0</td>\n",
       "      <td>1</td>\n",
       "      <td>M</td>\n",
       "      <td>60세이상</td>\n",
       "      <td>60.0</td>\n",
       "      <td>강남구</td>\n",
       "      <td>NaN</td>\n",
       "      <td>NaN</td>\n",
       "    </tr>\n",
       "    <tr>\n",
       "      <td>1</td>\n",
       "      <td>3</td>\n",
       "      <td>M</td>\n",
       "      <td>60세이상</td>\n",
       "      <td>33.0</td>\n",
       "      <td>은평구</td>\n",
       "      <td>NaN</td>\n",
       "      <td>NaN</td>\n",
       "    </tr>\n",
       "    <tr>\n",
       "      <td>2</td>\n",
       "      <td>4</td>\n",
       "      <td>F</td>\n",
       "      <td>60세이상</td>\n",
       "      <td>16.0</td>\n",
       "      <td>노원구</td>\n",
       "      <td>NaN</td>\n",
       "      <td>NaN</td>\n",
       "    </tr>\n",
       "    <tr>\n",
       "      <td>3</td>\n",
       "      <td>7</td>\n",
       "      <td>F</td>\n",
       "      <td>60세이상</td>\n",
       "      <td>36.0</td>\n",
       "      <td>서대문구</td>\n",
       "      <td>A_MOBILE/APP</td>\n",
       "      <td>4.0</td>\n",
       "    </tr>\n",
       "    <tr>\n",
       "      <td>4</td>\n",
       "      <td>8</td>\n",
       "      <td>M</td>\n",
       "      <td>60세이상</td>\n",
       "      <td>10.0</td>\n",
       "      <td>강북구</td>\n",
       "      <td>NaN</td>\n",
       "      <td>NaN</td>\n",
       "    </tr>\n",
       "  </tbody>\n",
       "</table>\n",
       "</div>"
      ],
      "text/plain": [
       "   고객번호 성별    연령대  거주지역 S_koo           제휴사  이용횟수\n",
       "0     1  M  60세이상  60.0   강남구           NaN   NaN\n",
       "1     3  M  60세이상  33.0   은평구           NaN   NaN\n",
       "2     4  F  60세이상  16.0   노원구           NaN   NaN\n",
       "3     7  F  60세이상  36.0  서대문구  A_MOBILE/APP   4.0\n",
       "4     8  M  60세이상  10.0   강북구           NaN   NaN"
      ]
     },
     "execution_count": 26,
     "metadata": {},
     "output_type": "execute_result"
    }
   ],
   "source": [
    "# 서울시 고객의 채널 데이터 변경\n",
    "s_df_channel = pd.merge(s_df_client, df_channel, how='left')\n",
    "s_df_channel.head()"
   ]
  },
  {
   "cell_type": "markdown",
   "metadata": {},
   "source": [
    "# 3. EDA(Exploratory Data Analysis)"
   ]
  },
  {
   "cell_type": "markdown",
   "metadata": {},
   "source": [
    "## 3-0. target"
   ]
  },
  {
   "cell_type": "code",
   "execution_count": 123,
   "metadata": {
    "scrolled": true
   },
   "outputs": [
    {
     "data": {
      "text/html": [
       "<div>\n",
       "<style scoped>\n",
       "    .dataframe tbody tr th:only-of-type {\n",
       "        vertical-align: middle;\n",
       "    }\n",
       "\n",
       "    .dataframe tbody tr th {\n",
       "        vertical-align: top;\n",
       "    }\n",
       "\n",
       "    .dataframe thead th {\n",
       "        text-align: right;\n",
       "    }\n",
       "</style>\n",
       "<table border=\"1\" class=\"dataframe\">\n",
       "  <thead>\n",
       "    <tr style=\"text-align: right;\">\n",
       "      <th></th>\n",
       "      <th>구매금액</th>\n",
       "      <th>구매금액_1년</th>\n",
       "      <th>구매금액구간</th>\n",
       "    </tr>\n",
       "    <tr>\n",
       "      <th>고객번호</th>\n",
       "      <th></th>\n",
       "      <th></th>\n",
       "      <th></th>\n",
       "    </tr>\n",
       "  </thead>\n",
       "  <tbody>\n",
       "    <tr>\n",
       "      <td>1</td>\n",
       "      <td>85042550</td>\n",
       "      <td>42521275</td>\n",
       "      <td>1</td>\n",
       "    </tr>\n",
       "    <tr>\n",
       "      <td>3</td>\n",
       "      <td>3165167</td>\n",
       "      <td>1582583</td>\n",
       "      <td>1</td>\n",
       "    </tr>\n",
       "    <tr>\n",
       "      <td>4</td>\n",
       "      <td>16693810</td>\n",
       "      <td>8346905</td>\n",
       "      <td>1</td>\n",
       "    </tr>\n",
       "    <tr>\n",
       "      <td>7</td>\n",
       "      <td>73726276</td>\n",
       "      <td>36863138</td>\n",
       "      <td>1</td>\n",
       "    </tr>\n",
       "    <tr>\n",
       "      <td>8</td>\n",
       "      <td>62355952</td>\n",
       "      <td>31177976</td>\n",
       "      <td>1</td>\n",
       "    </tr>\n",
       "  </tbody>\n",
       "</table>\n",
       "</div>"
      ],
      "text/plain": [
       "          구매금액   구매금액_1년  구매금액구간\n",
       "고객번호                            \n",
       "1     85042550  42521275       1\n",
       "3      3165167   1582583       1\n",
       "4     16693810   8346905       1\n",
       "7     73726276  36863138       1\n",
       "8     62355952  31177976       1"
      ]
     },
     "execution_count": 123,
     "metadata": {},
     "output_type": "execute_result"
    }
   ],
   "source": [
    "# 고객별 1년간 구매금액 및 구매금액구간을 구한다.\n",
    "custTotal = s_df_purchase.groupby(s_df_purchase['고객번호']).sum().iloc[:,-2:]\n",
    "\n",
    "custTotal['구매금액_1년'] = custTotal['구매금액'] // 2\n",
    "\n",
    "bins = np.linspace(custTotal['구매금액_1년'].min(), custTotal['구매금액_1년'].max(), 20)\n",
    "custTotal['구매금액구간'] = np.digitize(custTotal['구매금액_1년'], bins)\n",
    "\n",
    "custTotal = custTotal.iloc[:,-3:]\n",
    "\n",
    "custTotal.head()"
   ]
  },
  {
   "cell_type": "code",
   "execution_count": 28,
   "metadata": {},
   "outputs": [
    {
     "data": {
      "text/plain": [
       "1     5491\n",
       "2      277\n",
       "3       44\n",
       "4       14\n",
       "6        4\n",
       "7        2\n",
       "10       2\n",
       "5        2\n",
       "8        2\n",
       "17       1\n",
       "9        1\n",
       "20       1\n",
       "Name: 구매금액구간, dtype: int64"
      ]
     },
     "execution_count": 28,
     "metadata": {},
     "output_type": "execute_result"
    }
   ],
   "source": [
    "custTotal['구매금액구간'].value_counts()"
   ]
  },
  {
   "cell_type": "code",
   "execution_count": 29,
   "metadata": {
    "scrolled": false
   },
   "outputs": [
    {
     "data": {
      "text/plain": [
       "5841"
      ]
     },
     "execution_count": 29,
     "metadata": {},
     "output_type": "execute_result"
    }
   ],
   "source": [
    "len(custTotal)"
   ]
  },
  {
   "cell_type": "code",
   "execution_count": 30,
   "metadata": {},
   "outputs": [
    {
     "data": {
      "text/plain": [
       "(array([5.768e+03, 5.800e+01, 6.000e+00, 4.000e+00, 3.000e+00, 0.000e+00,\n",
       "        0.000e+00, 0.000e+00, 1.000e+00, 1.000e+00]),\n",
       " array([ 1. ,  2.9,  4.8,  6.7,  8.6, 10.5, 12.4, 14.3, 16.2, 18.1, 20. ]),\n",
       " <a list of 10 Patch objects>)"
      ]
     },
     "execution_count": 30,
     "metadata": {},
     "output_type": "execute_result"
    },
    {
     "data": {
      "image/png": "[encoded data removed]",
      "text/plain": [
       "<Figure size 432x288 with 1 Axes>"
      ]
     },
     "metadata": {
      "needs_background": "light"
     },
     "output_type": "display_data"
    }
   ],
   "source": [
    "plt.hist(custTotal['구매금액구간'])"
   ]
  },
  {
   "cell_type": "code",
   "execution_count": 31,
   "metadata": {},
   "outputs": [],
   "source": [
    "# 서울시 고객 전체에서 분포가 좌편향인 것을 확인할 수 있어서 적당한 기준을 통해 target을 설정한다."
   ]
  },
  {
   "cell_type": "code",
   "execution_count": 124,
   "metadata": {},
   "outputs": [],
   "source": [
    "custTotal['VIP'] = 0"
   ]
  },
  {
   "cell_type": "code",
   "execution_count": 125,
   "metadata": {
    "scrolled": false
   },
   "outputs": [],
   "source": [
    "# VIP 기준으로 고객을 구분짓는다(롯데백화점 400만원 + 롯데마트 600만원 + 롯데슈퍼 240만원 = 1240만원)\n",
    "custTotal.loc[custTotal['구매금액_1년']>=12400000, 'VIP']=1\n",
    "custTotal.loc[custTotal['구매금액_1년']<12400000, 'VIP']=0"
   ]
  },
  {
   "cell_type": "code",
   "execution_count": 34,
   "metadata": {},
   "outputs": [
    {
     "data": {
      "text/html": [
       "<div>\n",
       "<style scoped>\n",
       "    .dataframe tbody tr th:only-of-type {\n",
       "        vertical-align: middle;\n",
       "    }\n",
       "\n",
       "    .dataframe tbody tr th {\n",
       "        vertical-align: top;\n",
       "    }\n",
       "\n",
       "    .dataframe thead th {\n",
       "        text-align: right;\n",
       "    }\n",
       "</style>\n",
       "<table border=\"1\" class=\"dataframe\">\n",
       "  <thead>\n",
       "    <tr style=\"text-align: right;\">\n",
       "      <th></th>\n",
       "      <th>구매금액</th>\n",
       "      <th>구매금액_1년</th>\n",
       "      <th>구매금액구간</th>\n",
       "      <th>VIP</th>\n",
       "    </tr>\n",
       "    <tr>\n",
       "      <th>고객번호</th>\n",
       "      <th></th>\n",
       "      <th></th>\n",
       "      <th></th>\n",
       "      <th></th>\n",
       "    </tr>\n",
       "  </thead>\n",
       "  <tbody>\n",
       "    <tr>\n",
       "      <td>1</td>\n",
       "      <td>85042550</td>\n",
       "      <td>42521275</td>\n",
       "      <td>1</td>\n",
       "      <td>1</td>\n",
       "    </tr>\n",
       "    <tr>\n",
       "      <td>3</td>\n",
       "      <td>3165167</td>\n",
       "      <td>1582583</td>\n",
       "      <td>1</td>\n",
       "      <td>0</td>\n",
       "    </tr>\n",
       "    <tr>\n",
       "      <td>4</td>\n",
       "      <td>16693810</td>\n",
       "      <td>8346905</td>\n",
       "      <td>1</td>\n",
       "      <td>0</td>\n",
       "    </tr>\n",
       "    <tr>\n",
       "      <td>7</td>\n",
       "      <td>73726276</td>\n",
       "      <td>36863138</td>\n",
       "      <td>1</td>\n",
       "      <td>1</td>\n",
       "    </tr>\n",
       "    <tr>\n",
       "      <td>8</td>\n",
       "      <td>62355952</td>\n",
       "      <td>31177976</td>\n",
       "      <td>1</td>\n",
       "      <td>1</td>\n",
       "    </tr>\n",
       "  </tbody>\n",
       "</table>\n",
       "</div>"
      ],
      "text/plain": [
       "          구매금액   구매금액_1년  구매금액구간  VIP\n",
       "고객번호                                 \n",
       "1     85042550  42521275       1    1\n",
       "3      3165167   1582583       1    0\n",
       "4     16693810   8346905       1    0\n",
       "7     73726276  36863138       1    1\n",
       "8     62355952  31177976       1    1"
      ]
     },
     "execution_count": 34,
     "metadata": {},
     "output_type": "execute_result"
    }
   ],
   "source": [
    "custTotal.head()"
   ]
  },
  {
   "cell_type": "code",
   "execution_count": 35,
   "metadata": {
    "scrolled": true
   },
   "outputs": [
    {
     "data": {
      "text/plain": [
       "0    3191\n",
       "1    2650\n",
       "Name: VIP, dtype: int64"
      ]
     },
     "execution_count": 35,
     "metadata": {},
     "output_type": "execute_result"
    }
   ],
   "source": [
    "custTotal['VIP'].value_counts()"
   ]
  },
  {
   "cell_type": "code",
   "execution_count": 36,
   "metadata": {
    "scrolled": true
   },
   "outputs": [
    {
     "data": {
      "text/plain": [
       "(array([3191.,    0.,    0.,    0.,    0.,    0.,    0.,    0.,    0.,\n",
       "        2650.]),\n",
       " array([0. , 0.1, 0.2, 0.3, 0.4, 0.5, 0.6, 0.7, 0.8, 0.9, 1. ]),\n",
       " <a list of 10 Patch objects>)"
      ]
     },
     "execution_count": 36,
     "metadata": {},
     "output_type": "execute_result"
    },
    {
     "data": {
      "image/png": "[encoded data removed]",
      "text/plain": [
       "<Figure size 432x288 with 1 Axes>"
      ]
     },
     "metadata": {
      "needs_background": "light"
     },
     "output_type": "display_data"
    }
   ],
   "source": [
    "plt.hist(custTotal['VIP'])"
   ]
  },
  {
   "cell_type": "markdown",
   "metadata": {},
   "source": [
    "## 3-1. client data"
   ]
  },
  {
   "cell_type": "code",
   "execution_count": 37,
   "metadata": {
    "scrolled": false
   },
   "outputs": [
    {
     "data": {
      "text/html": [
       "<div>\n",
       "<style scoped>\n",
       "    .dataframe tbody tr th:only-of-type {\n",
       "        vertical-align: middle;\n",
       "    }\n",
       "\n",
       "    .dataframe tbody tr th {\n",
       "        vertical-align: top;\n",
       "    }\n",
       "\n",
       "    .dataframe thead th {\n",
       "        text-align: right;\n",
       "    }\n",
       "</style>\n",
       "<table border=\"1\" class=\"dataframe\">\n",
       "  <thead>\n",
       "    <tr style=\"text-align: right;\">\n",
       "      <th></th>\n",
       "      <th>고객번호</th>\n",
       "      <th>성별</th>\n",
       "      <th>연령대</th>\n",
       "      <th>거주지역</th>\n",
       "      <th>S_koo</th>\n",
       "    </tr>\n",
       "  </thead>\n",
       "  <tbody>\n",
       "    <tr>\n",
       "      <td>0</td>\n",
       "      <td>1</td>\n",
       "      <td>M</td>\n",
       "      <td>60세이상</td>\n",
       "      <td>60.0</td>\n",
       "      <td>강남구</td>\n",
       "    </tr>\n",
       "    <tr>\n",
       "      <td>1</td>\n",
       "      <td>3</td>\n",
       "      <td>M</td>\n",
       "      <td>60세이상</td>\n",
       "      <td>33.0</td>\n",
       "      <td>은평구</td>\n",
       "    </tr>\n",
       "    <tr>\n",
       "      <td>2</td>\n",
       "      <td>4</td>\n",
       "      <td>F</td>\n",
       "      <td>60세이상</td>\n",
       "      <td>16.0</td>\n",
       "      <td>노원구</td>\n",
       "    </tr>\n",
       "    <tr>\n",
       "      <td>3</td>\n",
       "      <td>7</td>\n",
       "      <td>F</td>\n",
       "      <td>60세이상</td>\n",
       "      <td>36.0</td>\n",
       "      <td>서대문구</td>\n",
       "    </tr>\n",
       "    <tr>\n",
       "      <td>4</td>\n",
       "      <td>8</td>\n",
       "      <td>M</td>\n",
       "      <td>60세이상</td>\n",
       "      <td>10.0</td>\n",
       "      <td>강북구</td>\n",
       "    </tr>\n",
       "  </tbody>\n",
       "</table>\n",
       "</div>"
      ],
      "text/plain": [
       "   고객번호 성별    연령대  거주지역 S_koo\n",
       "0     1  M  60세이상  60.0   강남구\n",
       "1     3  M  60세이상  33.0   은평구\n",
       "2     4  F  60세이상  16.0   노원구\n",
       "3     7  F  60세이상  36.0  서대문구\n",
       "4     8  M  60세이상  10.0   강북구"
      ]
     },
     "execution_count": 37,
     "metadata": {},
     "output_type": "execute_result"
    }
   ],
   "source": [
    "s_df_client.head()"
   ]
  },
  {
   "cell_type": "code",
   "execution_count": 38,
   "metadata": {
    "scrolled": true
   },
   "outputs": [
    {
     "data": {
      "text/html": [
       "<div>\n",
       "<style scoped>\n",
       "    .dataframe tbody tr th:only-of-type {\n",
       "        vertical-align: middle;\n",
       "    }\n",
       "\n",
       "    .dataframe tbody tr th {\n",
       "        vertical-align: top;\n",
       "    }\n",
       "\n",
       "    .dataframe thead th {\n",
       "        text-align: right;\n",
       "    }\n",
       "</style>\n",
       "<table border=\"1\" class=\"dataframe\">\n",
       "  <thead>\n",
       "    <tr style=\"text-align: right;\">\n",
       "      <th></th>\n",
       "      <th>구매금액</th>\n",
       "      <th>구매금액_1년</th>\n",
       "      <th>구매금액구간</th>\n",
       "      <th>VIP</th>\n",
       "    </tr>\n",
       "    <tr>\n",
       "      <th>고객번호</th>\n",
       "      <th></th>\n",
       "      <th></th>\n",
       "      <th></th>\n",
       "      <th></th>\n",
       "    </tr>\n",
       "  </thead>\n",
       "  <tbody>\n",
       "    <tr>\n",
       "      <td>1</td>\n",
       "      <td>85042550</td>\n",
       "      <td>42521275</td>\n",
       "      <td>1</td>\n",
       "      <td>1</td>\n",
       "    </tr>\n",
       "    <tr>\n",
       "      <td>3</td>\n",
       "      <td>3165167</td>\n",
       "      <td>1582583</td>\n",
       "      <td>1</td>\n",
       "      <td>0</td>\n",
       "    </tr>\n",
       "    <tr>\n",
       "      <td>4</td>\n",
       "      <td>16693810</td>\n",
       "      <td>8346905</td>\n",
       "      <td>1</td>\n",
       "      <td>0</td>\n",
       "    </tr>\n",
       "    <tr>\n",
       "      <td>7</td>\n",
       "      <td>73726276</td>\n",
       "      <td>36863138</td>\n",
       "      <td>1</td>\n",
       "      <td>1</td>\n",
       "    </tr>\n",
       "    <tr>\n",
       "      <td>8</td>\n",
       "      <td>62355952</td>\n",
       "      <td>31177976</td>\n",
       "      <td>1</td>\n",
       "      <td>1</td>\n",
       "    </tr>\n",
       "  </tbody>\n",
       "</table>\n",
       "</div>"
      ],
      "text/plain": [
       "          구매금액   구매금액_1년  구매금액구간  VIP\n",
       "고객번호                                 \n",
       "1     85042550  42521275       1    1\n",
       "3      3165167   1582583       1    0\n",
       "4     16693810   8346905       1    0\n",
       "7     73726276  36863138       1    1\n",
       "8     62355952  31177976       1    1"
      ]
     },
     "execution_count": 38,
     "metadata": {},
     "output_type": "execute_result"
    }
   ],
   "source": [
    "custTotal.head()"
   ]
  },
  {
   "cell_type": "code",
   "execution_count": 127,
   "metadata": {
    "scrolled": true
   },
   "outputs": [
    {
     "data": {
      "text/html": [
       "<div>\n",
       "<style scoped>\n",
       "    .dataframe tbody tr th:only-of-type {\n",
       "        vertical-align: middle;\n",
       "    }\n",
       "\n",
       "    .dataframe tbody tr th {\n",
       "        vertical-align: top;\n",
       "    }\n",
       "\n",
       "    .dataframe thead th {\n",
       "        text-align: right;\n",
       "    }\n",
       "</style>\n",
       "<table border=\"1\" class=\"dataframe\">\n",
       "  <thead>\n",
       "    <tr style=\"text-align: right;\">\n",
       "      <th></th>\n",
       "      <th>고객번호</th>\n",
       "      <th>성별</th>\n",
       "      <th>연령대</th>\n",
       "      <th>거주지역</th>\n",
       "      <th>S_koo</th>\n",
       "      <th>구매금액</th>\n",
       "      <th>구매금액_1년</th>\n",
       "      <th>구매금액구간</th>\n",
       "      <th>VIP</th>\n",
       "    </tr>\n",
       "  </thead>\n",
       "  <tbody>\n",
       "    <tr>\n",
       "      <td>0</td>\n",
       "      <td>1</td>\n",
       "      <td>0</td>\n",
       "      <td>6.0</td>\n",
       "      <td>60.0</td>\n",
       "      <td>강남구</td>\n",
       "      <td>85042550</td>\n",
       "      <td>42521275</td>\n",
       "      <td>1</td>\n",
       "      <td>1</td>\n",
       "    </tr>\n",
       "    <tr>\n",
       "      <td>1</td>\n",
       "      <td>3</td>\n",
       "      <td>0</td>\n",
       "      <td>6.0</td>\n",
       "      <td>33.0</td>\n",
       "      <td>은평구</td>\n",
       "      <td>3165167</td>\n",
       "      <td>1582583</td>\n",
       "      <td>1</td>\n",
       "      <td>0</td>\n",
       "    </tr>\n",
       "    <tr>\n",
       "      <td>2</td>\n",
       "      <td>4</td>\n",
       "      <td>1</td>\n",
       "      <td>6.0</td>\n",
       "      <td>16.0</td>\n",
       "      <td>노원구</td>\n",
       "      <td>16693810</td>\n",
       "      <td>8346905</td>\n",
       "      <td>1</td>\n",
       "      <td>0</td>\n",
       "    </tr>\n",
       "    <tr>\n",
       "      <td>3</td>\n",
       "      <td>7</td>\n",
       "      <td>1</td>\n",
       "      <td>6.0</td>\n",
       "      <td>36.0</td>\n",
       "      <td>서대문구</td>\n",
       "      <td>73726276</td>\n",
       "      <td>36863138</td>\n",
       "      <td>1</td>\n",
       "      <td>1</td>\n",
       "    </tr>\n",
       "    <tr>\n",
       "      <td>4</td>\n",
       "      <td>8</td>\n",
       "      <td>0</td>\n",
       "      <td>6.0</td>\n",
       "      <td>10.0</td>\n",
       "      <td>강북구</td>\n",
       "      <td>62355952</td>\n",
       "      <td>31177976</td>\n",
       "      <td>1</td>\n",
       "      <td>1</td>\n",
       "    </tr>\n",
       "  </tbody>\n",
       "</table>\n",
       "</div>"
      ],
      "text/plain": [
       "   고객번호  성별  연령대  거주지역 S_koo      구매금액   구매금액_1년  구매금액구간  VIP\n",
       "0     1   0  6.0  60.0   강남구  85042550  42521275       1    1\n",
       "1     3   0  6.0  33.0   은평구   3165167   1582583       1    0\n",
       "2     4   1  6.0  16.0   노원구  16693810   8346905       1    0\n",
       "3     7   1  6.0  36.0  서대문구  73726276  36863138       1    1\n",
       "4     8   0  6.0  10.0   강북구  62355952  31177976       1    1"
      ]
     },
     "execution_count": 127,
     "metadata": {},
     "output_type": "execute_result"
    }
   ],
   "source": [
    "custTotal = custTotal.reset_index()\n",
    "m_client = pd.merge(s_df_client, custTotal, how='left')\n",
    "m_client.head()"
   ]
  },
  {
   "cell_type": "markdown",
   "metadata": {},
   "source": [
    "### 성별"
   ]
  },
  {
   "cell_type": "code",
   "execution_count": 43,
   "metadata": {
    "scrolled": true
   },
   "outputs": [
    {
     "data": {
      "text/plain": [
       "F    4854\n",
       "M     987\n",
       "Name: 성별, dtype: int64"
      ]
     },
     "execution_count": 43,
     "metadata": {},
     "output_type": "execute_result"
    }
   ],
   "source": [
    "s_df_client['성별'].value_counts()"
   ]
  },
  {
   "cell_type": "code",
   "execution_count": 44,
   "metadata": {},
   "outputs": [],
   "source": [
    "# F(여성) = 1, M(남성) = 0\n",
    "for data in enumerate(s_df_client['성별'].unique()):\n",
    "    s_df_client['성별'].replace(data[1], data[0], inplace=True)"
   ]
  },
  {
   "cell_type": "code",
   "execution_count": 45,
   "metadata": {},
   "outputs": [
    {
     "data": {
      "text/plain": [
       "1    4854\n",
       "0     987\n",
       "Name: 성별, dtype: int64"
      ]
     },
     "execution_count": 45,
     "metadata": {},
     "output_type": "execute_result"
    }
   ],
   "source": [
    "s_df_client['성별'].value_counts()"
   ]
  },
  {
   "cell_type": "code",
   "execution_count": 47,
   "metadata": {
    "scrolled": true
   },
   "outputs": [
    {
     "data": {
      "text/html": [
       "<div>\n",
       "<style scoped>\n",
       "    .dataframe tbody tr th:only-of-type {\n",
       "        vertical-align: middle;\n",
       "    }\n",
       "\n",
       "    .dataframe tbody tr th {\n",
       "        vertical-align: top;\n",
       "    }\n",
       "\n",
       "    .dataframe thead th {\n",
       "        text-align: right;\n",
       "    }\n",
       "</style>\n",
       "<table border=\"1\" class=\"dataframe\">\n",
       "  <thead>\n",
       "    <tr style=\"text-align: right;\">\n",
       "      <th>성별</th>\n",
       "      <th>F</th>\n",
       "      <th>M</th>\n",
       "      <th>All</th>\n",
       "    </tr>\n",
       "    <tr>\n",
       "      <th>VIP</th>\n",
       "      <th></th>\n",
       "      <th></th>\n",
       "      <th></th>\n",
       "    </tr>\n",
       "  </thead>\n",
       "  <tbody>\n",
       "    <tr>\n",
       "      <td>0</td>\n",
       "      <td>2641</td>\n",
       "      <td>550</td>\n",
       "      <td>3191</td>\n",
       "    </tr>\n",
       "    <tr>\n",
       "      <td>1</td>\n",
       "      <td>2213</td>\n",
       "      <td>437</td>\n",
       "      <td>2650</td>\n",
       "    </tr>\n",
       "    <tr>\n",
       "      <td>All</td>\n",
       "      <td>4854</td>\n",
       "      <td>987</td>\n",
       "      <td>5841</td>\n",
       "    </tr>\n",
       "  </tbody>\n",
       "</table>\n",
       "</div>"
      ],
      "text/plain": [
       "성별      F    M   All\n",
       "VIP                 \n",
       "0    2641  550  3191\n",
       "1    2213  437  2650\n",
       "All  4854  987  5841"
      ]
     },
     "execution_count": 47,
     "metadata": {},
     "output_type": "execute_result"
    }
   ],
   "source": [
    "cTab_sex = pd.crosstab(m_client['VIP'], m_client['성별'], margins=True)\n",
    "cTab_sex"
   ]
  },
  {
   "cell_type": "markdown",
   "metadata": {},
   "source": [
    "### 연령"
   ]
  },
  {
   "cell_type": "code",
   "execution_count": 48,
   "metadata": {
    "scrolled": true
   },
   "outputs": [
    {
     "data": {
      "text/plain": [
       "45세~49세    1215\n",
       "40세~44세     998\n",
       "50세~54세     965\n",
       "35세~39세     685\n",
       "55세~59세     637\n",
       "60세이상       618\n",
       "30세~34세     438\n",
       "25세~29세     205\n",
       "20세~24세      76\n",
       "19세이하         4\n",
       "Name: 연령대, dtype: int64"
      ]
     },
     "execution_count": 48,
     "metadata": {},
     "output_type": "execute_result"
    }
   ],
   "source": [
    "s_df_client['연령대'].value_counts()"
   ]
  },
  {
   "cell_type": "code",
   "execution_count": 49,
   "metadata": {},
   "outputs": [],
   "source": [
    "#60세이상 : 6.0\n",
    "#55~59세 : 5.5\n",
    "#50~54세 : 5.0\n",
    "#45~49세 : 4.5\n",
    "#40~44세 : 4.0\n",
    "#35~39세 : 3.5\n",
    "#30~34세 : 3.0\n",
    "#25~29세 : 2.5\n",
    "#20~24세 : 2.0\n",
    "#19세이하 : 1.0"
   ]
  },
  {
   "cell_type": "code",
   "execution_count": 50,
   "metadata": {},
   "outputs": [
    {
     "data": {
      "text/plain": [
       "0       6.0\n",
       "1       6.0\n",
       "2       6.0\n",
       "3       6.0\n",
       "4       6.0\n",
       "       ... \n",
       "5836    5.0\n",
       "5837    2.5\n",
       "5838    2.0\n",
       "5839    2.0\n",
       "5840    2.0\n",
       "Name: 연령대, Length: 5841, dtype: object"
      ]
     },
     "execution_count": 50,
     "metadata": {},
     "output_type": "execute_result"
    }
   ],
   "source": [
    "# 이 부분을 포문 돌리려다 빡쳐서 걍 ..이렇게햇어\n",
    "# 숫자 는 20세~24세를 20으로 할지 2024로 할지 고민하다가 걍 일단 네자리로 하고  19세이하랑 60세 이상도\n",
    "# 네자리 맞추려고 저렇게 했엉\n",
    "s_df_client[\"연령대\"] = s_df_client[\"연령대\"].replace(\"19세이하\", \"1.0\")\n",
    "s_df_client[\"연령대\"] = s_df_client[\"연령대\"].replace(\"20세~24세\", \"2.0\")\n",
    "s_df_client[\"연령대\"] = s_df_client[\"연령대\"].replace(\"25세~29세\", \"2.5\")\n",
    "s_df_client[\"연령대\"] = s_df_client[\"연령대\"].replace(\"30세~34세\", \"3.0\")\n",
    "s_df_client[\"연령대\"] = s_df_client[\"연령대\"].replace(\"35세~39세\", \"3.5\")\n",
    "s_df_client[\"연령대\"] = s_df_client[\"연령대\"].replace(\"40세~44세\", \"4.0\")\n",
    "s_df_client[\"연령대\"] = s_df_client[\"연령대\"].replace(\"45세~49세\", \"4.5\")\n",
    "s_df_client[\"연령대\"] = s_df_client[\"연령대\"].replace(\"50세~54세\", \"5.0\")\n",
    "s_df_client[\"연령대\"] = s_df_client[\"연령대\"].replace(\"55세~59세\", \"5.5\")\n",
    "s_df_client[\"연령대\"] = s_df_client[\"연령대\"].replace(\"60세이상\", \"6.0\")\n",
    "\n",
    "s_df_client[\"연령대\"]"
   ]
  },
  {
   "cell_type": "code",
   "execution_count": 51,
   "metadata": {
    "scrolled": true
   },
   "outputs": [
    {
     "data": {
      "text/html": [
       "<div>\n",
       "<style scoped>\n",
       "    .dataframe tbody tr th:only-of-type {\n",
       "        vertical-align: middle;\n",
       "    }\n",
       "\n",
       "    .dataframe tbody tr th {\n",
       "        vertical-align: top;\n",
       "    }\n",
       "\n",
       "    .dataframe thead th {\n",
       "        text-align: right;\n",
       "    }\n",
       "</style>\n",
       "<table border=\"1\" class=\"dataframe\">\n",
       "  <thead>\n",
       "    <tr style=\"text-align: right;\">\n",
       "      <th>연령대</th>\n",
       "      <th>19세이하</th>\n",
       "      <th>20세~24세</th>\n",
       "      <th>25세~29세</th>\n",
       "      <th>30세~34세</th>\n",
       "      <th>35세~39세</th>\n",
       "      <th>40세~44세</th>\n",
       "      <th>45세~49세</th>\n",
       "      <th>50세~54세</th>\n",
       "      <th>55세~59세</th>\n",
       "      <th>60세이상</th>\n",
       "      <th>All</th>\n",
       "    </tr>\n",
       "    <tr>\n",
       "      <th>VIP</th>\n",
       "      <th></th>\n",
       "      <th></th>\n",
       "      <th></th>\n",
       "      <th></th>\n",
       "      <th></th>\n",
       "      <th></th>\n",
       "      <th></th>\n",
       "      <th></th>\n",
       "      <th></th>\n",
       "      <th></th>\n",
       "      <th></th>\n",
       "    </tr>\n",
       "  </thead>\n",
       "  <tbody>\n",
       "    <tr>\n",
       "      <td>0</td>\n",
       "      <td>4</td>\n",
       "      <td>65</td>\n",
       "      <td>147</td>\n",
       "      <td>270</td>\n",
       "      <td>358</td>\n",
       "      <td>553</td>\n",
       "      <td>634</td>\n",
       "      <td>523</td>\n",
       "      <td>323</td>\n",
       "      <td>314</td>\n",
       "      <td>3191</td>\n",
       "    </tr>\n",
       "    <tr>\n",
       "      <td>1</td>\n",
       "      <td>0</td>\n",
       "      <td>11</td>\n",
       "      <td>58</td>\n",
       "      <td>168</td>\n",
       "      <td>327</td>\n",
       "      <td>445</td>\n",
       "      <td>581</td>\n",
       "      <td>442</td>\n",
       "      <td>314</td>\n",
       "      <td>304</td>\n",
       "      <td>2650</td>\n",
       "    </tr>\n",
       "    <tr>\n",
       "      <td>All</td>\n",
       "      <td>4</td>\n",
       "      <td>76</td>\n",
       "      <td>205</td>\n",
       "      <td>438</td>\n",
       "      <td>685</td>\n",
       "      <td>998</td>\n",
       "      <td>1215</td>\n",
       "      <td>965</td>\n",
       "      <td>637</td>\n",
       "      <td>618</td>\n",
       "      <td>5841</td>\n",
       "    </tr>\n",
       "  </tbody>\n",
       "</table>\n",
       "</div>"
      ],
      "text/plain": [
       "연령대  19세이하  20세~24세  25세~29세  30세~34세  35세~39세  40세~44세  45세~49세  50세~54세  \\\n",
       "VIP                                                                         \n",
       "0        4       65      147      270      358      553      634      523   \n",
       "1        0       11       58      168      327      445      581      442   \n",
       "All      4       76      205      438      685      998     1215      965   \n",
       "\n",
       "연령대  55세~59세  60세이상   All  \n",
       "VIP                        \n",
       "0        323    314  3191  \n",
       "1        314    304  2650  \n",
       "All      637    618  5841  "
      ]
     },
     "execution_count": 51,
     "metadata": {},
     "output_type": "execute_result"
    }
   ],
   "source": [
    "cTab_age = pd.crosstab(m_client['VIP'], m_client['연령대'], margins=True)\n",
    "cTab_age"
   ]
  },
  {
   "cell_type": "code",
   "execution_count": 52,
   "metadata": {},
   "outputs": [
    {
     "data": {
      "text/plain": [
       "5714    1.0\n",
       "5589    1.0\n",
       "5733    1.0\n",
       "5276    1.0\n",
       "4998    2.0\n",
       "       ... \n",
       "233     6.0\n",
       "232     6.0\n",
       "231     6.0\n",
       "229     6.0\n",
       "0       6.0\n",
       "Name: 연령대, Length: 5841, dtype: object"
      ]
     },
     "execution_count": 52,
     "metadata": {},
     "output_type": "execute_result"
    }
   ],
   "source": [
    "s_df_client['연령대'].sort_values()"
   ]
  },
  {
   "cell_type": "code",
   "execution_count": 53,
   "metadata": {
    "scrolled": true
   },
   "outputs": [
    {
     "data": {
      "text/plain": [
       "(array([   4.,   76.,  205.,  438.,  685.,  998., 1215.,  965.,  637.,\n",
       "         618.]),\n",
       " array([0. , 0.9, 1.8, 2.7, 3.6, 4.5, 5.4, 6.3, 7.2, 8.1, 9. ]),\n",
       " <a list of 10 Patch objects>)"
      ]
     },
     "execution_count": 53,
     "metadata": {},
     "output_type": "execute_result"
    },
    {
     "data": {
      "image/png": "[encoded data removed]",
      "text/plain": [
       "<Figure size 432x288 with 1 Axes>"
      ]
     },
     "metadata": {
      "needs_background": "light"
     },
     "output_type": "display_data"
    }
   ],
   "source": [
    "plt.hist(s_df_client['연령대'].sort_values())"
   ]
  },
  {
   "cell_type": "markdown",
   "metadata": {},
   "source": [
    "### 거주지역"
   ]
  },
  {
   "cell_type": "code",
   "execution_count": 54,
   "metadata": {
    "scrolled": true
   },
   "outputs": [
    {
     "data": {
      "text/plain": [
       "55.0    1431\n",
       "16.0     819\n",
       "60.0     603\n",
       "24.0     339\n",
       "49.0     329\n",
       "47.0     278\n",
       "13.0     220\n",
       "10.0     185\n",
       "75.0     175\n",
       "27.0     146\n",
       "36.0     139\n",
       "39.0     119\n",
       "65.0     114\n",
       "72.0     109\n",
       "43.0     109\n",
       "33.0      96\n",
       "87.0      95\n",
       "69.0      94\n",
       "52.0      88\n",
       "20.0      76\n",
       "82.0      68\n",
       "30.0      66\n",
       "45.0      54\n",
       "79.0      48\n",
       "85.0      41\n",
       "Name: 거주지역, dtype: int64"
      ]
     },
     "execution_count": 54,
     "metadata": {},
     "output_type": "execute_result"
    }
   ],
   "source": [
    "s_df_client['거주지역'].value_counts()"
   ]
  },
  {
   "cell_type": "code",
   "execution_count": 55,
   "metadata": {
    "scrolled": true
   },
   "outputs": [
    {
     "data": {
      "text/html": [
       "<div>\n",
       "<style scoped>\n",
       "    .dataframe tbody tr th:only-of-type {\n",
       "        vertical-align: middle;\n",
       "    }\n",
       "\n",
       "    .dataframe tbody tr th {\n",
       "        vertical-align: top;\n",
       "    }\n",
       "\n",
       "    .dataframe thead th {\n",
       "        text-align: right;\n",
       "    }\n",
       "</style>\n",
       "<table border=\"1\" class=\"dataframe\">\n",
       "  <thead>\n",
       "    <tr style=\"text-align: right;\">\n",
       "      <th>거주지역</th>\n",
       "      <th>10.0</th>\n",
       "      <th>13.0</th>\n",
       "      <th>16.0</th>\n",
       "      <th>20.0</th>\n",
       "      <th>24.0</th>\n",
       "      <th>27.0</th>\n",
       "      <th>30.0</th>\n",
       "      <th>33.0</th>\n",
       "      <th>36.0</th>\n",
       "      <th>39.0</th>\n",
       "      <th>...</th>\n",
       "      <th>60.0</th>\n",
       "      <th>65.0</th>\n",
       "      <th>69.0</th>\n",
       "      <th>72.0</th>\n",
       "      <th>75.0</th>\n",
       "      <th>79.0</th>\n",
       "      <th>82.0</th>\n",
       "      <th>85.0</th>\n",
       "      <th>87.0</th>\n",
       "      <th>All</th>\n",
       "    </tr>\n",
       "    <tr>\n",
       "      <th>VIP</th>\n",
       "      <th></th>\n",
       "      <th></th>\n",
       "      <th></th>\n",
       "      <th></th>\n",
       "      <th></th>\n",
       "      <th></th>\n",
       "      <th></th>\n",
       "      <th></th>\n",
       "      <th></th>\n",
       "      <th></th>\n",
       "      <th></th>\n",
       "      <th></th>\n",
       "      <th></th>\n",
       "      <th></th>\n",
       "      <th></th>\n",
       "      <th></th>\n",
       "      <th></th>\n",
       "      <th></th>\n",
       "      <th></th>\n",
       "      <th></th>\n",
       "      <th></th>\n",
       "    </tr>\n",
       "  </thead>\n",
       "  <tbody>\n",
       "    <tr>\n",
       "      <td>0</td>\n",
       "      <td>118</td>\n",
       "      <td>114</td>\n",
       "      <td>460</td>\n",
       "      <td>37</td>\n",
       "      <td>196</td>\n",
       "      <td>71</td>\n",
       "      <td>26</td>\n",
       "      <td>70</td>\n",
       "      <td>90</td>\n",
       "      <td>69</td>\n",
       "      <td>...</td>\n",
       "      <td>239</td>\n",
       "      <td>59</td>\n",
       "      <td>46</td>\n",
       "      <td>63</td>\n",
       "      <td>144</td>\n",
       "      <td>34</td>\n",
       "      <td>50</td>\n",
       "      <td>28</td>\n",
       "      <td>57</td>\n",
       "      <td>3191</td>\n",
       "    </tr>\n",
       "    <tr>\n",
       "      <td>1</td>\n",
       "      <td>67</td>\n",
       "      <td>106</td>\n",
       "      <td>359</td>\n",
       "      <td>39</td>\n",
       "      <td>143</td>\n",
       "      <td>75</td>\n",
       "      <td>40</td>\n",
       "      <td>26</td>\n",
       "      <td>49</td>\n",
       "      <td>50</td>\n",
       "      <td>...</td>\n",
       "      <td>364</td>\n",
       "      <td>55</td>\n",
       "      <td>48</td>\n",
       "      <td>46</td>\n",
       "      <td>31</td>\n",
       "      <td>14</td>\n",
       "      <td>18</td>\n",
       "      <td>13</td>\n",
       "      <td>38</td>\n",
       "      <td>2650</td>\n",
       "    </tr>\n",
       "    <tr>\n",
       "      <td>All</td>\n",
       "      <td>185</td>\n",
       "      <td>220</td>\n",
       "      <td>819</td>\n",
       "      <td>76</td>\n",
       "      <td>339</td>\n",
       "      <td>146</td>\n",
       "      <td>66</td>\n",
       "      <td>96</td>\n",
       "      <td>139</td>\n",
       "      <td>119</td>\n",
       "      <td>...</td>\n",
       "      <td>603</td>\n",
       "      <td>114</td>\n",
       "      <td>94</td>\n",
       "      <td>109</td>\n",
       "      <td>175</td>\n",
       "      <td>48</td>\n",
       "      <td>68</td>\n",
       "      <td>41</td>\n",
       "      <td>95</td>\n",
       "      <td>5841</td>\n",
       "    </tr>\n",
       "  </tbody>\n",
       "</table>\n",
       "<p>3 rows × 26 columns</p>\n",
       "</div>"
      ],
      "text/plain": [
       "거주지역  10.0  13.0  16.0  20.0  24.0  27.0  30.0  33.0  36.0  39.0  ...  60.0  \\\n",
       "VIP                                                               ...         \n",
       "0      118   114   460    37   196    71    26    70    90    69  ...   239   \n",
       "1       67   106   359    39   143    75    40    26    49    50  ...   364   \n",
       "All    185   220   819    76   339   146    66    96   139   119  ...   603   \n",
       "\n",
       "거주지역  65.0  69.0  72.0  75.0  79.0  82.0  85.0  87.0   All  \n",
       "VIP                                                         \n",
       "0       59    46    63   144    34    50    28    57  3191  \n",
       "1       55    48    46    31    14    18    13    38  2650  \n",
       "All    114    94   109   175    48    68    41    95  5841  \n",
       "\n",
       "[3 rows x 26 columns]"
      ]
     },
     "execution_count": 55,
     "metadata": {},
     "output_type": "execute_result"
    }
   ],
   "source": [
    "cTab_place = pd.crosstab(m_client['VIP'], m_client['거주지역'], margins=True)\n",
    "cTab_place"
   ]
  },
  {
   "cell_type": "code",
   "execution_count": 56,
   "metadata": {
    "scrolled": false
   },
   "outputs": [
    {
     "data": {
      "text/plain": [
       "(array([1224.,  415.,  308.,  258.,  441., 1848.,  603.,  208.,  332.,\n",
       "         204.]),\n",
       " array([10. , 17.7, 25.4, 33.1, 40.8, 48.5, 56.2, 63.9, 71.6, 79.3, 87. ]),\n",
       " <a list of 10 Patch objects>)"
      ]
     },
     "execution_count": 56,
     "metadata": {},
     "output_type": "execute_result"
    },
    {
     "data": {
      "image/png": "[encoded data removed]",
      "text/plain": [
       "<Figure size 432x288 with 1 Axes>"
      ]
     },
     "metadata": {
      "needs_background": "light"
     },
     "output_type": "display_data"
    }
   ],
   "source": [
    "plt.hist(s_df_client['거주지역'])"
   ]
  },
  {
   "cell_type": "code",
   "execution_count": 57,
   "metadata": {},
   "outputs": [
    {
     "data": {
      "text/html": [
       "<div>\n",
       "<style scoped>\n",
       "    .dataframe tbody tr th:only-of-type {\n",
       "        vertical-align: middle;\n",
       "    }\n",
       "\n",
       "    .dataframe tbody tr th {\n",
       "        vertical-align: top;\n",
       "    }\n",
       "\n",
       "    .dataframe thead th {\n",
       "        text-align: right;\n",
       "    }\n",
       "</style>\n",
       "<table border=\"1\" class=\"dataframe\">\n",
       "  <thead>\n",
       "    <tr style=\"text-align: right;\">\n",
       "      <th></th>\n",
       "      <th>고객번호</th>\n",
       "      <th>성별</th>\n",
       "      <th>연령대</th>\n",
       "      <th>거주지역</th>\n",
       "      <th>S_koo</th>\n",
       "      <th>구매금액</th>\n",
       "      <th>구매금액_1년</th>\n",
       "      <th>구매금액구간</th>\n",
       "      <th>VIP</th>\n",
       "    </tr>\n",
       "  </thead>\n",
       "  <tbody>\n",
       "    <tr>\n",
       "      <td>0</td>\n",
       "      <td>1</td>\n",
       "      <td>M</td>\n",
       "      <td>60세이상</td>\n",
       "      <td>60.0</td>\n",
       "      <td>강남구</td>\n",
       "      <td>85042550</td>\n",
       "      <td>42521275</td>\n",
       "      <td>1</td>\n",
       "      <td>1</td>\n",
       "    </tr>\n",
       "    <tr>\n",
       "      <td>1</td>\n",
       "      <td>3</td>\n",
       "      <td>M</td>\n",
       "      <td>60세이상</td>\n",
       "      <td>33.0</td>\n",
       "      <td>은평구</td>\n",
       "      <td>3165167</td>\n",
       "      <td>1582583</td>\n",
       "      <td>1</td>\n",
       "      <td>0</td>\n",
       "    </tr>\n",
       "    <tr>\n",
       "      <td>2</td>\n",
       "      <td>4</td>\n",
       "      <td>F</td>\n",
       "      <td>60세이상</td>\n",
       "      <td>16.0</td>\n",
       "      <td>노원구</td>\n",
       "      <td>16693810</td>\n",
       "      <td>8346905</td>\n",
       "      <td>1</td>\n",
       "      <td>0</td>\n",
       "    </tr>\n",
       "    <tr>\n",
       "      <td>3</td>\n",
       "      <td>7</td>\n",
       "      <td>F</td>\n",
       "      <td>60세이상</td>\n",
       "      <td>36.0</td>\n",
       "      <td>서대문구</td>\n",
       "      <td>73726276</td>\n",
       "      <td>36863138</td>\n",
       "      <td>1</td>\n",
       "      <td>1</td>\n",
       "    </tr>\n",
       "    <tr>\n",
       "      <td>4</td>\n",
       "      <td>8</td>\n",
       "      <td>M</td>\n",
       "      <td>60세이상</td>\n",
       "      <td>10.0</td>\n",
       "      <td>강북구</td>\n",
       "      <td>62355952</td>\n",
       "      <td>31177976</td>\n",
       "      <td>1</td>\n",
       "      <td>1</td>\n",
       "    </tr>\n",
       "    <tr>\n",
       "      <td>...</td>\n",
       "      <td>...</td>\n",
       "      <td>...</td>\n",
       "      <td>...</td>\n",
       "      <td>...</td>\n",
       "      <td>...</td>\n",
       "      <td>...</td>\n",
       "      <td>...</td>\n",
       "      <td>...</td>\n",
       "      <td>...</td>\n",
       "    </tr>\n",
       "    <tr>\n",
       "      <td>5836</td>\n",
       "      <td>19371</td>\n",
       "      <td>F</td>\n",
       "      <td>50세~54세</td>\n",
       "      <td>52.0</td>\n",
       "      <td>강동구</td>\n",
       "      <td>6013639</td>\n",
       "      <td>3006819</td>\n",
       "      <td>1</td>\n",
       "      <td>0</td>\n",
       "    </tr>\n",
       "    <tr>\n",
       "      <td>5837</td>\n",
       "      <td>19375</td>\n",
       "      <td>F</td>\n",
       "      <td>25세~29세</td>\n",
       "      <td>49.0</td>\n",
       "      <td>광진구</td>\n",
       "      <td>21486594</td>\n",
       "      <td>10743297</td>\n",
       "      <td>1</td>\n",
       "      <td>0</td>\n",
       "    </tr>\n",
       "    <tr>\n",
       "      <td>5838</td>\n",
       "      <td>19376</td>\n",
       "      <td>M</td>\n",
       "      <td>20세~24세</td>\n",
       "      <td>24.0</td>\n",
       "      <td>동대문구</td>\n",
       "      <td>7068554</td>\n",
       "      <td>3534277</td>\n",
       "      <td>1</td>\n",
       "      <td>0</td>\n",
       "    </tr>\n",
       "    <tr>\n",
       "      <td>5839</td>\n",
       "      <td>19379</td>\n",
       "      <td>F</td>\n",
       "      <td>20세~24세</td>\n",
       "      <td>69.0</td>\n",
       "      <td>동작구</td>\n",
       "      <td>5779280</td>\n",
       "      <td>2889640</td>\n",
       "      <td>1</td>\n",
       "      <td>0</td>\n",
       "    </tr>\n",
       "    <tr>\n",
       "      <td>5840</td>\n",
       "      <td>19380</td>\n",
       "      <td>F</td>\n",
       "      <td>20세~24세</td>\n",
       "      <td>39.0</td>\n",
       "      <td>마포구</td>\n",
       "      <td>3912977</td>\n",
       "      <td>1956488</td>\n",
       "      <td>1</td>\n",
       "      <td>0</td>\n",
       "    </tr>\n",
       "  </tbody>\n",
       "</table>\n",
       "<p>5841 rows × 9 columns</p>\n",
       "</div>"
      ],
      "text/plain": [
       "       고객번호 성별      연령대  거주지역 S_koo      구매금액   구매금액_1년  구매금액구간  VIP\n",
       "0         1  M    60세이상  60.0   강남구  85042550  42521275       1    1\n",
       "1         3  M    60세이상  33.0   은평구   3165167   1582583       1    0\n",
       "2         4  F    60세이상  16.0   노원구  16693810   8346905       1    0\n",
       "3         7  F    60세이상  36.0  서대문구  73726276  36863138       1    1\n",
       "4         8  M    60세이상  10.0   강북구  62355952  31177976       1    1\n",
       "...     ... ..      ...   ...   ...       ...       ...     ...  ...\n",
       "5836  19371  F  50세~54세  52.0   강동구   6013639   3006819       1    0\n",
       "5837  19375  F  25세~29세  49.0   광진구  21486594  10743297       1    0\n",
       "5838  19376  M  20세~24세  24.0  동대문구   7068554   3534277       1    0\n",
       "5839  19379  F  20세~24세  69.0   동작구   5779280   2889640       1    0\n",
       "5840  19380  F  20세~24세  39.0   마포구   3912977   1956488       1    0\n",
       "\n",
       "[5841 rows x 9 columns]"
      ]
     },
     "execution_count": 57,
     "metadata": {},
     "output_type": "execute_result"
    }
   ],
   "source": [
    "m_client"
   ]
  },
  {
   "cell_type": "code",
   "execution_count": 58,
   "metadata": {
    "scrolled": true
   },
   "outputs": [
    {
     "data": {
      "text/plain": [
       "0       60.0\n",
       "3       36.0\n",
       "4       10.0\n",
       "7       43.0\n",
       "8       24.0\n",
       "        ... \n",
       "5815    52.0\n",
       "5817    43.0\n",
       "5819    39.0\n",
       "5823    39.0\n",
       "5830    16.0\n",
       "Name: 거주지역, Length: 2650, dtype: float64"
      ]
     },
     "execution_count": 58,
     "metadata": {},
     "output_type": "execute_result"
    }
   ],
   "source": [
    "vip_place = m_client['거주지역'][m_client['VIP'] == 1]\n",
    "vip_place"
   ]
  },
  {
   "cell_type": "code",
   "execution_count": 59,
   "metadata": {
    "scrolled": true
   },
   "outputs": [
    {
     "data": {
      "text/plain": [
       "1       33.0\n",
       "2       16.0\n",
       "5       24.0\n",
       "6       43.0\n",
       "10      33.0\n",
       "        ... \n",
       "5836    52.0\n",
       "5837    49.0\n",
       "5838    24.0\n",
       "5839    69.0\n",
       "5840    39.0\n",
       "Name: 거주지역, Length: 3191, dtype: float64"
      ]
     },
     "execution_count": 59,
     "metadata": {},
     "output_type": "execute_result"
    }
   ],
   "source": [
    "normal_place = m_client['거주지역'][m_client['VIP'] == 0]\n",
    "normal_place"
   ]
  },
  {
   "cell_type": "code",
   "execution_count": 60,
   "metadata": {},
   "outputs": [
    {
     "data": {
      "text/plain": [
       "<matplotlib.legend.Legend at 0x1eb30e5e908>"
      ]
     },
     "execution_count": 60,
     "metadata": {},
     "output_type": "execute_result"
    },
    {
     "data": {
      "image/png": "[encoded data removed]",
      "text/plain": [
       "<Figure size 720x720 with 1 Axes>"
      ]
     },
     "metadata": {
      "needs_background": "light"
     },
     "output_type": "display_data"
    }
   ],
   "source": [
    "plt.figure(figsize =(10, 10))\n",
    "vip_place.plot(kind='kde')\n",
    "normal_place.plot(kind='kde')\n",
    "plt.legend(['vip_place', 'normal_place'])"
   ]
  },
  {
   "cell_type": "code",
   "execution_count": 61,
   "metadata": {},
   "outputs": [
    {
     "data": {
      "text/plain": [
       "고객번호      -0.224066\n",
       "거주지역       0.013590\n",
       "구매금액       0.451925\n",
       "구매금액_1년    0.451925\n",
       "구매금액구간     0.183002\n",
       "VIP        1.000000\n",
       "Name: VIP, dtype: float64"
      ]
     },
     "execution_count": 61,
     "metadata": {},
     "output_type": "execute_result"
    }
   ],
   "source": [
    "m_client.corr()[\"VIP\"]"
   ]
  },
  {
   "cell_type": "markdown",
   "metadata": {},
   "source": [
    "## 3-2. purchase data"
   ]
  },
  {
   "cell_type": "code",
   "execution_count": 62,
   "metadata": {
    "scrolled": true
   },
   "outputs": [
    {
     "data": {
      "text/html": [
       "<div>\n",
       "<style scoped>\n",
       "    .dataframe tbody tr th:only-of-type {\n",
       "        vertical-align: middle;\n",
       "    }\n",
       "\n",
       "    .dataframe tbody tr th {\n",
       "        vertical-align: top;\n",
       "    }\n",
       "\n",
       "    .dataframe thead th {\n",
       "        text-align: right;\n",
       "    }\n",
       "</style>\n",
       "<table border=\"1\" class=\"dataframe\">\n",
       "  <thead>\n",
       "    <tr style=\"text-align: right;\">\n",
       "      <th></th>\n",
       "      <th>고객번호</th>\n",
       "      <th>성별</th>\n",
       "      <th>연령대</th>\n",
       "      <th>거주지역</th>\n",
       "      <th>S_koo</th>\n",
       "      <th>제휴사</th>\n",
       "      <th>영수증번호</th>\n",
       "      <th>대분류코드</th>\n",
       "      <th>중분류코드</th>\n",
       "      <th>소분류코드</th>\n",
       "      <th>점포코드</th>\n",
       "      <th>구매일자</th>\n",
       "      <th>구매시간</th>\n",
       "      <th>구매금액</th>\n",
       "    </tr>\n",
       "  </thead>\n",
       "  <tbody>\n",
       "    <tr>\n",
       "      <td>0</td>\n",
       "      <td>1</td>\n",
       "      <td>M</td>\n",
       "      <td>60세이상</td>\n",
       "      <td>60.0</td>\n",
       "      <td>강남구</td>\n",
       "      <td>A</td>\n",
       "      <td>1239451</td>\n",
       "      <td>2</td>\n",
       "      <td>201</td>\n",
       "      <td>A020105</td>\n",
       "      <td>12</td>\n",
       "      <td>20140118</td>\n",
       "      <td>15</td>\n",
       "      <td>10000</td>\n",
       "    </tr>\n",
       "    <tr>\n",
       "      <td>1</td>\n",
       "      <td>1</td>\n",
       "      <td>M</td>\n",
       "      <td>60세이상</td>\n",
       "      <td>60.0</td>\n",
       "      <td>강남구</td>\n",
       "      <td>A</td>\n",
       "      <td>1319908</td>\n",
       "      <td>4</td>\n",
       "      <td>402</td>\n",
       "      <td>A040214</td>\n",
       "      <td>20</td>\n",
       "      <td>20140203</td>\n",
       "      <td>15</td>\n",
       "      <td>129000</td>\n",
       "    </tr>\n",
       "    <tr>\n",
       "      <td>2</td>\n",
       "      <td>1</td>\n",
       "      <td>M</td>\n",
       "      <td>60세이상</td>\n",
       "      <td>60.0</td>\n",
       "      <td>강남구</td>\n",
       "      <td>A</td>\n",
       "      <td>1807440</td>\n",
       "      <td>1</td>\n",
       "      <td>103</td>\n",
       "      <td>A010302</td>\n",
       "      <td>12</td>\n",
       "      <td>20140425</td>\n",
       "      <td>12</td>\n",
       "      <td>7000</td>\n",
       "    </tr>\n",
       "    <tr>\n",
       "      <td>3</td>\n",
       "      <td>1</td>\n",
       "      <td>M</td>\n",
       "      <td>60세이상</td>\n",
       "      <td>60.0</td>\n",
       "      <td>강남구</td>\n",
       "      <td>A</td>\n",
       "      <td>1807440</td>\n",
       "      <td>1</td>\n",
       "      <td>104</td>\n",
       "      <td>A010404</td>\n",
       "      <td>12</td>\n",
       "      <td>20140425</td>\n",
       "      <td>12</td>\n",
       "      <td>2650</td>\n",
       "    </tr>\n",
       "    <tr>\n",
       "      <td>4</td>\n",
       "      <td>1</td>\n",
       "      <td>M</td>\n",
       "      <td>60세이상</td>\n",
       "      <td>60.0</td>\n",
       "      <td>강남구</td>\n",
       "      <td>A</td>\n",
       "      <td>1807440</td>\n",
       "      <td>1</td>\n",
       "      <td>105</td>\n",
       "      <td>A010501</td>\n",
       "      <td>12</td>\n",
       "      <td>20140425</td>\n",
       "      <td>12</td>\n",
       "      <td>9800</td>\n",
       "    </tr>\n",
       "  </tbody>\n",
       "</table>\n",
       "</div>"
      ],
      "text/plain": [
       "   고객번호 성별    연령대  거주지역 S_koo 제휴사    영수증번호  대분류코드  중분류코드    소분류코드  점포코드  \\\n",
       "0     1  M  60세이상  60.0   강남구   A  1239451      2    201  A020105    12   \n",
       "1     1  M  60세이상  60.0   강남구   A  1319908      4    402  A040214    20   \n",
       "2     1  M  60세이상  60.0   강남구   A  1807440      1    103  A010302    12   \n",
       "3     1  M  60세이상  60.0   강남구   A  1807440      1    104  A010404    12   \n",
       "4     1  M  60세이상  60.0   강남구   A  1807440      1    105  A010501    12   \n",
       "\n",
       "       구매일자  구매시간    구매금액  \n",
       "0  20140118    15   10000  \n",
       "1  20140203    15  129000  \n",
       "2  20140425    12    7000  \n",
       "3  20140425    12    2650  \n",
       "4  20140425    12    9800  "
      ]
     },
     "execution_count": 62,
     "metadata": {},
     "output_type": "execute_result"
    }
   ],
   "source": [
    "s_df_purchase.head()"
   ]
  },
  {
   "cell_type": "code",
   "execution_count": 128,
   "metadata": {},
   "outputs": [
    {
     "data": {
      "text/html": [
       "<div>\n",
       "<style scoped>\n",
       "    .dataframe tbody tr th:only-of-type {\n",
       "        vertical-align: middle;\n",
       "    }\n",
       "\n",
       "    .dataframe tbody tr th {\n",
       "        vertical-align: top;\n",
       "    }\n",
       "\n",
       "    .dataframe thead th {\n",
       "        text-align: right;\n",
       "    }\n",
       "</style>\n",
       "<table border=\"1\" class=\"dataframe\">\n",
       "  <thead>\n",
       "    <tr style=\"text-align: right;\">\n",
       "      <th></th>\n",
       "      <th>고객번호</th>\n",
       "      <th>구매금액</th>\n",
       "      <th>구매금액_1년</th>\n",
       "      <th>구매금액구간</th>\n",
       "      <th>VIP</th>\n",
       "    </tr>\n",
       "  </thead>\n",
       "  <tbody>\n",
       "    <tr>\n",
       "      <td>0</td>\n",
       "      <td>1</td>\n",
       "      <td>85042550</td>\n",
       "      <td>42521275</td>\n",
       "      <td>1</td>\n",
       "      <td>1</td>\n",
       "    </tr>\n",
       "    <tr>\n",
       "      <td>1</td>\n",
       "      <td>3</td>\n",
       "      <td>3165167</td>\n",
       "      <td>1582583</td>\n",
       "      <td>1</td>\n",
       "      <td>0</td>\n",
       "    </tr>\n",
       "    <tr>\n",
       "      <td>2</td>\n",
       "      <td>4</td>\n",
       "      <td>16693810</td>\n",
       "      <td>8346905</td>\n",
       "      <td>1</td>\n",
       "      <td>0</td>\n",
       "    </tr>\n",
       "    <tr>\n",
       "      <td>3</td>\n",
       "      <td>7</td>\n",
       "      <td>73726276</td>\n",
       "      <td>36863138</td>\n",
       "      <td>1</td>\n",
       "      <td>1</td>\n",
       "    </tr>\n",
       "    <tr>\n",
       "      <td>4</td>\n",
       "      <td>8</td>\n",
       "      <td>62355952</td>\n",
       "      <td>31177976</td>\n",
       "      <td>1</td>\n",
       "      <td>1</td>\n",
       "    </tr>\n",
       "  </tbody>\n",
       "</table>\n",
       "</div>"
      ],
      "text/plain": [
       "   고객번호      구매금액   구매금액_1년  구매금액구간  VIP\n",
       "0     1  85042550  42521275       1    1\n",
       "1     3   3165167   1582583       1    0\n",
       "2     4  16693810   8346905       1    0\n",
       "3     7  73726276  36863138       1    1\n",
       "4     8  62355952  31177976       1    1"
      ]
     },
     "execution_count": 128,
     "metadata": {},
     "output_type": "execute_result"
    }
   ],
   "source": [
    "custTotal.head()"
   ]
  },
  {
   "cell_type": "code",
   "execution_count": 129,
   "metadata": {
    "scrolled": true
   },
   "outputs": [
    {
     "data": {
      "text/html": [
       "<div>\n",
       "<style scoped>\n",
       "    .dataframe tbody tr th:only-of-type {\n",
       "        vertical-align: middle;\n",
       "    }\n",
       "\n",
       "    .dataframe tbody tr th {\n",
       "        vertical-align: top;\n",
       "    }\n",
       "\n",
       "    .dataframe thead th {\n",
       "        text-align: right;\n",
       "    }\n",
       "</style>\n",
       "<table border=\"1\" class=\"dataframe\">\n",
       "  <thead>\n",
       "    <tr style=\"text-align: right;\">\n",
       "      <th></th>\n",
       "      <th>고객번호</th>\n",
       "      <th>성별</th>\n",
       "      <th>연령대</th>\n",
       "      <th>거주지역</th>\n",
       "      <th>S_koo</th>\n",
       "      <th>제휴사</th>\n",
       "      <th>영수증번호</th>\n",
       "      <th>대분류코드</th>\n",
       "      <th>중분류코드</th>\n",
       "      <th>소분류코드</th>\n",
       "      <th>점포코드</th>\n",
       "      <th>구매일자</th>\n",
       "      <th>구매시간</th>\n",
       "      <th>구매금액</th>\n",
       "      <th>구매금액구간</th>\n",
       "      <th>VIP</th>\n",
       "    </tr>\n",
       "  </thead>\n",
       "  <tbody>\n",
       "    <tr>\n",
       "      <td>0</td>\n",
       "      <td>1</td>\n",
       "      <td>M</td>\n",
       "      <td>60세이상</td>\n",
       "      <td>60.0</td>\n",
       "      <td>강남구</td>\n",
       "      <td>A</td>\n",
       "      <td>1239451</td>\n",
       "      <td>2</td>\n",
       "      <td>201</td>\n",
       "      <td>A020105</td>\n",
       "      <td>12</td>\n",
       "      <td>20140118</td>\n",
       "      <td>15</td>\n",
       "      <td>10000</td>\n",
       "      <td>1</td>\n",
       "      <td>1</td>\n",
       "    </tr>\n",
       "    <tr>\n",
       "      <td>1</td>\n",
       "      <td>1</td>\n",
       "      <td>M</td>\n",
       "      <td>60세이상</td>\n",
       "      <td>60.0</td>\n",
       "      <td>강남구</td>\n",
       "      <td>A</td>\n",
       "      <td>1319908</td>\n",
       "      <td>4</td>\n",
       "      <td>402</td>\n",
       "      <td>A040214</td>\n",
       "      <td>20</td>\n",
       "      <td>20140203</td>\n",
       "      <td>15</td>\n",
       "      <td>129000</td>\n",
       "      <td>1</td>\n",
       "      <td>1</td>\n",
       "    </tr>\n",
       "    <tr>\n",
       "      <td>2</td>\n",
       "      <td>1</td>\n",
       "      <td>M</td>\n",
       "      <td>60세이상</td>\n",
       "      <td>60.0</td>\n",
       "      <td>강남구</td>\n",
       "      <td>A</td>\n",
       "      <td>1807440</td>\n",
       "      <td>1</td>\n",
       "      <td>103</td>\n",
       "      <td>A010302</td>\n",
       "      <td>12</td>\n",
       "      <td>20140425</td>\n",
       "      <td>12</td>\n",
       "      <td>7000</td>\n",
       "      <td>1</td>\n",
       "      <td>1</td>\n",
       "    </tr>\n",
       "    <tr>\n",
       "      <td>3</td>\n",
       "      <td>1</td>\n",
       "      <td>M</td>\n",
       "      <td>60세이상</td>\n",
       "      <td>60.0</td>\n",
       "      <td>강남구</td>\n",
       "      <td>A</td>\n",
       "      <td>1807440</td>\n",
       "      <td>1</td>\n",
       "      <td>104</td>\n",
       "      <td>A010404</td>\n",
       "      <td>12</td>\n",
       "      <td>20140425</td>\n",
       "      <td>12</td>\n",
       "      <td>2650</td>\n",
       "      <td>1</td>\n",
       "      <td>1</td>\n",
       "    </tr>\n",
       "    <tr>\n",
       "      <td>4</td>\n",
       "      <td>1</td>\n",
       "      <td>M</td>\n",
       "      <td>60세이상</td>\n",
       "      <td>60.0</td>\n",
       "      <td>강남구</td>\n",
       "      <td>A</td>\n",
       "      <td>1807440</td>\n",
       "      <td>1</td>\n",
       "      <td>105</td>\n",
       "      <td>A010501</td>\n",
       "      <td>12</td>\n",
       "      <td>20140425</td>\n",
       "      <td>12</td>\n",
       "      <td>9800</td>\n",
       "      <td>1</td>\n",
       "      <td>1</td>\n",
       "    </tr>\n",
       "  </tbody>\n",
       "</table>\n",
       "</div>"
      ],
      "text/plain": [
       "   고객번호 성별    연령대  거주지역 S_koo 제휴사    영수증번호  대분류코드  중분류코드    소분류코드  점포코드  \\\n",
       "0     1  M  60세이상  60.0   강남구   A  1239451      2    201  A020105    12   \n",
       "1     1  M  60세이상  60.0   강남구   A  1319908      4    402  A040214    20   \n",
       "2     1  M  60세이상  60.0   강남구   A  1807440      1    103  A010302    12   \n",
       "3     1  M  60세이상  60.0   강남구   A  1807440      1    104  A010404    12   \n",
       "4     1  M  60세이상  60.0   강남구   A  1807440      1    105  A010501    12   \n",
       "\n",
       "       구매일자  구매시간    구매금액  구매금액구간  VIP  \n",
       "0  20140118    15   10000       1    1  \n",
       "1  20140203    15  129000       1    1  \n",
       "2  20140425    12    7000       1    1  \n",
       "3  20140425    12    2650       1    1  \n",
       "4  20140425    12    9800       1    1  "
      ]
     },
     "execution_count": 129,
     "metadata": {},
     "output_type": "execute_result"
    }
   ],
   "source": [
    "custVIP = custTotal[['고객번호', '구매금액구간', 'VIP']]\n",
    "m_purchase = pd.merge(s_df_purchase, custVIP, how='left')\n",
    "m_purchase.head()"
   ]
  },
  {
   "cell_type": "markdown",
   "metadata": {},
   "source": [
    "### 제휴사"
   ]
  },
  {
   "cell_type": "code",
   "execution_count": 66,
   "metadata": {
    "scrolled": true
   },
   "outputs": [
    {
     "data": {
      "text/html": [
       "<div>\n",
       "<style scoped>\n",
       "    .dataframe tbody tr th:only-of-type {\n",
       "        vertical-align: middle;\n",
       "    }\n",
       "\n",
       "    .dataframe tbody tr th {\n",
       "        vertical-align: top;\n",
       "    }\n",
       "\n",
       "    .dataframe thead th {\n",
       "        text-align: right;\n",
       "    }\n",
       "</style>\n",
       "<table border=\"1\" class=\"dataframe\">\n",
       "  <thead>\n",
       "    <tr style=\"text-align: right;\">\n",
       "      <th></th>\n",
       "      <th>count</th>\n",
       "      <th>mean</th>\n",
       "      <th>std</th>\n",
       "      <th>min</th>\n",
       "      <th>25%</th>\n",
       "      <th>50%</th>\n",
       "      <th>75%</th>\n",
       "      <th>max</th>\n",
       "    </tr>\n",
       "    <tr>\n",
       "      <th>제휴사</th>\n",
       "      <th></th>\n",
       "      <th></th>\n",
       "      <th></th>\n",
       "      <th></th>\n",
       "      <th></th>\n",
       "      <th></th>\n",
       "      <th></th>\n",
       "      <th></th>\n",
       "    </tr>\n",
       "  </thead>\n",
       "  <tbody>\n",
       "    <tr>\n",
       "      <td>A</td>\n",
       "      <td>2275481.0</td>\n",
       "      <td>84155.929529</td>\n",
       "      <td>429816.276303</td>\n",
       "      <td>10.0</td>\n",
       "      <td>6500.0</td>\n",
       "      <td>14500.0</td>\n",
       "      <td>49000.0</td>\n",
       "      <td>93654000.0</td>\n",
       "    </tr>\n",
       "    <tr>\n",
       "      <td>B</td>\n",
       "      <td>3345302.0</td>\n",
       "      <td>9053.366342</td>\n",
       "      <td>129504.170345</td>\n",
       "      <td>10.0</td>\n",
       "      <td>2380.0</td>\n",
       "      <td>4280.0</td>\n",
       "      <td>7980.0</td>\n",
       "      <td>48112000.0</td>\n",
       "    </tr>\n",
       "    <tr>\n",
       "      <td>C</td>\n",
       "      <td>2513395.0</td>\n",
       "      <td>5210.101344</td>\n",
       "      <td>61413.931026</td>\n",
       "      <td>10.0</td>\n",
       "      <td>1490.0</td>\n",
       "      <td>2960.0</td>\n",
       "      <td>5000.0</td>\n",
       "      <td>23976000.0</td>\n",
       "    </tr>\n",
       "    <tr>\n",
       "      <td>D</td>\n",
       "      <td>47814.0</td>\n",
       "      <td>8428.949555</td>\n",
       "      <td>12872.029077</td>\n",
       "      <td>100.0</td>\n",
       "      <td>1600.0</td>\n",
       "      <td>3600.0</td>\n",
       "      <td>9900.0</td>\n",
       "      <td>291000.0</td>\n",
       "    </tr>\n",
       "  </tbody>\n",
       "</table>\n",
       "</div>"
      ],
      "text/plain": [
       "         count          mean            std    min     25%      50%      75%  \\\n",
       "제휴사                                                                            \n",
       "A    2275481.0  84155.929529  429816.276303   10.0  6500.0  14500.0  49000.0   \n",
       "B    3345302.0   9053.366342  129504.170345   10.0  2380.0   4280.0   7980.0   \n",
       "C    2513395.0   5210.101344   61413.931026   10.0  1490.0   2960.0   5000.0   \n",
       "D      47814.0   8428.949555   12872.029077  100.0  1600.0   3600.0   9900.0   \n",
       "\n",
       "            max  \n",
       "제휴사              \n",
       "A    93654000.0  \n",
       "B    48112000.0  \n",
       "C    23976000.0  \n",
       "D      291000.0  "
      ]
     },
     "execution_count": 66,
     "metadata": {},
     "output_type": "execute_result"
    }
   ],
   "source": [
    "m_purchase['구매금액'].groupby(m_purchase['제휴사']).describe()"
   ]
  },
  {
   "cell_type": "code",
   "execution_count": 67,
   "metadata": {
    "scrolled": false
   },
   "outputs": [
    {
     "data": {
      "text/html": [
       "<div>\n",
       "<style scoped>\n",
       "    .dataframe tbody tr th:only-of-type {\n",
       "        vertical-align: middle;\n",
       "    }\n",
       "\n",
       "    .dataframe tbody tr th {\n",
       "        vertical-align: top;\n",
       "    }\n",
       "\n",
       "    .dataframe thead th {\n",
       "        text-align: right;\n",
       "    }\n",
       "</style>\n",
       "<table border=\"1\" class=\"dataframe\">\n",
       "  <thead>\n",
       "    <tr style=\"text-align: right;\">\n",
       "      <th></th>\n",
       "      <th>고객번호</th>\n",
       "      <th>성별</th>\n",
       "      <th>연령대</th>\n",
       "      <th>거주지역</th>\n",
       "      <th>S_koo</th>\n",
       "      <th>제휴사</th>\n",
       "      <th>영수증번호</th>\n",
       "      <th>대분류코드</th>\n",
       "      <th>중분류코드</th>\n",
       "      <th>소분류코드</th>\n",
       "      <th>점포코드</th>\n",
       "      <th>구매일자</th>\n",
       "      <th>구매시간</th>\n",
       "      <th>구매금액</th>\n",
       "      <th>구매금액구간</th>\n",
       "      <th>VIP</th>\n",
       "    </tr>\n",
       "  </thead>\n",
       "  <tbody>\n",
       "    <tr>\n",
       "      <td>4026114</td>\n",
       "      <td>7801</td>\n",
       "      <td>M</td>\n",
       "      <td>40세~44세</td>\n",
       "      <td>69.0</td>\n",
       "      <td>동작구</td>\n",
       "      <td>A</td>\n",
       "      <td>5526155</td>\n",
       "      <td>1</td>\n",
       "      <td>109</td>\n",
       "      <td>A010901</td>\n",
       "      <td>1</td>\n",
       "      <td>20151120</td>\n",
       "      <td>13</td>\n",
       "      <td>93654000</td>\n",
       "      <td>7</td>\n",
       "      <td>1</td>\n",
       "    </tr>\n",
       "  </tbody>\n",
       "</table>\n",
       "</div>"
      ],
      "text/plain": [
       "         고객번호 성별      연령대  거주지역 S_koo 제휴사    영수증번호  대분류코드  중분류코드    소분류코드  \\\n",
       "4026114  7801  M  40세~44세  69.0   동작구   A  5526155      1    109  A010901   \n",
       "\n",
       "         점포코드      구매일자  구매시간      구매금액  구매금액구간  VIP  \n",
       "4026114     1  20151120    13  93654000       7    1  "
      ]
     },
     "execution_count": 67,
     "metadata": {},
     "output_type": "execute_result"
    }
   ],
   "source": [
    "m_purchase[m_purchase['구매금액']==93654000.0]"
   ]
  },
  {
   "cell_type": "code",
   "execution_count": 68,
   "metadata": {},
   "outputs": [
    {
     "data": {
      "text/html": [
       "<div>\n",
       "<style scoped>\n",
       "    .dataframe tbody tr th:only-of-type {\n",
       "        vertical-align: middle;\n",
       "    }\n",
       "\n",
       "    .dataframe tbody tr th {\n",
       "        vertical-align: top;\n",
       "    }\n",
       "\n",
       "    .dataframe thead th {\n",
       "        text-align: right;\n",
       "    }\n",
       "</style>\n",
       "<table border=\"1\" class=\"dataframe\">\n",
       "  <thead>\n",
       "    <tr style=\"text-align: right;\">\n",
       "      <th></th>\n",
       "      <th>고객번호</th>\n",
       "      <th>성별</th>\n",
       "      <th>연령대</th>\n",
       "      <th>거주지역</th>\n",
       "      <th>S_koo</th>\n",
       "      <th>제휴사</th>\n",
       "      <th>영수증번호</th>\n",
       "      <th>대분류코드</th>\n",
       "      <th>중분류코드</th>\n",
       "      <th>소분류코드</th>\n",
       "      <th>점포코드</th>\n",
       "      <th>구매일자</th>\n",
       "      <th>구매시간</th>\n",
       "      <th>구매금액</th>\n",
       "      <th>구매금액구간</th>\n",
       "      <th>VIP</th>\n",
       "    </tr>\n",
       "  </thead>\n",
       "  <tbody>\n",
       "    <tr>\n",
       "      <td>5931538</td>\n",
       "      <td>13376</td>\n",
       "      <td>F</td>\n",
       "      <td>25세~29세</td>\n",
       "      <td>16.0</td>\n",
       "      <td>노원구</td>\n",
       "      <td>A</td>\n",
       "      <td>4593637</td>\n",
       "      <td>8</td>\n",
       "      <td>801</td>\n",
       "      <td>A080110</td>\n",
       "      <td>1</td>\n",
       "      <td>20150627</td>\n",
       "      <td>16</td>\n",
       "      <td>87769260</td>\n",
       "      <td>10</td>\n",
       "      <td>1</td>\n",
       "    </tr>\n",
       "  </tbody>\n",
       "</table>\n",
       "</div>"
      ],
      "text/plain": [
       "          고객번호 성별      연령대  거주지역 S_koo 제휴사    영수증번호  대분류코드  중분류코드    소분류코드  \\\n",
       "5931538  13376  F  25세~29세  16.0   노원구   A  4593637      8    801  A080110   \n",
       "\n",
       "         점포코드      구매일자  구매시간      구매금액  구매금액구간  VIP  \n",
       "5931538     1  20150627    16  87769260      10    1  "
      ]
     },
     "execution_count": 68,
     "metadata": {},
     "output_type": "execute_result"
    }
   ],
   "source": [
    "m_purchase[m_purchase['구매금액']==87769260.0]"
   ]
  },
  {
   "cell_type": "code",
   "execution_count": 69,
   "metadata": {},
   "outputs": [
    {
     "name": "stderr",
     "output_type": "stream",
     "text": [
      "C:\\ai\\python\\Anaconda3\\lib\\site-packages\\ipykernel_launcher.py:1: UserWarning: Boolean Series key will be reindexed to match DataFrame index.\n",
      "  \"\"\"Entry point for launching an IPython kernel.\n"
     ]
    },
    {
     "data": {
      "text/html": [
       "<div>\n",
       "<style scoped>\n",
       "    .dataframe tbody tr th:only-of-type {\n",
       "        vertical-align: middle;\n",
       "    }\n",
       "\n",
       "    .dataframe tbody tr th {\n",
       "        vertical-align: top;\n",
       "    }\n",
       "\n",
       "    .dataframe thead th {\n",
       "        text-align: right;\n",
       "    }\n",
       "</style>\n",
       "<table border=\"1\" class=\"dataframe\">\n",
       "  <thead>\n",
       "    <tr style=\"text-align: right;\">\n",
       "      <th></th>\n",
       "      <th>고객번호</th>\n",
       "      <th>성별</th>\n",
       "      <th>연령대</th>\n",
       "      <th>거주지역</th>\n",
       "      <th>S_koo</th>\n",
       "      <th>제휴사</th>\n",
       "      <th>영수증번호</th>\n",
       "      <th>대분류코드</th>\n",
       "      <th>중분류코드</th>\n",
       "      <th>소분류코드</th>\n",
       "      <th>점포코드</th>\n",
       "      <th>구매일자</th>\n",
       "      <th>구매시간</th>\n",
       "      <th>구매금액</th>\n",
       "      <th>구매금액구간</th>\n",
       "      <th>VIP</th>\n",
       "    </tr>\n",
       "  </thead>\n",
       "  <tbody>\n",
       "    <tr>\n",
       "      <td>4026220</td>\n",
       "      <td>7801</td>\n",
       "      <td>M</td>\n",
       "      <td>40세~44세</td>\n",
       "      <td>69.0</td>\n",
       "      <td>동작구</td>\n",
       "      <td>A</td>\n",
       "      <td>2012213</td>\n",
       "      <td>1</td>\n",
       "      <td>109</td>\n",
       "      <td>A010904</td>\n",
       "      <td>1</td>\n",
       "      <td>20140525</td>\n",
       "      <td>20</td>\n",
       "      <td>120</td>\n",
       "      <td>7</td>\n",
       "      <td>1</td>\n",
       "    </tr>\n",
       "  </tbody>\n",
       "</table>\n",
       "</div>"
      ],
      "text/plain": [
       "         고객번호 성별      연령대  거주지역 S_koo 제휴사    영수증번호  대분류코드  중분류코드    소분류코드  \\\n",
       "4026220  7801  M  40세~44세  69.0   동작구   A  2012213      1    109  A010904   \n",
       "\n",
       "         점포코드      구매일자  구매시간  구매금액  구매금액구간  VIP  \n",
       "4026220     1  20140525    20   120       7    1  "
      ]
     },
     "execution_count": 69,
     "metadata": {},
     "output_type": "execute_result"
    }
   ],
   "source": [
    "m_purchase[m_purchase['고객번호']==7801][m_purchase['구매금액']==120]"
   ]
  },
  {
   "cell_type": "code",
   "execution_count": 70,
   "metadata": {},
   "outputs": [
    {
     "data": {
      "text/plain": [
       "count    6.320000e+02\n",
       "mean     1.160122e+06\n",
       "std      4.546237e+06\n",
       "min      1.200000e+02\n",
       "25%      3.000000e+04\n",
       "50%      1.995000e+05\n",
       "75%      1.000000e+06\n",
       "max      9.365400e+07\n",
       "Name: 구매금액, dtype: float64"
      ]
     },
     "execution_count": 70,
     "metadata": {},
     "output_type": "execute_result"
    }
   ],
   "source": [
    "m_purchase['구매금액'][m_purchase['고객번호']==7801].describe()"
   ]
  },
  {
   "cell_type": "code",
   "execution_count": 71,
   "metadata": {
    "scrolled": true
   },
   "outputs": [
    {
     "data": {
      "text/html": [
       "<div>\n",
       "<style scoped>\n",
       "    .dataframe tbody tr th:only-of-type {\n",
       "        vertical-align: middle;\n",
       "    }\n",
       "\n",
       "    .dataframe tbody tr th {\n",
       "        vertical-align: top;\n",
       "    }\n",
       "\n",
       "    .dataframe thead th {\n",
       "        text-align: right;\n",
       "    }\n",
       "</style>\n",
       "<table border=\"1\" class=\"dataframe\">\n",
       "  <thead>\n",
       "    <tr style=\"text-align: right;\">\n",
       "      <th></th>\n",
       "      <th>제휴사</th>\n",
       "      <th>대분류코드</th>\n",
       "      <th>중분류코드</th>\n",
       "      <th>소분류코드</th>\n",
       "      <th>중분류명</th>\n",
       "      <th>소분류명</th>\n",
       "    </tr>\n",
       "  </thead>\n",
       "  <tbody>\n",
       "    <tr>\n",
       "      <td>120</td>\n",
       "      <td>A</td>\n",
       "      <td>1</td>\n",
       "      <td>109</td>\n",
       "      <td>A010901</td>\n",
       "      <td>주류</td>\n",
       "      <td>주류</td>\n",
       "    </tr>\n",
       "  </tbody>\n",
       "</table>\n",
       "</div>"
      ],
      "text/plain": [
       "    제휴사  대분류코드  중분류코드    소분류코드 중분류명 소분류명\n",
       "120   A      1    109  A010901   주류   주류"
      ]
     },
     "execution_count": 71,
     "metadata": {},
     "output_type": "execute_result"
    }
   ],
   "source": [
    "df_product[df_product['소분류코드']=='A010901']"
   ]
  },
  {
   "cell_type": "code",
   "execution_count": 72,
   "metadata": {
    "scrolled": false
   },
   "outputs": [
    {
     "data": {
      "text/html": [
       "<div>\n",
       "<style scoped>\n",
       "    .dataframe tbody tr th:only-of-type {\n",
       "        vertical-align: middle;\n",
       "    }\n",
       "\n",
       "    .dataframe tbody tr th {\n",
       "        vertical-align: top;\n",
       "    }\n",
       "\n",
       "    .dataframe thead th {\n",
       "        text-align: right;\n",
       "    }\n",
       "</style>\n",
       "<table border=\"1\" class=\"dataframe\">\n",
       "  <thead>\n",
       "    <tr style=\"text-align: right;\">\n",
       "      <th></th>\n",
       "      <th>제휴사</th>\n",
       "      <th>대분류코드</th>\n",
       "      <th>중분류코드</th>\n",
       "      <th>소분류코드</th>\n",
       "      <th>중분류명</th>\n",
       "      <th>소분류명</th>\n",
       "    </tr>\n",
       "  </thead>\n",
       "  <tbody>\n",
       "    <tr>\n",
       "      <td>123</td>\n",
       "      <td>A</td>\n",
       "      <td>1</td>\n",
       "      <td>109</td>\n",
       "      <td>A010904</td>\n",
       "      <td>주류</td>\n",
       "      <td>공병</td>\n",
       "    </tr>\n",
       "  </tbody>\n",
       "</table>\n",
       "</div>"
      ],
      "text/plain": [
       "    제휴사  대분류코드  중분류코드    소분류코드 중분류명 소분류명\n",
       "123   A      1    109  A010904   주류   공병"
      ]
     },
     "execution_count": 72,
     "metadata": {},
     "output_type": "execute_result"
    }
   ],
   "source": [
    "df_product[df_product['소분류코드']=='A010904']"
   ]
  },
  {
   "cell_type": "code",
   "execution_count": 157,
   "metadata": {
    "scrolled": false
   },
   "outputs": [
    {
     "data": {
      "text/html": [
       "<div>\n",
       "<style scoped>\n",
       "    .dataframe tbody tr th:only-of-type {\n",
       "        vertical-align: middle;\n",
       "    }\n",
       "\n",
       "    .dataframe tbody tr th {\n",
       "        vertical-align: top;\n",
       "    }\n",
       "\n",
       "    .dataframe thead th {\n",
       "        text-align: right;\n",
       "    }\n",
       "</style>\n",
       "<table border=\"1\" class=\"dataframe\">\n",
       "  <thead>\n",
       "    <tr style=\"text-align: right;\">\n",
       "      <th>VIP</th>\n",
       "      <th>0</th>\n",
       "      <th>1</th>\n",
       "      <th>All</th>\n",
       "    </tr>\n",
       "    <tr>\n",
       "      <th>제휴사</th>\n",
       "      <th></th>\n",
       "      <th></th>\n",
       "      <th></th>\n",
       "    </tr>\n",
       "  </thead>\n",
       "  <tbody>\n",
       "    <tr>\n",
       "      <td>A</td>\n",
       "      <td>614956</td>\n",
       "      <td>1660525</td>\n",
       "      <td>2275481</td>\n",
       "    </tr>\n",
       "    <tr>\n",
       "      <td>B</td>\n",
       "      <td>2213904</td>\n",
       "      <td>1131398</td>\n",
       "      <td>3345302</td>\n",
       "    </tr>\n",
       "    <tr>\n",
       "      <td>C</td>\n",
       "      <td>1932208</td>\n",
       "      <td>581187</td>\n",
       "      <td>2513395</td>\n",
       "    </tr>\n",
       "    <tr>\n",
       "      <td>D</td>\n",
       "      <td>41174</td>\n",
       "      <td>6640</td>\n",
       "      <td>47814</td>\n",
       "    </tr>\n",
       "    <tr>\n",
       "      <td>All</td>\n",
       "      <td>4802242</td>\n",
       "      <td>3379750</td>\n",
       "      <td>8181992</td>\n",
       "    </tr>\n",
       "  </tbody>\n",
       "</table>\n",
       "</div>"
      ],
      "text/plain": [
       "VIP        0        1      All\n",
       "제휴사                           \n",
       "A     614956  1660525  2275481\n",
       "B    2213904  1131398  3345302\n",
       "C    1932208   581187  2513395\n",
       "D      41174     6640    47814\n",
       "All  4802242  3379750  8181992"
      ]
     },
     "execution_count": 157,
     "metadata": {},
     "output_type": "execute_result"
    }
   ],
   "source": [
    "pd.crosstab(m_purchase['제휴사'], m_purchase['VIP'], margins=True)"
   ]
  },
  {
   "cell_type": "code",
   "execution_count": 77,
   "metadata": {},
   "outputs": [],
   "source": [
    "# 제휴사 A,B,C,D를 번호로 바꾸어 준다.(A->0 B->2 C->1 D->3)\n",
    "for data in enumerate(m_purchase['제휴사'].unique()):\n",
    "    m_purchase['제휴사'].replace(data[1], data[0], inplace=True)"
   ]
  },
  {
   "cell_type": "code",
   "execution_count": 79,
   "metadata": {},
   "outputs": [
    {
     "data": {
      "text/plain": [
       "2    3345302\n",
       "1    2513395\n",
       "0    2275481\n",
       "3      47814\n",
       "Name: 제휴사, dtype: int64"
      ]
     },
     "execution_count": 79,
     "metadata": {},
     "output_type": "execute_result"
    }
   ],
   "source": [
    "m_purchase['제휴사'].value_counts()"
   ]
  },
  {
   "cell_type": "code",
   "execution_count": 80,
   "metadata": {},
   "outputs": [],
   "source": [
    "vip_compnay = m_purchase['제휴사'][m_purchase['VIP'] == 1]\n",
    "normal_company = m_purchase['제휴사'][m_purchase['VIP'] == 0]"
   ]
  },
  {
   "cell_type": "code",
   "execution_count": 164,
   "metadata": {},
   "outputs": [
    {
     "data": {
      "text/plain": [
       "<matplotlib.legend.Legend at 0x1eb9fb9ca08>"
      ]
     },
     "execution_count": 164,
     "metadata": {},
     "output_type": "execute_result"
    },
    {
     "data": {
      "image/png": "[encoded data removed]",
      "text/plain": [
       "<Figure size 720x720 with 1 Axes>"
      ]
     },
     "metadata": {
      "needs_background": "light"
     },
     "output_type": "display_data"
    }
   ],
   "source": [
    "plt.figure(figsize =(10, 10))\n",
    "vip_compnay.plot(kind='kde')\n",
    "normal_company.plot(kind='kde')\n",
    "plt.legend(['vip_compnay', 'normal_company'])"
   ]
  },
  {
   "cell_type": "code",
   "execution_count": null,
   "metadata": {},
   "outputs": [],
   "source": [
    "# vip 고객 비중이 압도적으로 A 제휴사가 높은 것을 확인할 수 있다."
   ]
  },
  {
   "cell_type": "markdown",
   "metadata": {},
   "source": [
    "### 영수증번호"
   ]
  },
  {
   "cell_type": "code",
   "execution_count": 85,
   "metadata": {
    "scrolled": true
   },
   "outputs": [
    {
     "name": "stdout",
     "output_type": "stream",
     "text": [
      "93654000.0\n",
      "10.0\n"
     ]
    }
   ],
   "source": [
    "print(m_purchase['구매금액'].groupby(m_purchase['영수증번호']).mean().max())\n",
    "print(m_purchase['구매금액'].groupby(m_purchase['영수증번호']).mean().min())"
   ]
  },
  {
   "cell_type": "code",
   "execution_count": 89,
   "metadata": {},
   "outputs": [
    {
     "data": {
      "text/html": [
       "<div>\n",
       "<style scoped>\n",
       "    .dataframe tbody tr th:only-of-type {\n",
       "        vertical-align: middle;\n",
       "    }\n",
       "\n",
       "    .dataframe tbody tr th {\n",
       "        vertical-align: top;\n",
       "    }\n",
       "\n",
       "    .dataframe thead th {\n",
       "        text-align: right;\n",
       "    }\n",
       "</style>\n",
       "<table border=\"1\" class=\"dataframe\">\n",
       "  <thead>\n",
       "    <tr style=\"text-align: right;\">\n",
       "      <th></th>\n",
       "      <th>영수증번호</th>\n",
       "      <th>고객번호</th>\n",
       "      <th>거주지역</th>\n",
       "      <th>제휴사</th>\n",
       "      <th>대분류코드</th>\n",
       "      <th>중분류코드</th>\n",
       "      <th>점포코드</th>\n",
       "      <th>구매일자</th>\n",
       "      <th>구매시간</th>\n",
       "      <th>구매금액</th>\n",
       "      <th>구매금액구간</th>\n",
       "      <th>VIP</th>\n",
       "    </tr>\n",
       "  </thead>\n",
       "  <tbody>\n",
       "    <tr>\n",
       "      <td>0</td>\n",
       "      <td>1</td>\n",
       "      <td>2263</td>\n",
       "      <td>24.0</td>\n",
       "      <td>1</td>\n",
       "      <td>6</td>\n",
       "      <td>605</td>\n",
       "      <td>1</td>\n",
       "      <td>20140101</td>\n",
       "      <td>9</td>\n",
       "      <td>5950</td>\n",
       "      <td>1</td>\n",
       "      <td>0</td>\n",
       "    </tr>\n",
       "    <tr>\n",
       "      <td>1</td>\n",
       "      <td>2</td>\n",
       "      <td>2263</td>\n",
       "      <td>24.0</td>\n",
       "      <td>1</td>\n",
       "      <td>15</td>\n",
       "      <td>1502</td>\n",
       "      <td>1</td>\n",
       "      <td>20140101</td>\n",
       "      <td>12</td>\n",
       "      <td>1490</td>\n",
       "      <td>1</td>\n",
       "      <td>0</td>\n",
       "    </tr>\n",
       "    <tr>\n",
       "      <td>2</td>\n",
       "      <td>3</td>\n",
       "      <td>18336</td>\n",
       "      <td>24.0</td>\n",
       "      <td>1</td>\n",
       "      <td>13</td>\n",
       "      <td>1307</td>\n",
       "      <td>1</td>\n",
       "      <td>20140101</td>\n",
       "      <td>16</td>\n",
       "      <td>3980</td>\n",
       "      <td>1</td>\n",
       "      <td>0</td>\n",
       "    </tr>\n",
       "    <tr>\n",
       "      <td>3</td>\n",
       "      <td>4</td>\n",
       "      <td>36100</td>\n",
       "      <td>48.0</td>\n",
       "      <td>2</td>\n",
       "      <td>12</td>\n",
       "      <td>1203</td>\n",
       "      <td>2</td>\n",
       "      <td>40280202</td>\n",
       "      <td>32</td>\n",
       "      <td>10090</td>\n",
       "      <td>2</td>\n",
       "      <td>0</td>\n",
       "    </tr>\n",
       "    <tr>\n",
       "      <td>4</td>\n",
       "      <td>5</td>\n",
       "      <td>18104</td>\n",
       "      <td>192.0</td>\n",
       "      <td>8</td>\n",
       "      <td>58</td>\n",
       "      <td>5826</td>\n",
       "      <td>8</td>\n",
       "      <td>161120808</td>\n",
       "      <td>144</td>\n",
       "      <td>65620</td>\n",
       "      <td>8</td>\n",
       "      <td>0</td>\n",
       "    </tr>\n",
       "    <tr>\n",
       "      <td>...</td>\n",
       "      <td>...</td>\n",
       "      <td>...</td>\n",
       "      <td>...</td>\n",
       "      <td>...</td>\n",
       "      <td>...</td>\n",
       "      <td>...</td>\n",
       "      <td>...</td>\n",
       "      <td>...</td>\n",
       "      <td>...</td>\n",
       "      <td>...</td>\n",
       "      <td>...</td>\n",
       "      <td>...</td>\n",
       "    </tr>\n",
       "    <tr>\n",
       "      <td>3451378</td>\n",
       "      <td>11096588</td>\n",
       "      <td>31276</td>\n",
       "      <td>64.0</td>\n",
       "      <td>8</td>\n",
       "      <td>87</td>\n",
       "      <td>8724</td>\n",
       "      <td>540</td>\n",
       "      <td>80604052</td>\n",
       "      <td>36</td>\n",
       "      <td>57500</td>\n",
       "      <td>4</td>\n",
       "      <td>0</td>\n",
       "    </tr>\n",
       "    <tr>\n",
       "      <td>3451379</td>\n",
       "      <td>11096589</td>\n",
       "      <td>37700</td>\n",
       "      <td>300.0</td>\n",
       "      <td>10</td>\n",
       "      <td>218</td>\n",
       "      <td>21813</td>\n",
       "      <td>675</td>\n",
       "      <td>100755065</td>\n",
       "      <td>75</td>\n",
       "      <td>118600</td>\n",
       "      <td>5</td>\n",
       "      <td>0</td>\n",
       "    </tr>\n",
       "    <tr>\n",
       "      <td>3451380</td>\n",
       "      <td>11096590</td>\n",
       "      <td>30160</td>\n",
       "      <td>240.0</td>\n",
       "      <td>8</td>\n",
       "      <td>187</td>\n",
       "      <td>18712</td>\n",
       "      <td>540</td>\n",
       "      <td>80604056</td>\n",
       "      <td>68</td>\n",
       "      <td>75600</td>\n",
       "      <td>4</td>\n",
       "      <td>0</td>\n",
       "    </tr>\n",
       "    <tr>\n",
       "      <td>3451381</td>\n",
       "      <td>11096593</td>\n",
       "      <td>81222</td>\n",
       "      <td>330.0</td>\n",
       "      <td>12</td>\n",
       "      <td>266</td>\n",
       "      <td>26632</td>\n",
       "      <td>810</td>\n",
       "      <td>120906156</td>\n",
       "      <td>138</td>\n",
       "      <td>54000</td>\n",
       "      <td>6</td>\n",
       "      <td>0</td>\n",
       "    </tr>\n",
       "    <tr>\n",
       "      <td>3451382</td>\n",
       "      <td>11096601</td>\n",
       "      <td>104352</td>\n",
       "      <td>960.0</td>\n",
       "      <td>32</td>\n",
       "      <td>769</td>\n",
       "      <td>76975</td>\n",
       "      <td>2160</td>\n",
       "      <td>322419568</td>\n",
       "      <td>224</td>\n",
       "      <td>164030</td>\n",
       "      <td>16</td>\n",
       "      <td>16</td>\n",
       "    </tr>\n",
       "  </tbody>\n",
       "</table>\n",
       "<p>3451383 rows × 12 columns</p>\n",
       "</div>"
      ],
      "text/plain": [
       "            영수증번호    고객번호   거주지역  제휴사  대분류코드  중분류코드  점포코드       구매일자  구매시간  \\\n",
       "0               1    2263   24.0    1      6    605     1   20140101     9   \n",
       "1               2    2263   24.0    1     15   1502     1   20140101    12   \n",
       "2               3   18336   24.0    1     13   1307     1   20140101    16   \n",
       "3               4   36100   48.0    2     12   1203     2   40280202    32   \n",
       "4               5   18104  192.0    8     58   5826     8  161120808   144   \n",
       "...           ...     ...    ...  ...    ...    ...   ...        ...   ...   \n",
       "3451378  11096588   31276   64.0    8     87   8724   540   80604052    36   \n",
       "3451379  11096589   37700  300.0   10    218  21813   675  100755065    75   \n",
       "3451380  11096590   30160  240.0    8    187  18712   540   80604056    68   \n",
       "3451381  11096593   81222  330.0   12    266  26632   810  120906156   138   \n",
       "3451382  11096601  104352  960.0   32    769  76975  2160  322419568   224   \n",
       "\n",
       "           구매금액  구매금액구간  VIP  \n",
       "0          5950       1    0  \n",
       "1          1490       1    0  \n",
       "2          3980       1    0  \n",
       "3         10090       2    0  \n",
       "4         65620       8    0  \n",
       "...         ...     ...  ...  \n",
       "3451378   57500       4    0  \n",
       "3451379  118600       5    0  \n",
       "3451380   75600       4    0  \n",
       "3451381   54000       6    0  \n",
       "3451382  164030      16   16  \n",
       "\n",
       "[3451383 rows x 12 columns]"
      ]
     },
     "execution_count": 89,
     "metadata": {},
     "output_type": "execute_result"
    }
   ],
   "source": [
    "m_purchase.groupby(m_purchase['영수증번호']).sum().reset_index()"
   ]
  },
  {
   "cell_type": "code",
   "execution_count": 90,
   "metadata": {},
   "outputs": [
    {
     "data": {
      "text/html": [
       "<div>\n",
       "<style scoped>\n",
       "    .dataframe tbody tr th:only-of-type {\n",
       "        vertical-align: middle;\n",
       "    }\n",
       "\n",
       "    .dataframe tbody tr th {\n",
       "        vertical-align: top;\n",
       "    }\n",
       "\n",
       "    .dataframe thead th {\n",
       "        text-align: right;\n",
       "    }\n",
       "</style>\n",
       "<table border=\"1\" class=\"dataframe\">\n",
       "  <thead>\n",
       "    <tr style=\"text-align: right;\">\n",
       "      <th></th>\n",
       "      <th>영수증번호</th>\n",
       "      <th>영수증총액</th>\n",
       "    </tr>\n",
       "  </thead>\n",
       "  <tbody>\n",
       "    <tr>\n",
       "      <td>0</td>\n",
       "      <td>1</td>\n",
       "      <td>5950</td>\n",
       "    </tr>\n",
       "    <tr>\n",
       "      <td>1</td>\n",
       "      <td>2</td>\n",
       "      <td>1490</td>\n",
       "    </tr>\n",
       "    <tr>\n",
       "      <td>2</td>\n",
       "      <td>3</td>\n",
       "      <td>3980</td>\n",
       "    </tr>\n",
       "    <tr>\n",
       "      <td>3</td>\n",
       "      <td>4</td>\n",
       "      <td>10090</td>\n",
       "    </tr>\n",
       "    <tr>\n",
       "      <td>4</td>\n",
       "      <td>5</td>\n",
       "      <td>65620</td>\n",
       "    </tr>\n",
       "  </tbody>\n",
       "</table>\n",
       "</div>"
      ],
      "text/plain": [
       "   영수증번호  영수증총액\n",
       "0      1   5950\n",
       "1      2   1490\n",
       "2      3   3980\n",
       "3      4  10090\n",
       "4      5  65620"
      ]
     },
     "execution_count": 90,
     "metadata": {},
     "output_type": "execute_result"
    }
   ],
   "source": [
    "# 결제당 구매총액을 구한다.\n",
    "totalBill = m_purchase.groupby(m_purchase['영수증번호']).sum().reset_index()\n",
    "totalBill['영수증총액'] = totalBill['구매금액']\n",
    "totalBill = totalBill[['영수증번호', '영수증총액']]\n",
    "totalBill.head()"
   ]
  },
  {
   "cell_type": "code",
   "execution_count": 91,
   "metadata": {},
   "outputs": [
    {
     "data": {
      "text/html": [
       "<div>\n",
       "<style scoped>\n",
       "    .dataframe tbody tr th:only-of-type {\n",
       "        vertical-align: middle;\n",
       "    }\n",
       "\n",
       "    .dataframe tbody tr th {\n",
       "        vertical-align: top;\n",
       "    }\n",
       "\n",
       "    .dataframe thead th {\n",
       "        text-align: right;\n",
       "    }\n",
       "</style>\n",
       "<table border=\"1\" class=\"dataframe\">\n",
       "  <thead>\n",
       "    <tr style=\"text-align: right;\">\n",
       "      <th></th>\n",
       "      <th>고객번호</th>\n",
       "      <th>성별</th>\n",
       "      <th>연령대</th>\n",
       "      <th>거주지역</th>\n",
       "      <th>S_koo</th>\n",
       "      <th>제휴사</th>\n",
       "      <th>영수증번호</th>\n",
       "      <th>대분류코드</th>\n",
       "      <th>중분류코드</th>\n",
       "      <th>소분류코드</th>\n",
       "      <th>점포코드</th>\n",
       "      <th>구매일자</th>\n",
       "      <th>구매시간</th>\n",
       "      <th>구매금액</th>\n",
       "      <th>구매금액구간</th>\n",
       "      <th>VIP</th>\n",
       "      <th>영수증총액</th>\n",
       "    </tr>\n",
       "  </thead>\n",
       "  <tbody>\n",
       "    <tr>\n",
       "      <td>0</td>\n",
       "      <td>1</td>\n",
       "      <td>M</td>\n",
       "      <td>60세이상</td>\n",
       "      <td>60.0</td>\n",
       "      <td>강남구</td>\n",
       "      <td>0</td>\n",
       "      <td>1239451</td>\n",
       "      <td>2</td>\n",
       "      <td>201</td>\n",
       "      <td>A020105</td>\n",
       "      <td>12</td>\n",
       "      <td>20140118</td>\n",
       "      <td>15</td>\n",
       "      <td>10000</td>\n",
       "      <td>1</td>\n",
       "      <td>1</td>\n",
       "      <td>10000</td>\n",
       "    </tr>\n",
       "    <tr>\n",
       "      <td>1</td>\n",
       "      <td>1</td>\n",
       "      <td>M</td>\n",
       "      <td>60세이상</td>\n",
       "      <td>60.0</td>\n",
       "      <td>강남구</td>\n",
       "      <td>0</td>\n",
       "      <td>1319908</td>\n",
       "      <td>4</td>\n",
       "      <td>402</td>\n",
       "      <td>A040214</td>\n",
       "      <td>20</td>\n",
       "      <td>20140203</td>\n",
       "      <td>15</td>\n",
       "      <td>129000</td>\n",
       "      <td>1</td>\n",
       "      <td>1</td>\n",
       "      <td>129000</td>\n",
       "    </tr>\n",
       "    <tr>\n",
       "      <td>2</td>\n",
       "      <td>1</td>\n",
       "      <td>M</td>\n",
       "      <td>60세이상</td>\n",
       "      <td>60.0</td>\n",
       "      <td>강남구</td>\n",
       "      <td>0</td>\n",
       "      <td>1807440</td>\n",
       "      <td>1</td>\n",
       "      <td>103</td>\n",
       "      <td>A010302</td>\n",
       "      <td>12</td>\n",
       "      <td>20140425</td>\n",
       "      <td>12</td>\n",
       "      <td>7000</td>\n",
       "      <td>1</td>\n",
       "      <td>1</td>\n",
       "      <td>58450</td>\n",
       "    </tr>\n",
       "    <tr>\n",
       "      <td>3</td>\n",
       "      <td>1</td>\n",
       "      <td>M</td>\n",
       "      <td>60세이상</td>\n",
       "      <td>60.0</td>\n",
       "      <td>강남구</td>\n",
       "      <td>0</td>\n",
       "      <td>1807440</td>\n",
       "      <td>1</td>\n",
       "      <td>104</td>\n",
       "      <td>A010404</td>\n",
       "      <td>12</td>\n",
       "      <td>20140425</td>\n",
       "      <td>12</td>\n",
       "      <td>2650</td>\n",
       "      <td>1</td>\n",
       "      <td>1</td>\n",
       "      <td>58450</td>\n",
       "    </tr>\n",
       "    <tr>\n",
       "      <td>4</td>\n",
       "      <td>1</td>\n",
       "      <td>M</td>\n",
       "      <td>60세이상</td>\n",
       "      <td>60.0</td>\n",
       "      <td>강남구</td>\n",
       "      <td>0</td>\n",
       "      <td>1807440</td>\n",
       "      <td>1</td>\n",
       "      <td>105</td>\n",
       "      <td>A010501</td>\n",
       "      <td>12</td>\n",
       "      <td>20140425</td>\n",
       "      <td>12</td>\n",
       "      <td>9800</td>\n",
       "      <td>1</td>\n",
       "      <td>1</td>\n",
       "      <td>58450</td>\n",
       "    </tr>\n",
       "  </tbody>\n",
       "</table>\n",
       "</div>"
      ],
      "text/plain": [
       "   고객번호 성별    연령대  거주지역 S_koo  제휴사    영수증번호  대분류코드  중분류코드    소분류코드  점포코드  \\\n",
       "0     1  M  60세이상  60.0   강남구    0  1239451      2    201  A020105    12   \n",
       "1     1  M  60세이상  60.0   강남구    0  1319908      4    402  A040214    20   \n",
       "2     1  M  60세이상  60.0   강남구    0  1807440      1    103  A010302    12   \n",
       "3     1  M  60세이상  60.0   강남구    0  1807440      1    104  A010404    12   \n",
       "4     1  M  60세이상  60.0   강남구    0  1807440      1    105  A010501    12   \n",
       "\n",
       "       구매일자  구매시간    구매금액  구매금액구간  VIP   영수증총액  \n",
       "0  20140118    15   10000       1    1   10000  \n",
       "1  20140203    15  129000       1    1  129000  \n",
       "2  20140425    12    7000       1    1   58450  \n",
       "3  20140425    12    2650       1    1   58450  \n",
       "4  20140425    12    9800       1    1   58450  "
      ]
     },
     "execution_count": 91,
     "metadata": {},
     "output_type": "execute_result"
    }
   ],
   "source": [
    "bill_m_purchase = pd.merge(m_purchase, totalBill, how='left')\n",
    "bill_m_purchase.head()"
   ]
  },
  {
   "cell_type": "code",
   "execution_count": 94,
   "metadata": {
    "scrolled": false
   },
   "outputs": [
    {
     "data": {
      "text/plain": [
       "count    8.181992e+06\n",
       "mean     5.760913e+04\n",
       "std      2.569510e+05\n",
       "min      1.000000e+01\n",
       "25%      1.185000e+04\n",
       "50%      2.696000e+04\n",
       "75%      5.800000e+04\n",
       "max      9.365400e+07\n",
       "Name: 영수증총액, dtype: float64"
      ]
     },
     "execution_count": 94,
     "metadata": {},
     "output_type": "execute_result"
    }
   ],
   "source": [
    "bill_m_purchase['영수증총액'].describe()"
   ]
  },
  {
   "cell_type": "code",
   "execution_count": 95,
   "metadata": {},
   "outputs": [
    {
     "data": {
      "text/html": [
       "<div>\n",
       "<style scoped>\n",
       "    .dataframe tbody tr th:only-of-type {\n",
       "        vertical-align: middle;\n",
       "    }\n",
       "\n",
       "    .dataframe tbody tr th {\n",
       "        vertical-align: top;\n",
       "    }\n",
       "\n",
       "    .dataframe thead th {\n",
       "        text-align: right;\n",
       "    }\n",
       "</style>\n",
       "<table border=\"1\" class=\"dataframe\">\n",
       "  <thead>\n",
       "    <tr style=\"text-align: right;\">\n",
       "      <th></th>\n",
       "      <th>count</th>\n",
       "      <th>mean</th>\n",
       "      <th>std</th>\n",
       "      <th>min</th>\n",
       "      <th>25%</th>\n",
       "      <th>50%</th>\n",
       "      <th>75%</th>\n",
       "      <th>max</th>\n",
       "    </tr>\n",
       "    <tr>\n",
       "      <th>VIP</th>\n",
       "      <th></th>\n",
       "      <th></th>\n",
       "      <th></th>\n",
       "      <th></th>\n",
       "      <th></th>\n",
       "      <th></th>\n",
       "      <th></th>\n",
       "      <th></th>\n",
       "    </tr>\n",
       "  </thead>\n",
       "  <tbody>\n",
       "    <tr>\n",
       "      <td>0</td>\n",
       "      <td>4802242.0</td>\n",
       "      <td>32554.234408</td>\n",
       "      <td>45185.366734</td>\n",
       "      <td>10.0</td>\n",
       "      <td>9910.0</td>\n",
       "      <td>20640.0</td>\n",
       "      <td>40860.00</td>\n",
       "      <td>7422500.0</td>\n",
       "    </tr>\n",
       "    <tr>\n",
       "      <td>1</td>\n",
       "      <td>3379750.0</td>\n",
       "      <td>93209.296590</td>\n",
       "      <td>393415.649288</td>\n",
       "      <td>20.0</td>\n",
       "      <td>17950.0</td>\n",
       "      <td>41580.0</td>\n",
       "      <td>87878.75</td>\n",
       "      <td>93654000.0</td>\n",
       "    </tr>\n",
       "  </tbody>\n",
       "</table>\n",
       "</div>"
      ],
      "text/plain": [
       "         count          mean            std   min      25%      50%       75%  \\\n",
       "VIP                                                                             \n",
       "0    4802242.0  32554.234408   45185.366734  10.0   9910.0  20640.0  40860.00   \n",
       "1    3379750.0  93209.296590  393415.649288  20.0  17950.0  41580.0  87878.75   \n",
       "\n",
       "            max  \n",
       "VIP              \n",
       "0     7422500.0  \n",
       "1    93654000.0  "
      ]
     },
     "execution_count": 95,
     "metadata": {},
     "output_type": "execute_result"
    }
   ],
   "source": [
    "bill_m_purchase['영수증총액'].groupby(bill_m_purchase['VIP']).describe()"
   ]
  },
  {
   "cell_type": "code",
   "execution_count": null,
   "metadata": {},
   "outputs": [],
   "source": [
    "# vip 고객의 구매건수보다 vip 아닌 고객의 구매건수가 많지만, vip고객은  평균값이 더 크고 편차가 더 크게 나타난 것을 알 수 있다."
   ]
  },
  {
   "cell_type": "markdown",
   "metadata": {},
   "source": [
    "### 분류코드"
   ]
  },
  {
   "cell_type": "code",
   "execution_count": 96,
   "metadata": {},
   "outputs": [
    {
     "data": {
      "text/plain": [
       "1     1735969\n",
       "3      550197\n",
       "15     436565\n",
       "4      394677\n",
       "5      386259\n",
       "       ...   \n",
       "42        205\n",
       "41        122\n",
       "85         85\n",
       "40         45\n",
       "39         16\n",
       "Name: 대분류코드, Length: 92, dtype: int64"
      ]
     },
     "execution_count": 96,
     "metadata": {},
     "output_type": "execute_result"
    }
   ],
   "source": [
    "m_purchase['대분류코드'].value_counts()"
   ]
  },
  {
   "cell_type": "code",
   "execution_count": 97,
   "metadata": {},
   "outputs": [
    {
     "data": {
      "text/plain": [
       "106     520069\n",
       "104     340010\n",
       "101     223533\n",
       "402     221041\n",
       "102     183020\n",
       "         ...  \n",
       "4003         1\n",
       "5101         1\n",
       "4211         1\n",
       "4208         1\n",
       "511          1\n",
       "Name: 중분류코드, Length: 640, dtype: int64"
      ]
     },
     "execution_count": 97,
     "metadata": {},
     "output_type": "execute_result"
    }
   ],
   "source": [
    "m_purchase['중분류코드'].value_counts()"
   ]
  },
  {
   "cell_type": "code",
   "execution_count": 98,
   "metadata": {},
   "outputs": [
    {
     "data": {
      "text/plain": [
       "A010302    93145\n",
       "A010401    88626\n",
       "A010403    80483\n",
       "A010404    73123\n",
       "A010402    69855\n",
       "           ...  \n",
       "C170330        1\n",
       "C170532        1\n",
       "A060243        1\n",
       "B420302        1\n",
       "B330405        1\n",
       "Name: 소분류코드, Length: 4137, dtype: int64"
      ]
     },
     "execution_count": 98,
     "metadata": {},
     "output_type": "execute_result"
    }
   ],
   "source": [
    "m_purchase['소분류코드'].value_counts()"
   ]
  },
  {
   "cell_type": "code",
   "execution_count": null,
   "metadata": {},
   "outputs": [],
   "source": [
    "# 상품의 소분류 개수는 4137개로 각각 640개의 중분류와 92개의 대분류로 나누어진다."
   ]
  },
  {
   "cell_type": "code",
   "execution_count": 158,
   "metadata": {},
   "outputs": [
    {
     "data": {
      "text/html": [
       "<div>\n",
       "<style scoped>\n",
       "    .dataframe tbody tr th:only-of-type {\n",
       "        vertical-align: middle;\n",
       "    }\n",
       "\n",
       "    .dataframe tbody tr th {\n",
       "        vertical-align: top;\n",
       "    }\n",
       "\n",
       "    .dataframe thead th {\n",
       "        text-align: right;\n",
       "    }\n",
       "</style>\n",
       "<table border=\"1\" class=\"dataframe\">\n",
       "  <thead>\n",
       "    <tr style=\"text-align: right;\">\n",
       "      <th>VIP</th>\n",
       "      <th>0</th>\n",
       "      <th>1</th>\n",
       "      <th>All</th>\n",
       "    </tr>\n",
       "    <tr>\n",
       "      <th>대분류코드</th>\n",
       "      <th></th>\n",
       "      <th></th>\n",
       "      <th></th>\n",
       "    </tr>\n",
       "  </thead>\n",
       "  <tbody>\n",
       "    <tr>\n",
       "      <td>All</td>\n",
       "      <td>4802242</td>\n",
       "      <td>3379750</td>\n",
       "      <td>8181992</td>\n",
       "    </tr>\n",
       "    <tr>\n",
       "      <td>1</td>\n",
       "      <td>650117</td>\n",
       "      <td>1085852</td>\n",
       "      <td>1735969</td>\n",
       "    </tr>\n",
       "    <tr>\n",
       "      <td>4</td>\n",
       "      <td>147395</td>\n",
       "      <td>247282</td>\n",
       "      <td>394677</td>\n",
       "    </tr>\n",
       "    <tr>\n",
       "      <td>2</td>\n",
       "      <td>71826</td>\n",
       "      <td>179622</td>\n",
       "      <td>251448</td>\n",
       "    </tr>\n",
       "    <tr>\n",
       "      <td>3</td>\n",
       "      <td>372148</td>\n",
       "      <td>178049</td>\n",
       "      <td>550197</td>\n",
       "    </tr>\n",
       "  </tbody>\n",
       "</table>\n",
       "</div>"
      ],
      "text/plain": [
       "VIP          0        1      All\n",
       "대분류코드                           \n",
       "All    4802242  3379750  8181992\n",
       "1       650117  1085852  1735969\n",
       "4       147395   247282   394677\n",
       "2        71826   179622   251448\n",
       "3       372148   178049   550197"
      ]
     },
     "execution_count": 158,
     "metadata": {},
     "output_type": "execute_result"
    }
   ],
   "source": [
    "pd.crosstab(m_purchase['대분류코드'], m_purchase['VIP'], margins=True).sort_values([1], ascending=[False]).head()"
   ]
  },
  {
   "cell_type": "code",
   "execution_count": 159,
   "metadata": {},
   "outputs": [
    {
     "data": {
      "text/html": [
       "<div>\n",
       "<style scoped>\n",
       "    .dataframe tbody tr th:only-of-type {\n",
       "        vertical-align: middle;\n",
       "    }\n",
       "\n",
       "    .dataframe tbody tr th {\n",
       "        vertical-align: top;\n",
       "    }\n",
       "\n",
       "    .dataframe thead th {\n",
       "        text-align: right;\n",
       "    }\n",
       "</style>\n",
       "<table border=\"1\" class=\"dataframe\">\n",
       "  <thead>\n",
       "    <tr style=\"text-align: right;\">\n",
       "      <th>VIP</th>\n",
       "      <th>0</th>\n",
       "      <th>1</th>\n",
       "      <th>All</th>\n",
       "    </tr>\n",
       "    <tr>\n",
       "      <th>중분류코드</th>\n",
       "      <th></th>\n",
       "      <th></th>\n",
       "      <th></th>\n",
       "    </tr>\n",
       "  </thead>\n",
       "  <tbody>\n",
       "    <tr>\n",
       "      <td>All</td>\n",
       "      <td>4802242</td>\n",
       "      <td>3379750</td>\n",
       "      <td>8181992</td>\n",
       "    </tr>\n",
       "    <tr>\n",
       "      <td>106</td>\n",
       "      <td>165936</td>\n",
       "      <td>354133</td>\n",
       "      <td>520069</td>\n",
       "    </tr>\n",
       "    <tr>\n",
       "      <td>104</td>\n",
       "      <td>101544</td>\n",
       "      <td>238466</td>\n",
       "      <td>340010</td>\n",
       "    </tr>\n",
       "    <tr>\n",
       "      <td>402</td>\n",
       "      <td>62393</td>\n",
       "      <td>158648</td>\n",
       "      <td>221041</td>\n",
       "    </tr>\n",
       "    <tr>\n",
       "      <td>101</td>\n",
       "      <td>126938</td>\n",
       "      <td>96595</td>\n",
       "      <td>223533</td>\n",
       "    </tr>\n",
       "  </tbody>\n",
       "</table>\n",
       "</div>"
      ],
      "text/plain": [
       "VIP          0        1      All\n",
       "중분류코드                           \n",
       "All    4802242  3379750  8181992\n",
       "106     165936   354133   520069\n",
       "104     101544   238466   340010\n",
       "402      62393   158648   221041\n",
       "101     126938    96595   223533"
      ]
     },
     "execution_count": 159,
     "metadata": {},
     "output_type": "execute_result"
    }
   ],
   "source": [
    "pd.crosstab(m_purchase['중분류코드'], m_purchase['VIP'], margins=True).sort_values([1], ascending=[False]).head()"
   ]
  },
  {
   "cell_type": "code",
   "execution_count": 160,
   "metadata": {},
   "outputs": [
    {
     "data": {
      "text/html": [
       "<div>\n",
       "<style scoped>\n",
       "    .dataframe tbody tr th:only-of-type {\n",
       "        vertical-align: middle;\n",
       "    }\n",
       "\n",
       "    .dataframe tbody tr th {\n",
       "        vertical-align: top;\n",
       "    }\n",
       "\n",
       "    .dataframe thead th {\n",
       "        text-align: right;\n",
       "    }\n",
       "</style>\n",
       "<table border=\"1\" class=\"dataframe\">\n",
       "  <thead>\n",
       "    <tr style=\"text-align: right;\">\n",
       "      <th>VIP</th>\n",
       "      <th>0</th>\n",
       "      <th>1</th>\n",
       "      <th>All</th>\n",
       "    </tr>\n",
       "    <tr>\n",
       "      <th>소분류코드</th>\n",
       "      <th></th>\n",
       "      <th></th>\n",
       "      <th></th>\n",
       "    </tr>\n",
       "  </thead>\n",
       "  <tbody>\n",
       "    <tr>\n",
       "      <td>All</td>\n",
       "      <td>4802242</td>\n",
       "      <td>3379750</td>\n",
       "      <td>8181992</td>\n",
       "    </tr>\n",
       "    <tr>\n",
       "      <td>A010401</td>\n",
       "      <td>25287</td>\n",
       "      <td>63339</td>\n",
       "      <td>88626</td>\n",
       "    </tr>\n",
       "    <tr>\n",
       "      <td>A010302</td>\n",
       "      <td>32538</td>\n",
       "      <td>60607</td>\n",
       "      <td>93145</td>\n",
       "    </tr>\n",
       "    <tr>\n",
       "      <td>A010403</td>\n",
       "      <td>24669</td>\n",
       "      <td>55814</td>\n",
       "      <td>80483</td>\n",
       "    </tr>\n",
       "    <tr>\n",
       "      <td>A010404</td>\n",
       "      <td>22224</td>\n",
       "      <td>50899</td>\n",
       "      <td>73123</td>\n",
       "    </tr>\n",
       "  </tbody>\n",
       "</table>\n",
       "</div>"
      ],
      "text/plain": [
       "VIP            0        1      All\n",
       "소분류코드                             \n",
       "All      4802242  3379750  8181992\n",
       "A010401    25287    63339    88626\n",
       "A010302    32538    60607    93145\n",
       "A010403    24669    55814    80483\n",
       "A010404    22224    50899    73123"
      ]
     },
     "execution_count": 160,
     "metadata": {},
     "output_type": "execute_result"
    }
   ],
   "source": [
    "pd.crosstab(m_purchase['소분류코드'], m_purchase['VIP'], margins=True).sort_values([1], ascending=[False]).head()"
   ]
  },
  {
   "cell_type": "code",
   "execution_count": null,
   "metadata": {},
   "outputs": [],
   "source": [
    "# 대분류코드에서는 1번 항목이, 중분류에서는 106이, 소분류에서는 A010401항목의 구매 건수가 높은 것을 확인할 수 있다."
   ]
  },
  {
   "cell_type": "code",
   "execution_count": 178,
   "metadata": {
    "scrolled": true
   },
   "outputs": [
    {
     "data": {
      "text/html": [
       "<div>\n",
       "<style scoped>\n",
       "    .dataframe tbody tr th:only-of-type {\n",
       "        vertical-align: middle;\n",
       "    }\n",
       "\n",
       "    .dataframe tbody tr th {\n",
       "        vertical-align: top;\n",
       "    }\n",
       "\n",
       "    .dataframe thead th {\n",
       "        text-align: right;\n",
       "    }\n",
       "</style>\n",
       "<table border=\"1\" class=\"dataframe\">\n",
       "  <thead>\n",
       "    <tr style=\"text-align: right;\">\n",
       "      <th></th>\n",
       "      <th>제휴사</th>\n",
       "      <th>대분류코드</th>\n",
       "      <th>중분류코드</th>\n",
       "      <th>소분류코드</th>\n",
       "      <th>중분류명</th>\n",
       "      <th>소분류명</th>\n",
       "    </tr>\n",
       "  </thead>\n",
       "  <tbody>\n",
       "    <tr>\n",
       "      <td>0</td>\n",
       "      <td>A</td>\n",
       "      <td>1</td>\n",
       "      <td>101</td>\n",
       "      <td>A010101</td>\n",
       "      <td>일용잡화</td>\n",
       "      <td>위생세제</td>\n",
       "    </tr>\n",
       "    <tr>\n",
       "      <td>1</td>\n",
       "      <td>A</td>\n",
       "      <td>1</td>\n",
       "      <td>101</td>\n",
       "      <td>A010102</td>\n",
       "      <td>일용잡화</td>\n",
       "      <td>휴지류</td>\n",
       "    </tr>\n",
       "    <tr>\n",
       "      <td>2</td>\n",
       "      <td>A</td>\n",
       "      <td>1</td>\n",
       "      <td>101</td>\n",
       "      <td>A010103</td>\n",
       "      <td>일용잡화</td>\n",
       "      <td>뷰티상품</td>\n",
       "    </tr>\n",
       "    <tr>\n",
       "      <td>3</td>\n",
       "      <td>A</td>\n",
       "      <td>1</td>\n",
       "      <td>101</td>\n",
       "      <td>A010104</td>\n",
       "      <td>일용잡화</td>\n",
       "      <td>일용잡화</td>\n",
       "    </tr>\n",
       "    <tr>\n",
       "      <td>4</td>\n",
       "      <td>A</td>\n",
       "      <td>1</td>\n",
       "      <td>101</td>\n",
       "      <td>A010105</td>\n",
       "      <td>일용잡화</td>\n",
       "      <td>세트상품</td>\n",
       "    </tr>\n",
       "  </tbody>\n",
       "</table>\n",
       "</div>"
      ],
      "text/plain": [
       "  제휴사  대분류코드  중분류코드    소분류코드  중분류명  소분류명\n",
       "0   A      1    101  A010101  일용잡화  위생세제\n",
       "1   A      1    101  A010102  일용잡화   휴지류\n",
       "2   A      1    101  A010103  일용잡화  뷰티상품\n",
       "3   A      1    101  A010104  일용잡화  일용잡화\n",
       "4   A      1    101  A010105  일용잡화  세트상품"
      ]
     },
     "execution_count": 178,
     "metadata": {},
     "output_type": "execute_result"
    }
   ],
   "source": [
    "df_product[df_product['대분류코드']==1].head()"
   ]
  },
  {
   "cell_type": "code",
   "execution_count": 100,
   "metadata": {},
   "outputs": [
    {
     "data": {
      "text/plain": [
       "236"
      ]
     },
     "execution_count": 100,
     "metadata": {},
     "output_type": "execute_result"
    }
   ],
   "source": [
    "len(df_product[df_product['대분류코드']==1])"
   ]
  },
  {
   "cell_type": "code",
   "execution_count": 101,
   "metadata": {},
   "outputs": [
    {
     "data": {
      "text/plain": [
       "17    306\n",
       "5     288\n",
       "6     240\n",
       "1     236\n",
       "4     232\n",
       "     ... \n",
       "59      6\n",
       "89      6\n",
       "61      5\n",
       "58      4\n",
       "60      1\n",
       "Name: 대분류코드, Length: 92, dtype: int64"
      ]
     },
     "execution_count": 101,
     "metadata": {},
     "output_type": "execute_result"
    }
   ],
   "source": [
    "df_product['대분류코드'].value_counts()"
   ]
  },
  {
   "cell_type": "code",
   "execution_count": 180,
   "metadata": {
    "scrolled": true
   },
   "outputs": [
    {
     "data": {
      "text/html": [
       "<div>\n",
       "<style scoped>\n",
       "    .dataframe tbody tr th:only-of-type {\n",
       "        vertical-align: middle;\n",
       "    }\n",
       "\n",
       "    .dataframe tbody tr th {\n",
       "        vertical-align: top;\n",
       "    }\n",
       "\n",
       "    .dataframe thead th {\n",
       "        text-align: right;\n",
       "    }\n",
       "</style>\n",
       "<table border=\"1\" class=\"dataframe\">\n",
       "  <thead>\n",
       "    <tr style=\"text-align: right;\">\n",
       "      <th></th>\n",
       "      <th>제휴사</th>\n",
       "      <th>대분류코드</th>\n",
       "      <th>중분류코드</th>\n",
       "      <th>소분류코드</th>\n",
       "      <th>중분류명</th>\n",
       "      <th>소분류명</th>\n",
       "    </tr>\n",
       "  </thead>\n",
       "  <tbody>\n",
       "    <tr>\n",
       "      <td>53</td>\n",
       "      <td>A</td>\n",
       "      <td>1</td>\n",
       "      <td>106</td>\n",
       "      <td>A010601</td>\n",
       "      <td>가공식품</td>\n",
       "      <td>한식델리</td>\n",
       "    </tr>\n",
       "    <tr>\n",
       "      <td>54</td>\n",
       "      <td>A</td>\n",
       "      <td>1</td>\n",
       "      <td>106</td>\n",
       "      <td>A010602</td>\n",
       "      <td>가공식품</td>\n",
       "      <td>일식델리</td>\n",
       "    </tr>\n",
       "    <tr>\n",
       "      <td>55</td>\n",
       "      <td>A</td>\n",
       "      <td>1</td>\n",
       "      <td>106</td>\n",
       "      <td>A010603</td>\n",
       "      <td>가공식품</td>\n",
       "      <td>서양델리</td>\n",
       "    </tr>\n",
       "    <tr>\n",
       "      <td>56</td>\n",
       "      <td>A</td>\n",
       "      <td>1</td>\n",
       "      <td>106</td>\n",
       "      <td>A010604</td>\n",
       "      <td>가공식품</td>\n",
       "      <td>에스닉푸드</td>\n",
       "    </tr>\n",
       "    <tr>\n",
       "      <td>57</td>\n",
       "      <td>A</td>\n",
       "      <td>1</td>\n",
       "      <td>106</td>\n",
       "      <td>A010605</td>\n",
       "      <td>가공식품</td>\n",
       "      <td>중식델리</td>\n",
       "    </tr>\n",
       "  </tbody>\n",
       "</table>\n",
       "</div>"
      ],
      "text/plain": [
       "   제휴사  대분류코드  중분류코드    소분류코드  중분류명   소분류명\n",
       "53   A      1    106  A010601  가공식품   한식델리\n",
       "54   A      1    106  A010602  가공식품   일식델리\n",
       "55   A      1    106  A010603  가공식품   서양델리\n",
       "56   A      1    106  A010604  가공식품  에스닉푸드\n",
       "57   A      1    106  A010605  가공식품   중식델리"
      ]
     },
     "execution_count": 180,
     "metadata": {},
     "output_type": "execute_result"
    }
   ],
   "source": [
    "df_product[df_product['중분류코드']==106].head()"
   ]
  },
  {
   "cell_type": "code",
   "execution_count": 99,
   "metadata": {},
   "outputs": [
    {
     "data": {
      "text/plain": [
       "59"
      ]
     },
     "execution_count": 99,
     "metadata": {},
     "output_type": "execute_result"
    }
   ],
   "source": [
    "len(df_product[df_product['중분류코드']==106])"
   ]
  },
  {
   "cell_type": "code",
   "execution_count": 102,
   "metadata": {},
   "outputs": [
    {
     "data": {
      "text/plain": [
       "601     114\n",
       "402     105\n",
       "1701     69\n",
       "1706     68\n",
       "602      64\n",
       "       ... \n",
       "5311      1\n",
       "1309      1\n",
       "1409      1\n",
       "5903      1\n",
       "4102      1\n",
       "Name: 중분류코드, Length: 656, dtype: int64"
      ]
     },
     "execution_count": 102,
     "metadata": {},
     "output_type": "execute_result"
    }
   ],
   "source": [
    "df_product['중분류코드'].value_counts()"
   ]
  },
  {
   "cell_type": "code",
   "execution_count": 181,
   "metadata": {},
   "outputs": [
    {
     "data": {
      "text/html": [
       "<div>\n",
       "<style scoped>\n",
       "    .dataframe tbody tr th:only-of-type {\n",
       "        vertical-align: middle;\n",
       "    }\n",
       "\n",
       "    .dataframe tbody tr th {\n",
       "        vertical-align: top;\n",
       "    }\n",
       "\n",
       "    .dataframe thead th {\n",
       "        text-align: right;\n",
       "    }\n",
       "</style>\n",
       "<table border=\"1\" class=\"dataframe\">\n",
       "  <thead>\n",
       "    <tr style=\"text-align: right;\">\n",
       "      <th></th>\n",
       "      <th>제휴사</th>\n",
       "      <th>대분류코드</th>\n",
       "      <th>중분류코드</th>\n",
       "      <th>소분류코드</th>\n",
       "      <th>중분류명</th>\n",
       "      <th>소분류명</th>\n",
       "    </tr>\n",
       "  </thead>\n",
       "  <tbody>\n",
       "    <tr>\n",
       "      <td>19</td>\n",
       "      <td>A</td>\n",
       "      <td>1</td>\n",
       "      <td>104</td>\n",
       "      <td>A010401</td>\n",
       "      <td>농산물</td>\n",
       "      <td>청과</td>\n",
       "    </tr>\n",
       "  </tbody>\n",
       "</table>\n",
       "</div>"
      ],
      "text/plain": [
       "   제휴사  대분류코드  중분류코드    소분류코드 중분류명 소분류명\n",
       "19   A      1    104  A010401  농산물   청과"
      ]
     },
     "execution_count": 181,
     "metadata": {},
     "output_type": "execute_result"
    }
   ],
   "source": [
    "df_product[df_product['소분류코드']=='A010401'].head()"
   ]
  },
  {
   "cell_type": "code",
   "execution_count": null,
   "metadata": {},
   "outputs": [],
   "source": [
    "# 항목을 보았을 때 종합적으로 청과가 가장 구매건수가 높은 것을 확인할 수 있다.\n",
    "\n",
    "# 대분류코드에서는 일용잡화 항목이 구매건수가 높은 것으로 나와있는데, \n",
    "# 일용잡화의 종류가 많아서 구매건수가 높게 나타난 것을 확인할 수 있다.\n",
    "\n",
    "# 중분류코드에서는 가공식품의 항목이 구매건수가 높게 나왔는데, \n",
    "# 다른 중분류 항목과 비교하면 비교적 많지않기 때문에 구매건수가 높음을 유추할 수 있다."
   ]
  },
  {
   "cell_type": "markdown",
   "metadata": {},
   "source": [
    "### 점포코드"
   ]
  },
  {
   "cell_type": "code",
   "execution_count": 161,
   "metadata": {},
   "outputs": [
    {
     "data": {
      "text/html": [
       "<div>\n",
       "<style scoped>\n",
       "    .dataframe tbody tr th:only-of-type {\n",
       "        vertical-align: middle;\n",
       "    }\n",
       "\n",
       "    .dataframe tbody tr th {\n",
       "        vertical-align: top;\n",
       "    }\n",
       "\n",
       "    .dataframe thead th {\n",
       "        text-align: right;\n",
       "    }\n",
       "</style>\n",
       "<table border=\"1\" class=\"dataframe\">\n",
       "  <thead>\n",
       "    <tr style=\"text-align: right;\">\n",
       "      <th>VIP</th>\n",
       "      <th>0</th>\n",
       "      <th>1</th>\n",
       "      <th>All</th>\n",
       "    </tr>\n",
       "    <tr>\n",
       "      <th>점포코드</th>\n",
       "      <th></th>\n",
       "      <th></th>\n",
       "      <th></th>\n",
       "    </tr>\n",
       "  </thead>\n",
       "  <tbody>\n",
       "    <tr>\n",
       "      <td>All</td>\n",
       "      <td>4802242</td>\n",
       "      <td>3379750</td>\n",
       "      <td>8181992</td>\n",
       "    </tr>\n",
       "    <tr>\n",
       "      <td>2</td>\n",
       "      <td>126694</td>\n",
       "      <td>493867</td>\n",
       "      <td>620561</td>\n",
       "    </tr>\n",
       "    <tr>\n",
       "      <td>7</td>\n",
       "      <td>328200</td>\n",
       "      <td>432055</td>\n",
       "      <td>760255</td>\n",
       "    </tr>\n",
       "    <tr>\n",
       "      <td>20</td>\n",
       "      <td>201342</td>\n",
       "      <td>322905</td>\n",
       "      <td>524247</td>\n",
       "    </tr>\n",
       "    <tr>\n",
       "      <td>12</td>\n",
       "      <td>169617</td>\n",
       "      <td>261461</td>\n",
       "      <td>431078</td>\n",
       "    </tr>\n",
       "  </tbody>\n",
       "</table>\n",
       "</div>"
      ],
      "text/plain": [
       "VIP         0        1      All\n",
       "점포코드                           \n",
       "All   4802242  3379750  8181992\n",
       "2      126694   493867   620561\n",
       "7      328200   432055   760255\n",
       "20     201342   322905   524247\n",
       "12     169617   261461   431078"
      ]
     },
     "execution_count": 161,
     "metadata": {},
     "output_type": "execute_result"
    }
   ],
   "source": [
    "pd.crosstab(m_purchase['점포코드'], m_purchase['VIP'], margins=True).sort_values([1], ascending=[False]).head()"
   ]
  },
  {
   "cell_type": "code",
   "execution_count": 104,
   "metadata": {},
   "outputs": [],
   "source": [
    "vip_store = m_purchase['점포코드'][m_purchase['VIP'] == 1]\n",
    "normal_store = m_purchase['점포코드'][m_purchase['VIP'] == 0]"
   ]
  },
  {
   "cell_type": "code",
   "execution_count": 165,
   "metadata": {},
   "outputs": [
    {
     "data": {
      "text/plain": [
       "<matplotlib.legend.Legend at 0x1eb9fe3eac8>"
      ]
     },
     "execution_count": 165,
     "metadata": {},
     "output_type": "execute_result"
    },
    {
     "data": {
      "image/png": "[encoded data removed]",
      "text/plain": [
       "<Figure size 720x720 with 1 Axes>"
      ]
     },
     "metadata": {
      "needs_background": "light"
     },
     "output_type": "display_data"
    }
   ],
   "source": [
    "plt.figure(figsize =(10, 10))\n",
    "vip_store.plot(kind='kde')\n",
    "normal_store.plot(kind='kde')\n",
    "plt.legend(['vip_compnay', 'normal_company'])"
   ]
  },
  {
   "cell_type": "code",
   "execution_count": 106,
   "metadata": {},
   "outputs": [
    {
     "data": {
      "text/plain": [
       "송파구    469264\n",
       "강남구     45506\n",
       "광진구     31431\n",
       "강동구     15396\n",
       "성동구     11155\n",
       "Name: S_koo, dtype: int64"
      ]
     },
     "execution_count": 106,
     "metadata": {},
     "output_type": "execute_result"
    }
   ],
   "source": [
    "m_purchase['S_koo'][m_purchase['점포코드']==2].value_counts().head()"
   ]
  },
  {
   "cell_type": "code",
   "execution_count": 107,
   "metadata": {
    "scrolled": true
   },
   "outputs": [
    {
     "data": {
      "text/plain": [
       "송파구    635914\n",
       "강남구     36334\n",
       "강동구     18213\n",
       "광진구     15621\n",
       "성동구      8106\n",
       "Name: S_koo, dtype: int64"
      ]
     },
     "execution_count": 107,
     "metadata": {},
     "output_type": "execute_result"
    }
   ],
   "source": [
    "m_purchase['S_koo'][m_purchase['점포코드']==7].value_counts().head()"
   ]
  },
  {
   "cell_type": "code",
   "execution_count": 166,
   "metadata": {},
   "outputs": [
    {
     "data": {
      "text/plain": [
       "노원구    362214\n",
       "도봉구     97385\n",
       "강북구     11231\n",
       "중랑구      9725\n",
       "성북구      7383\n",
       "Name: S_koo, dtype: int64"
      ]
     },
     "execution_count": 166,
     "metadata": {},
     "output_type": "execute_result"
    }
   ],
   "source": [
    "m_purchase['S_koo'][m_purchase['점포코드']==20].value_counts().head()"
   ]
  },
  {
   "cell_type": "code",
   "execution_count": 167,
   "metadata": {},
   "outputs": [
    {
     "data": {
      "text/plain": [
       "강남구    262775\n",
       "강북구     87208\n",
       "송파구     25805\n",
       "서초구     17651\n",
       "도봉구      7202\n",
       "Name: S_koo, dtype: int64"
      ]
     },
     "execution_count": 167,
     "metadata": {},
     "output_type": "execute_result"
    }
   ],
   "source": [
    "m_purchase['S_koo'][m_purchase['점포코드']==12].value_counts().head()"
   ]
  },
  {
   "cell_type": "code",
   "execution_count": null,
   "metadata": {},
   "outputs": [],
   "source": [
    "# VIP고객이 대체로 송파구, 강남구에 거주하는 것으로 보아 해당 지역 근처에 있는 점포에 있는 것을 확인할 수 있다."
   ]
  },
  {
   "cell_type": "markdown",
   "metadata": {},
   "source": [
    "### 구매일자"
   ]
  },
  {
   "cell_type": "code",
   "execution_count": 132,
   "metadata": {},
   "outputs": [
    {
     "data": {
      "text/plain": [
       "0          20140118\n",
       "1          20140203\n",
       "2          20140425\n",
       "3          20140425\n",
       "4          20140425\n",
       "             ...   \n",
       "8181987    20150925\n",
       "8181988    20150925\n",
       "8181989    20150925\n",
       "8181990    20150925\n",
       "8181991    20150925\n",
       "Name: 구매일자, Length: 8181992, dtype: int64"
      ]
     },
     "execution_count": 132,
     "metadata": {},
     "output_type": "execute_result"
    }
   ],
   "source": [
    "m_purchase['구매일자'].head()"
   ]
  },
  {
   "cell_type": "code",
   "execution_count": 149,
   "metadata": {},
   "outputs": [
    {
     "data": {
      "text/plain": [
       "count                 8181992\n",
       "unique                    730\n",
       "top       2015-09-25 00:00:00\n",
       "freq                    17696\n",
       "first     2014-01-01 00:00:00\n",
       "last      2015-12-31 00:00:00\n",
       "Name: 구매일자, dtype: object"
      ]
     },
     "execution_count": 149,
     "metadata": {},
     "output_type": "execute_result"
    }
   ],
   "source": [
    "m_purchase['구매일자'].describe()"
   ]
  },
  {
   "cell_type": "code",
   "execution_count": null,
   "metadata": {},
   "outputs": [],
   "source": [
    "# 2년치 데이터인 것을 알 수 있다."
   ]
  },
  {
   "cell_type": "code",
   "execution_count": 134,
   "metadata": {},
   "outputs": [
    {
     "data": {
      "text/plain": [
       "0   2014-01-18\n",
       "1   2014-02-03\n",
       "2   2014-04-25\n",
       "3   2014-04-25\n",
       "4   2014-04-25\n",
       "Name: 구매일자, dtype: datetime64[ns]"
      ]
     },
     "execution_count": 134,
     "metadata": {},
     "output_type": "execute_result"
    }
   ],
   "source": [
    "m_purchase['구매일자'] = pd.to_datetime(m_purchase['구매일자'], format='%Y%m%d')\n",
    "m_purchase['구매일자'].head()"
   ]
  },
  {
   "cell_type": "code",
   "execution_count": 145,
   "metadata": {
    "scrolled": false
   },
   "outputs": [
    {
     "data": {
      "text/plain": [
       "(array([363335., 369412., 398816., 389022., 416474., 409664., 405985.,\n",
       "        392416., 403625., 416314., 412206., 418320., 432121., 438370.,\n",
       "        442430., 454152., 424250., 392340., 393157., 409583.]),\n",
       " array([735234.  , 735270.45, 735306.9 , 735343.35, 735379.8 , 735416.25,\n",
       "        735452.7 , 735489.15, 735525.6 , 735562.05, 735598.5 , 735634.95,\n",
       "        735671.4 , 735707.85, 735744.3 , 735780.75, 735817.2 , 735853.65,\n",
       "        735890.1 , 735926.55, 735963.  ]),\n",
       " <a list of 20 Patch objects>)"
      ]
     },
     "execution_count": 145,
     "metadata": {},
     "output_type": "execute_result"
    },
    {
     "data": {
      "image/png": "[encoded data removed]",
      "text/plain": [
       "<Figure size 576x432 with 1 Axes>"
      ]
     },
     "metadata": {
      "needs_background": "light"
     },
     "output_type": "display_data"
    }
   ],
   "source": [
    "plt.figure(figsize=(8, 6))\n",
    "plt.hist(m_purchase['구매일자'].sort_values(), bins=20)"
   ]
  },
  {
   "cell_type": "code",
   "execution_count": 168,
   "metadata": {},
   "outputs": [
    {
     "data": {
      "text/html": [
       "<div>\n",
       "<style scoped>\n",
       "    .dataframe tbody tr th:only-of-type {\n",
       "        vertical-align: middle;\n",
       "    }\n",
       "\n",
       "    .dataframe tbody tr th {\n",
       "        vertical-align: top;\n",
       "    }\n",
       "\n",
       "    .dataframe thead th {\n",
       "        text-align: right;\n",
       "    }\n",
       "</style>\n",
       "<table border=\"1\" class=\"dataframe\">\n",
       "  <thead>\n",
       "    <tr style=\"text-align: right;\">\n",
       "      <th>VIP</th>\n",
       "      <th>0</th>\n",
       "      <th>1</th>\n",
       "      <th>All</th>\n",
       "    </tr>\n",
       "    <tr>\n",
       "      <th>구매일자</th>\n",
       "      <th></th>\n",
       "      <th></th>\n",
       "      <th></th>\n",
       "    </tr>\n",
       "  </thead>\n",
       "  <tbody>\n",
       "    <tr>\n",
       "      <td>All</td>\n",
       "      <td>4802242</td>\n",
       "      <td>3379750</td>\n",
       "      <td>8181992</td>\n",
       "    </tr>\n",
       "    <tr>\n",
       "      <td>2015-02-17 00:00:00</td>\n",
       "      <td>10479</td>\n",
       "      <td>7114</td>\n",
       "      <td>17593</td>\n",
       "    </tr>\n",
       "    <tr>\n",
       "      <td>2015-09-25 00:00:00</td>\n",
       "      <td>10071</td>\n",
       "      <td>7625</td>\n",
       "      <td>17696</td>\n",
       "    </tr>\n",
       "    <tr>\n",
       "      <td>2015-07-11 00:00:00</td>\n",
       "      <td>10013</td>\n",
       "      <td>6662</td>\n",
       "      <td>16675</td>\n",
       "    </tr>\n",
       "    <tr>\n",
       "      <td>2015-06-13 00:00:00</td>\n",
       "      <td>9714</td>\n",
       "      <td>5773</td>\n",
       "      <td>15487</td>\n",
       "    </tr>\n",
       "  </tbody>\n",
       "</table>\n",
       "</div>"
      ],
      "text/plain": [
       "VIP                        0        1      All\n",
       "구매일자                                          \n",
       "All                  4802242  3379750  8181992\n",
       "2015-02-17 00:00:00    10479     7114    17593\n",
       "2015-09-25 00:00:00    10071     7625    17696\n",
       "2015-07-11 00:00:00    10013     6662    16675\n",
       "2015-06-13 00:00:00     9714     5773    15487"
      ]
     },
     "execution_count": 168,
     "metadata": {},
     "output_type": "execute_result"
    }
   ],
   "source": [
    "pd.crosstab(m_purchase['구매일자'], m_purchase['VIP'], margins=True).sort_values([0], ascending=[False]).head()"
   ]
  },
  {
   "cell_type": "code",
   "execution_count": 162,
   "metadata": {},
   "outputs": [
    {
     "data": {
      "text/html": [
       "<div>\n",
       "<style scoped>\n",
       "    .dataframe tbody tr th:only-of-type {\n",
       "        vertical-align: middle;\n",
       "    }\n",
       "\n",
       "    .dataframe tbody tr th {\n",
       "        vertical-align: top;\n",
       "    }\n",
       "\n",
       "    .dataframe thead th {\n",
       "        text-align: right;\n",
       "    }\n",
       "</style>\n",
       "<table border=\"1\" class=\"dataframe\">\n",
       "  <thead>\n",
       "    <tr style=\"text-align: right;\">\n",
       "      <th>VIP</th>\n",
       "      <th>0</th>\n",
       "      <th>1</th>\n",
       "      <th>All</th>\n",
       "    </tr>\n",
       "    <tr>\n",
       "      <th>구매일자</th>\n",
       "      <th></th>\n",
       "      <th></th>\n",
       "      <th></th>\n",
       "    </tr>\n",
       "  </thead>\n",
       "  <tbody>\n",
       "    <tr>\n",
       "      <td>All</td>\n",
       "      <td>4802242</td>\n",
       "      <td>3379750</td>\n",
       "      <td>8181992</td>\n",
       "    </tr>\n",
       "    <tr>\n",
       "      <td>2015-09-25 00:00:00</td>\n",
       "      <td>10071</td>\n",
       "      <td>7625</td>\n",
       "      <td>17696</td>\n",
       "    </tr>\n",
       "    <tr>\n",
       "      <td>2014-09-06 00:00:00</td>\n",
       "      <td>9682</td>\n",
       "      <td>7210</td>\n",
       "      <td>16892</td>\n",
       "    </tr>\n",
       "    <tr>\n",
       "      <td>2015-02-17 00:00:00</td>\n",
       "      <td>10479</td>\n",
       "      <td>7114</td>\n",
       "      <td>17593</td>\n",
       "    </tr>\n",
       "    <tr>\n",
       "      <td>2015-07-11 00:00:00</td>\n",
       "      <td>10013</td>\n",
       "      <td>6662</td>\n",
       "      <td>16675</td>\n",
       "    </tr>\n",
       "  </tbody>\n",
       "</table>\n",
       "</div>"
      ],
      "text/plain": [
       "VIP                        0        1      All\n",
       "구매일자                                          \n",
       "All                  4802242  3379750  8181992\n",
       "2015-09-25 00:00:00    10071     7625    17696\n",
       "2014-09-06 00:00:00     9682     7210    16892\n",
       "2015-02-17 00:00:00    10479     7114    17593\n",
       "2015-07-11 00:00:00    10013     6662    16675"
      ]
     },
     "execution_count": 162,
     "metadata": {},
     "output_type": "execute_result"
    }
   ],
   "source": [
    "pd.crosstab(m_purchase['구매일자'], m_purchase['VIP'], margins=True).sort_values([1], ascending=[False]).head()"
   ]
  },
  {
   "cell_type": "markdown",
   "metadata": {},
   "source": [
    "### 구매시간"
   ]
  },
  {
   "cell_type": "code",
   "execution_count": 150,
   "metadata": {},
   "outputs": [
    {
     "data": {
      "text/plain": [
       "18    886515\n",
       "17    875135\n",
       "16    810246\n",
       "19    779266\n",
       "15    728724\n",
       "Name: 구매시간, dtype: int64"
      ]
     },
     "execution_count": 150,
     "metadata": {},
     "output_type": "execute_result"
    }
   ],
   "source": [
    "m_purchase['구매시간'].value_counts().head()"
   ]
  },
  {
   "cell_type": "code",
   "execution_count": 151,
   "metadata": {
    "scrolled": true
   },
   "outputs": [
    {
     "data": {
      "text/plain": [
       "(array([1.515000e+03, 1.150000e+02, 1.190000e+02, 2.695800e+04,\n",
       "        6.436770e+05, 1.098510e+06, 2.190259e+06, 1.761650e+06,\n",
       "        1.364804e+06, 1.094385e+06]),\n",
       " array([ 0. ,  2.3,  4.6,  6.9,  9.2, 11.5, 13.8, 16.1, 18.4, 20.7, 23. ]),\n",
       " <a list of 10 Patch objects>)"
      ]
     },
     "execution_count": 151,
     "metadata": {},
     "output_type": "execute_result"
    },
    {
     "data": {
      "image/png": "[encoded data removed]",
      "text/plain": [
       "<Figure size 432x288 with 1 Axes>"
      ]
     },
     "metadata": {
      "needs_background": "light"
     },
     "output_type": "display_data"
    }
   ],
   "source": [
    "plt.hist(m_purchase['구매시간'])"
   ]
  },
  {
   "cell_type": "code",
   "execution_count": 156,
   "metadata": {
    "scrolled": true
   },
   "outputs": [
    {
     "data": {
      "text/html": [
       "<div>\n",
       "<style scoped>\n",
       "    .dataframe tbody tr th:only-of-type {\n",
       "        vertical-align: middle;\n",
       "    }\n",
       "\n",
       "    .dataframe tbody tr th {\n",
       "        vertical-align: top;\n",
       "    }\n",
       "\n",
       "    .dataframe thead th {\n",
       "        text-align: right;\n",
       "    }\n",
       "</style>\n",
       "<table border=\"1\" class=\"dataframe\">\n",
       "  <thead>\n",
       "    <tr style=\"text-align: right;\">\n",
       "      <th>VIP</th>\n",
       "      <th>0</th>\n",
       "      <th>1</th>\n",
       "    </tr>\n",
       "    <tr>\n",
       "      <th>구매시간</th>\n",
       "      <th></th>\n",
       "      <th></th>\n",
       "    </tr>\n",
       "  </thead>\n",
       "  <tbody>\n",
       "    <tr>\n",
       "      <td>18</td>\n",
       "      <td>534943</td>\n",
       "      <td>351572</td>\n",
       "    </tr>\n",
       "    <tr>\n",
       "      <td>17</td>\n",
       "      <td>499038</td>\n",
       "      <td>376097</td>\n",
       "    </tr>\n",
       "    <tr>\n",
       "      <td>19</td>\n",
       "      <td>464593</td>\n",
       "      <td>314673</td>\n",
       "    </tr>\n",
       "    <tr>\n",
       "      <td>16</td>\n",
       "      <td>428006</td>\n",
       "      <td>382240</td>\n",
       "    </tr>\n",
       "    <tr>\n",
       "      <td>20</td>\n",
       "      <td>390552</td>\n",
       "      <td>194986</td>\n",
       "    </tr>\n",
       "  </tbody>\n",
       "</table>\n",
       "</div>"
      ],
      "text/plain": [
       "VIP        0       1\n",
       "구매시간                \n",
       "18    534943  351572\n",
       "17    499038  376097\n",
       "19    464593  314673\n",
       "16    428006  382240\n",
       "20    390552  194986"
      ]
     },
     "execution_count": 156,
     "metadata": {},
     "output_type": "execute_result"
    }
   ],
   "source": [
    "pd.crosstab(m_purchase['구매시간'], m_purchase['VIP']).sort_values([0], ascending=[False]).head()"
   ]
  },
  {
   "cell_type": "code",
   "execution_count": null,
   "metadata": {},
   "outputs": [],
   "source": [
    "# VIP가 아닌 고객은 16시부터 20시에 이용이 몰려있으며, 18시에 가장 많은 고객이 이용한 것을 알 수 있다."
   ]
  },
  {
   "cell_type": "code",
   "execution_count": 163,
   "metadata": {},
   "outputs": [
    {
     "data": {
      "text/html": [
       "<div>\n",
       "<style scoped>\n",
       "    .dataframe tbody tr th:only-of-type {\n",
       "        vertical-align: middle;\n",
       "    }\n",
       "\n",
       "    .dataframe tbody tr th {\n",
       "        vertical-align: top;\n",
       "    }\n",
       "\n",
       "    .dataframe thead th {\n",
       "        text-align: right;\n",
       "    }\n",
       "</style>\n",
       "<table border=\"1\" class=\"dataframe\">\n",
       "  <thead>\n",
       "    <tr style=\"text-align: right;\">\n",
       "      <th>VIP</th>\n",
       "      <th>0</th>\n",
       "      <th>1</th>\n",
       "      <th>All</th>\n",
       "    </tr>\n",
       "    <tr>\n",
       "      <th>구매시간</th>\n",
       "      <th></th>\n",
       "      <th></th>\n",
       "      <th></th>\n",
       "    </tr>\n",
       "  </thead>\n",
       "  <tbody>\n",
       "    <tr>\n",
       "      <td>All</td>\n",
       "      <td>4802242</td>\n",
       "      <td>3379750</td>\n",
       "      <td>8181992</td>\n",
       "    </tr>\n",
       "    <tr>\n",
       "      <td>16</td>\n",
       "      <td>428006</td>\n",
       "      <td>382240</td>\n",
       "      <td>810246</td>\n",
       "    </tr>\n",
       "    <tr>\n",
       "      <td>17</td>\n",
       "      <td>499038</td>\n",
       "      <td>376097</td>\n",
       "      <td>875135</td>\n",
       "    </tr>\n",
       "    <tr>\n",
       "      <td>15</td>\n",
       "      <td>363692</td>\n",
       "      <td>365032</td>\n",
       "      <td>728724</td>\n",
       "    </tr>\n",
       "    <tr>\n",
       "      <td>18</td>\n",
       "      <td>534943</td>\n",
       "      <td>351572</td>\n",
       "      <td>886515</td>\n",
       "    </tr>\n",
       "  </tbody>\n",
       "</table>\n",
       "</div>"
      ],
      "text/plain": [
       "VIP         0        1      All\n",
       "구매시간                           \n",
       "All   4802242  3379750  8181992\n",
       "16     428006   382240   810246\n",
       "17     499038   376097   875135\n",
       "15     363692   365032   728724\n",
       "18     534943   351572   886515"
      ]
     },
     "execution_count": 163,
     "metadata": {},
     "output_type": "execute_result"
    }
   ],
   "source": [
    "pd.crosstab(m_purchase['구매시간'], m_purchase['VIP'], margins=True).sort_values([1], ascending=[False]).head()"
   ]
  },
  {
   "cell_type": "code",
   "execution_count": null,
   "metadata": {},
   "outputs": [],
   "source": [
    "# VIP 고객은 14시부터 18시까지 이용이 몰려있으며, 16시에 가장 많은 고객이 이용한 것을 확인할 수 있다."
   ]
  },
  {
   "cell_type": "code",
   "execution_count": 175,
   "metadata": {},
   "outputs": [],
   "source": [
    "vip_time = m_purchase['구매시간'][m_purchase['VIP'] == 1]\n",
    "normal_time = m_purchase['구매시간'][m_purchase['VIP'] == 0]"
   ]
  },
  {
   "cell_type": "code",
   "execution_count": 176,
   "metadata": {},
   "outputs": [
    {
     "ename": "KeyboardInterrupt",
     "evalue": "",
     "output_type": "error",
     "traceback": [
      "\u001b[1;31m---------------------------------------------------------------------------\u001b[0m",
      "\u001b[1;31mKeyboardInterrupt\u001b[0m                         Traceback (most recent call last)",
      "\u001b[1;32m<ipython-input-176-6f9dd1273d18>\u001b[0m in \u001b[0;36m<module>\u001b[1;34m\u001b[0m\n\u001b[0;32m      1\u001b[0m \u001b[0mplt\u001b[0m\u001b[1;33m.\u001b[0m\u001b[0mfigure\u001b[0m\u001b[1;33m(\u001b[0m\u001b[0mfigsize\u001b[0m \u001b[1;33m=\u001b[0m\u001b[1;33m(\u001b[0m\u001b[1;36m10\u001b[0m\u001b[1;33m,\u001b[0m \u001b[1;36m10\u001b[0m\u001b[1;33m)\u001b[0m\u001b[1;33m)\u001b[0m\u001b[1;33m\u001b[0m\u001b[1;33m\u001b[0m\u001b[0m\n\u001b[0;32m      2\u001b[0m \u001b[0mvip_time\u001b[0m\u001b[1;33m.\u001b[0m\u001b[0mplot\u001b[0m\u001b[1;33m(\u001b[0m\u001b[0mkind\u001b[0m\u001b[1;33m=\u001b[0m\u001b[1;34m'kde'\u001b[0m\u001b[1;33m)\u001b[0m\u001b[1;33m\u001b[0m\u001b[1;33m\u001b[0m\u001b[0m\n\u001b[1;32m----> 3\u001b[1;33m \u001b[0mnormal_time\u001b[0m\u001b[1;33m.\u001b[0m\u001b[0mplot\u001b[0m\u001b[1;33m(\u001b[0m\u001b[0mkind\u001b[0m\u001b[1;33m=\u001b[0m\u001b[1;34m'kde'\u001b[0m\u001b[1;33m)\u001b[0m\u001b[1;33m\u001b[0m\u001b[1;33m\u001b[0m\u001b[0m\n\u001b[0m\u001b[0;32m      4\u001b[0m \u001b[0mplt\u001b[0m\u001b[1;33m.\u001b[0m\u001b[0mlegend\u001b[0m\u001b[1;33m(\u001b[0m\u001b[1;33m[\u001b[0m\u001b[1;34m'vip_compnay'\u001b[0m\u001b[1;33m,\u001b[0m \u001b[1;34m'normal_company'\u001b[0m\u001b[1;33m]\u001b[0m\u001b[1;33m)\u001b[0m\u001b[1;33m\u001b[0m\u001b[1;33m\u001b[0m\u001b[0m\n",
      "\u001b[1;32mC:\\ai\\python\\Anaconda3\\lib\\site-packages\\pandas\\plotting\\_core.py\u001b[0m in \u001b[0;36m__call__\u001b[1;34m(self, *args, **kwargs)\u001b[0m\n\u001b[0;32m    792\u001b[0m                     \u001b[0mdata\u001b[0m\u001b[1;33m.\u001b[0m\u001b[0mcolumns\u001b[0m \u001b[1;33m=\u001b[0m \u001b[0mlabel_name\u001b[0m\u001b[1;33m\u001b[0m\u001b[1;33m\u001b[0m\u001b[0m\n\u001b[0;32m    793\u001b[0m \u001b[1;33m\u001b[0m\u001b[0m\n\u001b[1;32m--> 794\u001b[1;33m         \u001b[1;32mreturn\u001b[0m \u001b[0mplot_backend\u001b[0m\u001b[1;33m.\u001b[0m\u001b[0mplot\u001b[0m\u001b[1;33m(\u001b[0m\u001b[0mdata\u001b[0m\u001b[1;33m,\u001b[0m \u001b[0mkind\u001b[0m\u001b[1;33m=\u001b[0m\u001b[0mkind\u001b[0m\u001b[1;33m,\u001b[0m \u001b[1;33m**\u001b[0m\u001b[0mkwargs\u001b[0m\u001b[1;33m)\u001b[0m\u001b[1;33m\u001b[0m\u001b[1;33m\u001b[0m\u001b[0m\n\u001b[0m\u001b[0;32m    795\u001b[0m \u001b[1;33m\u001b[0m\u001b[0m\n\u001b[0;32m    796\u001b[0m     \u001b[1;32mdef\u001b[0m \u001b[0mline\u001b[0m\u001b[1;33m(\u001b[0m\u001b[0mself\u001b[0m\u001b[1;33m,\u001b[0m \u001b[0mx\u001b[0m\u001b[1;33m=\u001b[0m\u001b[1;32mNone\u001b[0m\u001b[1;33m,\u001b[0m \u001b[0my\u001b[0m\u001b[1;33m=\u001b[0m\u001b[1;32mNone\u001b[0m\u001b[1;33m,\u001b[0m \u001b[1;33m**\u001b[0m\u001b[0mkwargs\u001b[0m\u001b[1;33m)\u001b[0m\u001b[1;33m:\u001b[0m\u001b[1;33m\u001b[0m\u001b[1;33m\u001b[0m\u001b[0m\n",
      "\u001b[1;32mC:\\ai\\python\\Anaconda3\\lib\\site-packages\\pandas\\plotting\\_matplotlib\\__init__.py\u001b[0m in \u001b[0;36mplot\u001b[1;34m(data, kind, **kwargs)\u001b[0m\n\u001b[0;32m     60\u001b[0m             \u001b[0mkwargs\u001b[0m\u001b[1;33m[\u001b[0m\u001b[1;34m\"ax\"\u001b[0m\u001b[1;33m]\u001b[0m \u001b[1;33m=\u001b[0m \u001b[0mgetattr\u001b[0m\u001b[1;33m(\u001b[0m\u001b[0max\u001b[0m\u001b[1;33m,\u001b[0m \u001b[1;34m\"left_ax\"\u001b[0m\u001b[1;33m,\u001b[0m \u001b[0max\u001b[0m\u001b[1;33m)\u001b[0m\u001b[1;33m\u001b[0m\u001b[1;33m\u001b[0m\u001b[0m\n\u001b[0;32m     61\u001b[0m     \u001b[0mplot_obj\u001b[0m \u001b[1;33m=\u001b[0m \u001b[0mPLOT_CLASSES\u001b[0m\u001b[1;33m[\u001b[0m\u001b[0mkind\u001b[0m\u001b[1;33m]\u001b[0m\u001b[1;33m(\u001b[0m\u001b[0mdata\u001b[0m\u001b[1;33m,\u001b[0m \u001b[1;33m**\u001b[0m\u001b[0mkwargs\u001b[0m\u001b[1;33m)\u001b[0m\u001b[1;33m\u001b[0m\u001b[1;33m\u001b[0m\u001b[0m\n\u001b[1;32m---> 62\u001b[1;33m     \u001b[0mplot_obj\u001b[0m\u001b[1;33m.\u001b[0m\u001b[0mgenerate\u001b[0m\u001b[1;33m(\u001b[0m\u001b[1;33m)\u001b[0m\u001b[1;33m\u001b[0m\u001b[1;33m\u001b[0m\u001b[0m\n\u001b[0m\u001b[0;32m     63\u001b[0m     \u001b[0mplot_obj\u001b[0m\u001b[1;33m.\u001b[0m\u001b[0mdraw\u001b[0m\u001b[1;33m(\u001b[0m\u001b[1;33m)\u001b[0m\u001b[1;33m\u001b[0m\u001b[1;33m\u001b[0m\u001b[0m\n\u001b[0;32m     64\u001b[0m     \u001b[1;32mreturn\u001b[0m \u001b[0mplot_obj\u001b[0m\u001b[1;33m.\u001b[0m\u001b[0mresult\u001b[0m\u001b[1;33m\u001b[0m\u001b[1;33m\u001b[0m\u001b[0m\n",
      "\u001b[1;32mC:\\ai\\python\\Anaconda3\\lib\\site-packages\\pandas\\plotting\\_matplotlib\\core.py\u001b[0m in \u001b[0;36mgenerate\u001b[1;34m(self)\u001b[0m\n\u001b[0;32m    279\u001b[0m         \u001b[0mself\u001b[0m\u001b[1;33m.\u001b[0m\u001b[0m_compute_plot_data\u001b[0m\u001b[1;33m(\u001b[0m\u001b[1;33m)\u001b[0m\u001b[1;33m\u001b[0m\u001b[1;33m\u001b[0m\u001b[0m\n\u001b[0;32m    280\u001b[0m         \u001b[0mself\u001b[0m\u001b[1;33m.\u001b[0m\u001b[0m_setup_subplots\u001b[0m\u001b[1;33m(\u001b[0m\u001b[1;33m)\u001b[0m\u001b[1;33m\u001b[0m\u001b[1;33m\u001b[0m\u001b[0m\n\u001b[1;32m--> 281\u001b[1;33m         \u001b[0mself\u001b[0m\u001b[1;33m.\u001b[0m\u001b[0m_make_plot\u001b[0m\u001b[1;33m(\u001b[0m\u001b[1;33m)\u001b[0m\u001b[1;33m\u001b[0m\u001b[1;33m\u001b[0m\u001b[0m\n\u001b[0m\u001b[0;32m    282\u001b[0m         \u001b[0mself\u001b[0m\u001b[1;33m.\u001b[0m\u001b[0m_add_table\u001b[0m\u001b[1;33m(\u001b[0m\u001b[1;33m)\u001b[0m\u001b[1;33m\u001b[0m\u001b[1;33m\u001b[0m\u001b[0m\n\u001b[0;32m    283\u001b[0m         \u001b[0mself\u001b[0m\u001b[1;33m.\u001b[0m\u001b[0m_make_legend\u001b[0m\u001b[1;33m(\u001b[0m\u001b[1;33m)\u001b[0m\u001b[1;33m\u001b[0m\u001b[1;33m\u001b[0m\u001b[0m\n",
      "\u001b[1;32mC:\\ai\\python\\Anaconda3\\lib\\site-packages\\pandas\\plotting\\_matplotlib\\hist.py\u001b[0m in \u001b[0;36m_make_plot\u001b[1;34m(self)\u001b[0m\n\u001b[0;32m     81\u001b[0m \u001b[1;33m\u001b[0m\u001b[0m\n\u001b[0;32m     82\u001b[0m             \u001b[0mkwds\u001b[0m \u001b[1;33m=\u001b[0m \u001b[0mself\u001b[0m\u001b[1;33m.\u001b[0m\u001b[0m_make_plot_keywords\u001b[0m\u001b[1;33m(\u001b[0m\u001b[0mkwds\u001b[0m\u001b[1;33m,\u001b[0m \u001b[0my\u001b[0m\u001b[1;33m)\u001b[0m\u001b[1;33m\u001b[0m\u001b[1;33m\u001b[0m\u001b[0m\n\u001b[1;32m---> 83\u001b[1;33m             \u001b[0martists\u001b[0m \u001b[1;33m=\u001b[0m \u001b[0mself\u001b[0m\u001b[1;33m.\u001b[0m\u001b[0m_plot\u001b[0m\u001b[1;33m(\u001b[0m\u001b[0max\u001b[0m\u001b[1;33m,\u001b[0m \u001b[0my\u001b[0m\u001b[1;33m,\u001b[0m \u001b[0mcolumn_num\u001b[0m\u001b[1;33m=\u001b[0m\u001b[0mi\u001b[0m\u001b[1;33m,\u001b[0m \u001b[0mstacking_id\u001b[0m\u001b[1;33m=\u001b[0m\u001b[0mstacking_id\u001b[0m\u001b[1;33m,\u001b[0m \u001b[1;33m**\u001b[0m\u001b[0mkwds\u001b[0m\u001b[1;33m)\u001b[0m\u001b[1;33m\u001b[0m\u001b[1;33m\u001b[0m\u001b[0m\n\u001b[0m\u001b[0;32m     84\u001b[0m             \u001b[0mself\u001b[0m\u001b[1;33m.\u001b[0m\u001b[0m_add_legend_handle\u001b[0m\u001b[1;33m(\u001b[0m\u001b[0martists\u001b[0m\u001b[1;33m[\u001b[0m\u001b[1;36m0\u001b[0m\u001b[1;33m]\u001b[0m\u001b[1;33m,\u001b[0m \u001b[0mlabel\u001b[0m\u001b[1;33m,\u001b[0m \u001b[0mindex\u001b[0m\u001b[1;33m=\u001b[0m\u001b[0mi\u001b[0m\u001b[1;33m)\u001b[0m\u001b[1;33m\u001b[0m\u001b[1;33m\u001b[0m\u001b[0m\n\u001b[0;32m     85\u001b[0m \u001b[1;33m\u001b[0m\u001b[0m\n",
      "\u001b[1;32mC:\\ai\\python\\Anaconda3\\lib\\site-packages\\pandas\\plotting\\_matplotlib\\hist.py\u001b[0m in \u001b[0;36m_plot\u001b[1;34m(cls, ax, y, style, bw_method, ind, column_num, stacking_id, **kwds)\u001b[0m\n\u001b[0;32m    154\u001b[0m         \u001b[0mgkde\u001b[0m \u001b[1;33m=\u001b[0m \u001b[0mgaussian_kde\u001b[0m\u001b[1;33m(\u001b[0m\u001b[0my\u001b[0m\u001b[1;33m,\u001b[0m \u001b[0mbw_method\u001b[0m\u001b[1;33m=\u001b[0m\u001b[0mbw_method\u001b[0m\u001b[1;33m)\u001b[0m\u001b[1;33m\u001b[0m\u001b[1;33m\u001b[0m\u001b[0m\n\u001b[0;32m    155\u001b[0m \u001b[1;33m\u001b[0m\u001b[0m\n\u001b[1;32m--> 156\u001b[1;33m         \u001b[0my\u001b[0m \u001b[1;33m=\u001b[0m \u001b[0mgkde\u001b[0m\u001b[1;33m.\u001b[0m\u001b[0mevaluate\u001b[0m\u001b[1;33m(\u001b[0m\u001b[0mind\u001b[0m\u001b[1;33m)\u001b[0m\u001b[1;33m\u001b[0m\u001b[1;33m\u001b[0m\u001b[0m\n\u001b[0m\u001b[0;32m    157\u001b[0m         \u001b[0mlines\u001b[0m \u001b[1;33m=\u001b[0m \u001b[0mMPLPlot\u001b[0m\u001b[1;33m.\u001b[0m\u001b[0m_plot\u001b[0m\u001b[1;33m(\u001b[0m\u001b[0max\u001b[0m\u001b[1;33m,\u001b[0m \u001b[0mind\u001b[0m\u001b[1;33m,\u001b[0m \u001b[0my\u001b[0m\u001b[1;33m,\u001b[0m \u001b[0mstyle\u001b[0m\u001b[1;33m=\u001b[0m\u001b[0mstyle\u001b[0m\u001b[1;33m,\u001b[0m \u001b[1;33m**\u001b[0m\u001b[0mkwds\u001b[0m\u001b[1;33m)\u001b[0m\u001b[1;33m\u001b[0m\u001b[1;33m\u001b[0m\u001b[0m\n\u001b[0;32m    158\u001b[0m         \u001b[1;32mreturn\u001b[0m \u001b[0mlines\u001b[0m\u001b[1;33m\u001b[0m\u001b[1;33m\u001b[0m\u001b[0m\n",
      "\u001b[1;32mC:\\ai\\python\\Anaconda3\\lib\\site-packages\\scipy\\stats\\kde.py\u001b[0m in \u001b[0;36mevaluate\u001b[1;34m(self, points)\u001b[0m\n\u001b[0;32m    258\u001b[0m                 \u001b[0mdiff\u001b[0m \u001b[1;33m=\u001b[0m \u001b[0mscaled_dataset\u001b[0m \u001b[1;33m-\u001b[0m \u001b[0mscaled_points\u001b[0m\u001b[1;33m[\u001b[0m\u001b[1;33m:\u001b[0m\u001b[1;33m,\u001b[0m \u001b[0mi\u001b[0m\u001b[1;33m,\u001b[0m \u001b[0mnewaxis\u001b[0m\u001b[1;33m]\u001b[0m\u001b[1;33m\u001b[0m\u001b[1;33m\u001b[0m\u001b[0m\n\u001b[0;32m    259\u001b[0m                 \u001b[0menergy\u001b[0m \u001b[1;33m=\u001b[0m \u001b[0msum\u001b[0m\u001b[1;33m(\u001b[0m\u001b[0mdiff\u001b[0m \u001b[1;33m*\u001b[0m \u001b[0mdiff\u001b[0m\u001b[1;33m,\u001b[0m \u001b[0maxis\u001b[0m\u001b[1;33m=\u001b[0m\u001b[1;36m0\u001b[0m\u001b[1;33m)\u001b[0m \u001b[1;33m/\u001b[0m \u001b[1;36m2.0\u001b[0m\u001b[1;33m\u001b[0m\u001b[1;33m\u001b[0m\u001b[0m\n\u001b[1;32m--> 260\u001b[1;33m                 \u001b[0mresult\u001b[0m\u001b[1;33m[\u001b[0m\u001b[0mi\u001b[0m\u001b[1;33m]\u001b[0m \u001b[1;33m=\u001b[0m \u001b[0msum\u001b[0m\u001b[1;33m(\u001b[0m\u001b[0mexp\u001b[0m\u001b[1;33m(\u001b[0m\u001b[1;33m-\u001b[0m\u001b[0menergy\u001b[0m\u001b[1;33m)\u001b[0m\u001b[1;33m*\u001b[0m\u001b[0mself\u001b[0m\u001b[1;33m.\u001b[0m\u001b[0mweights\u001b[0m\u001b[1;33m,\u001b[0m \u001b[0maxis\u001b[0m\u001b[1;33m=\u001b[0m\u001b[1;36m0\u001b[0m\u001b[1;33m)\u001b[0m\u001b[1;33m\u001b[0m\u001b[1;33m\u001b[0m\u001b[0m\n\u001b[0m\u001b[0;32m    261\u001b[0m \u001b[1;33m\u001b[0m\u001b[0m\n\u001b[0;32m    262\u001b[0m         \u001b[0mresult\u001b[0m \u001b[1;33m=\u001b[0m \u001b[0mresult\u001b[0m \u001b[1;33m/\u001b[0m \u001b[0mself\u001b[0m\u001b[1;33m.\u001b[0m\u001b[0m_norm_factor\u001b[0m\u001b[1;33m\u001b[0m\u001b[1;33m\u001b[0m\u001b[0m\n",
      "\u001b[1;31mKeyboardInterrupt\u001b[0m: "
     ]
    },
    {
     "data": {
      "image/png": "[encoded data removed]",
      "text/plain": [
       "<Figure size 720x720 with 1 Axes>"
      ]
     },
     "metadata": {
      "needs_background": "light"
     },
     "output_type": "display_data"
    }
   ],
   "source": [
    "plt.figure(figsize =(10, 10))\n",
    "vip_time.plot(kind='kde')\n",
    "normal_time.plot(kind='kde')\n",
    "plt.legend(['vip_compnay', 'normal_company'])"
   ]
  },
  {
   "cell_type": "code",
   "execution_count": null,
   "metadata": {},
   "outputs": [],
   "source": [
    "# 여러가지 데이터를 보고 인터넷을 통해 알 수 있는 사실은\n",
    "# A(롯데백화점), B(롯데마트), C(롯데슈퍼), D(LOHBs)\n",
    "# 근거 : 영수증 별 가격 분포 / 점포수 / 취급물품"
   ]
  },
  {
   "cell_type": "markdown",
   "metadata": {},
   "source": [
    "## 3-3. product data"
   ]
  },
  {
   "cell_type": "code",
   "execution_count": null,
   "metadata": {},
   "outputs": [],
   "source": [
    "df_product.head()"
   ]
  },
  {
   "cell_type": "code",
   "execution_count": null,
   "metadata": {},
   "outputs": [],
   "source": [
    "frame = { '제휴사': df_product['제휴사'], '중분류명': df_product['중분류명'], '소분류명':df_product['소분류명'] } \n",
    "\n",
    "df_product_name = pd.DataFrame(frame)"
   ]
  },
  {
   "cell_type": "code",
   "execution_count": null,
   "metadata": {},
   "outputs": [],
   "source": [
    "df_product_name.groupby(df_product_name['제휴사']).describe()"
   ]
  },
  {
   "cell_type": "markdown",
   "metadata": {},
   "source": [
    "## 3-4. channel data"
   ]
  },
  {
   "cell_type": "code",
   "execution_count": null,
   "metadata": {},
   "outputs": [],
   "source": []
  },
  {
   "cell_type": "code",
   "execution_count": null,
   "metadata": {},
   "outputs": [],
   "source": []
  },
  {
   "cell_type": "code",
   "execution_count": 0,
   "metadata": {},
   "outputs": [],
   "source": [
    "s_df_channel[s_df_channel['고객번호'].duplicated()]"
   ]
  },
  {
   "cell_type": "code",
   "execution_count": 0,
   "metadata": {},
   "outputs": [],
   "source": [
    "df_channel.shape"
   ]
  },
  {
   "cell_type": "code",
   "execution_count": 0,
   "metadata": {},
   "outputs": [],
   "source": [
    "s_df_channel.isnull().sum()"
   ]
  },
  {
   "cell_type": "code",
   "execution_count": 0,
   "metadata": {},
   "outputs": [],
   "source": [
    "# 전체 데이터 8824개 중 4042의 서울시 고객만이 모바일이나 웹페이지를 이용하지 않은 것을 확인할 수 있다.\n",
    "# 총 5841명 중 대다수가 이용하지 않는다는 사실을 알 수 있다."
   ]
  },
  {
   "cell_type": "markdown",
   "metadata": {},
   "source": [
    "# Delete Null"
   ]
  },
  {
   "cell_type": "code",
   "execution_count": 30,
   "metadata": {},
   "outputs": [
    {
     "data": {
      "text/html": [
       "<div>\n",
       "<style scoped>\n",
       "    .dataframe tbody tr th:only-of-type {\n",
       "        vertical-align: middle;\n",
       "    }\n",
       "\n",
       "    .dataframe tbody tr th {\n",
       "        vertical-align: top;\n",
       "    }\n",
       "\n",
       "    .dataframe thead th {\n",
       "        text-align: right;\n",
       "    }\n",
       "</style>\n",
       "<table border=\"1\" class=\"dataframe\">\n",
       "  <thead>\n",
       "    <tr style=\"text-align: right;\">\n",
       "      <th></th>\n",
       "      <th>고객번호</th>\n",
       "      <th>성별</th>\n",
       "      <th>연령대</th>\n",
       "      <th>거주지역</th>\n",
       "      <th>S_koo</th>\n",
       "      <th>제휴사</th>\n",
       "      <th>이용횟수</th>\n",
       "    </tr>\n",
       "  </thead>\n",
       "  <tbody>\n",
       "    <tr>\n",
       "      <td>0</td>\n",
       "      <td>1</td>\n",
       "      <td>M</td>\n",
       "      <td>60세이상</td>\n",
       "      <td>60.0</td>\n",
       "      <td>강남구</td>\n",
       "      <td>NaN</td>\n",
       "      <td>NaN</td>\n",
       "    </tr>\n",
       "    <tr>\n",
       "      <td>1</td>\n",
       "      <td>3</td>\n",
       "      <td>M</td>\n",
       "      <td>60세이상</td>\n",
       "      <td>33.0</td>\n",
       "      <td>은평구</td>\n",
       "      <td>NaN</td>\n",
       "      <td>NaN</td>\n",
       "    </tr>\n",
       "    <tr>\n",
       "      <td>2</td>\n",
       "      <td>4</td>\n",
       "      <td>F</td>\n",
       "      <td>60세이상</td>\n",
       "      <td>16.0</td>\n",
       "      <td>노원구</td>\n",
       "      <td>NaN</td>\n",
       "      <td>NaN</td>\n",
       "    </tr>\n",
       "    <tr>\n",
       "      <td>3</td>\n",
       "      <td>7</td>\n",
       "      <td>F</td>\n",
       "      <td>60세이상</td>\n",
       "      <td>36.0</td>\n",
       "      <td>서대문구</td>\n",
       "      <td>A_MOBILE/APP</td>\n",
       "      <td>4.0</td>\n",
       "    </tr>\n",
       "    <tr>\n",
       "      <td>4</td>\n",
       "      <td>8</td>\n",
       "      <td>M</td>\n",
       "      <td>60세이상</td>\n",
       "      <td>10.0</td>\n",
       "      <td>강북구</td>\n",
       "      <td>NaN</td>\n",
       "      <td>NaN</td>\n",
       "    </tr>\n",
       "    <tr>\n",
       "      <td>...</td>\n",
       "      <td>...</td>\n",
       "      <td>...</td>\n",
       "      <td>...</td>\n",
       "      <td>...</td>\n",
       "      <td>...</td>\n",
       "      <td>...</td>\n",
       "      <td>...</td>\n",
       "    </tr>\n",
       "    <tr>\n",
       "      <td>6485</td>\n",
       "      <td>19371</td>\n",
       "      <td>F</td>\n",
       "      <td>50세~54세</td>\n",
       "      <td>52.0</td>\n",
       "      <td>강동구</td>\n",
       "      <td>NaN</td>\n",
       "      <td>NaN</td>\n",
       "    </tr>\n",
       "    <tr>\n",
       "      <td>6486</td>\n",
       "      <td>19375</td>\n",
       "      <td>F</td>\n",
       "      <td>25세~29세</td>\n",
       "      <td>49.0</td>\n",
       "      <td>광진구</td>\n",
       "      <td>NaN</td>\n",
       "      <td>NaN</td>\n",
       "    </tr>\n",
       "    <tr>\n",
       "      <td>6487</td>\n",
       "      <td>19376</td>\n",
       "      <td>M</td>\n",
       "      <td>20세~24세</td>\n",
       "      <td>24.0</td>\n",
       "      <td>동대문구</td>\n",
       "      <td>B_MOBILE/APP</td>\n",
       "      <td>1.0</td>\n",
       "    </tr>\n",
       "    <tr>\n",
       "      <td>6488</td>\n",
       "      <td>19379</td>\n",
       "      <td>F</td>\n",
       "      <td>20세~24세</td>\n",
       "      <td>69.0</td>\n",
       "      <td>동작구</td>\n",
       "      <td>NaN</td>\n",
       "      <td>NaN</td>\n",
       "    </tr>\n",
       "    <tr>\n",
       "      <td>6489</td>\n",
       "      <td>19380</td>\n",
       "      <td>F</td>\n",
       "      <td>20세~24세</td>\n",
       "      <td>39.0</td>\n",
       "      <td>마포구</td>\n",
       "      <td>D_MOBILE/APP</td>\n",
       "      <td>1.0</td>\n",
       "    </tr>\n",
       "  </tbody>\n",
       "</table>\n",
       "<p>6490 rows × 7 columns</p>\n",
       "</div>"
      ],
      "text/plain": [
       "       고객번호 성별      연령대  거주지역 S_koo           제휴사  이용횟수\n",
       "0         1  M    60세이상  60.0   강남구           NaN   NaN\n",
       "1         3  M    60세이상  33.0   은평구           NaN   NaN\n",
       "2         4  F    60세이상  16.0   노원구           NaN   NaN\n",
       "3         7  F    60세이상  36.0  서대문구  A_MOBILE/APP   4.0\n",
       "4         8  M    60세이상  10.0   강북구           NaN   NaN\n",
       "...     ... ..      ...   ...   ...           ...   ...\n",
       "6485  19371  F  50세~54세  52.0   강동구           NaN   NaN\n",
       "6486  19375  F  25세~29세  49.0   광진구           NaN   NaN\n",
       "6487  19376  M  20세~24세  24.0  동대문구  B_MOBILE/APP   1.0\n",
       "6488  19379  F  20세~24세  69.0   동작구           NaN   NaN\n",
       "6489  19380  F  20세~24세  39.0   마포구  D_MOBILE/APP   1.0\n",
       "\n",
       "[6490 rows x 7 columns]"
      ]
     },
     "execution_count": 30,
     "metadata": {},
     "output_type": "execute_result"
    }
   ],
   "source": [
    "s_df_channel"
   ]
  },
  {
   "cell_type": "code",
   "execution_count": 31,
   "metadata": {},
   "outputs": [
    {
     "data": {
      "text/html": [
       "<div>\n",
       "<style scoped>\n",
       "    .dataframe tbody tr th:only-of-type {\n",
       "        vertical-align: middle;\n",
       "    }\n",
       "\n",
       "    .dataframe tbody tr th {\n",
       "        vertical-align: top;\n",
       "    }\n",
       "\n",
       "    .dataframe thead th {\n",
       "        text-align: right;\n",
       "    }\n",
       "</style>\n",
       "<table border=\"1\" class=\"dataframe\">\n",
       "  <thead>\n",
       "    <tr style=\"text-align: right;\">\n",
       "      <th></th>\n",
       "      <th>고객번호</th>\n",
       "      <th>제휴사</th>\n",
       "      <th>이용횟수</th>\n",
       "    </tr>\n",
       "  </thead>\n",
       "  <tbody>\n",
       "    <tr>\n",
       "      <td>0</td>\n",
       "      <td>1</td>\n",
       "      <td>NaN</td>\n",
       "      <td>NaN</td>\n",
       "    </tr>\n",
       "    <tr>\n",
       "      <td>1</td>\n",
       "      <td>3</td>\n",
       "      <td>NaN</td>\n",
       "      <td>NaN</td>\n",
       "    </tr>\n",
       "    <tr>\n",
       "      <td>2</td>\n",
       "      <td>4</td>\n",
       "      <td>NaN</td>\n",
       "      <td>NaN</td>\n",
       "    </tr>\n",
       "    <tr>\n",
       "      <td>3</td>\n",
       "      <td>7</td>\n",
       "      <td>A_MOBILE/APP</td>\n",
       "      <td>4.0</td>\n",
       "    </tr>\n",
       "    <tr>\n",
       "      <td>4</td>\n",
       "      <td>8</td>\n",
       "      <td>NaN</td>\n",
       "      <td>NaN</td>\n",
       "    </tr>\n",
       "    <tr>\n",
       "      <td>...</td>\n",
       "      <td>...</td>\n",
       "      <td>...</td>\n",
       "      <td>...</td>\n",
       "    </tr>\n",
       "    <tr>\n",
       "      <td>6485</td>\n",
       "      <td>19371</td>\n",
       "      <td>NaN</td>\n",
       "      <td>NaN</td>\n",
       "    </tr>\n",
       "    <tr>\n",
       "      <td>6486</td>\n",
       "      <td>19375</td>\n",
       "      <td>NaN</td>\n",
       "      <td>NaN</td>\n",
       "    </tr>\n",
       "    <tr>\n",
       "      <td>6487</td>\n",
       "      <td>19376</td>\n",
       "      <td>B_MOBILE/APP</td>\n",
       "      <td>1.0</td>\n",
       "    </tr>\n",
       "    <tr>\n",
       "      <td>6488</td>\n",
       "      <td>19379</td>\n",
       "      <td>NaN</td>\n",
       "      <td>NaN</td>\n",
       "    </tr>\n",
       "    <tr>\n",
       "      <td>6489</td>\n",
       "      <td>19380</td>\n",
       "      <td>D_MOBILE/APP</td>\n",
       "      <td>1.0</td>\n",
       "    </tr>\n",
       "  </tbody>\n",
       "</table>\n",
       "<p>6490 rows × 3 columns</p>\n",
       "</div>"
      ],
      "text/plain": [
       "       고객번호           제휴사  이용횟수\n",
       "0         1           NaN   NaN\n",
       "1         3           NaN   NaN\n",
       "2         4           NaN   NaN\n",
       "3         7  A_MOBILE/APP   4.0\n",
       "4         8           NaN   NaN\n",
       "...     ...           ...   ...\n",
       "6485  19371           NaN   NaN\n",
       "6486  19375           NaN   NaN\n",
       "6487  19376  B_MOBILE/APP   1.0\n",
       "6488  19379           NaN   NaN\n",
       "6489  19380  D_MOBILE/APP   1.0\n",
       "\n",
       "[6490 rows x 3 columns]"
      ]
     },
     "execution_count": 31,
     "metadata": {},
     "output_type": "execute_result"
    }
   ],
   "source": [
    "cust_num =s_df_channel['고객번호']\n",
    "null_partner = s_df_channel['제휴사']\n",
    "null_used = s_df_channel['이용횟수']\n",
    "\n",
    "frame = { '고객번호': cust_num, '제휴사': null_partner, '이용횟수': null_used } \n",
    "\n",
    "null_channel = pd.DataFrame(frame)\n",
    "null_channel"
   ]
  },
  {
   "cell_type": "code",
   "execution_count": 32,
   "metadata": {},
   "outputs": [
    {
     "data": {
      "text/html": [
       "<div>\n",
       "<style scoped>\n",
       "    .dataframe tbody tr th:only-of-type {\n",
       "        vertical-align: middle;\n",
       "    }\n",
       "\n",
       "    .dataframe tbody tr th {\n",
       "        vertical-align: top;\n",
       "    }\n",
       "\n",
       "    .dataframe thead th {\n",
       "        text-align: right;\n",
       "    }\n",
       "</style>\n",
       "<table border=\"1\" class=\"dataframe\">\n",
       "  <thead>\n",
       "    <tr style=\"text-align: right;\">\n",
       "      <th></th>\n",
       "      <th>고객번호</th>\n",
       "      <th>제휴사</th>\n",
       "      <th>이용횟수</th>\n",
       "    </tr>\n",
       "  </thead>\n",
       "  <tbody>\n",
       "    <tr>\n",
       "      <td>0</td>\n",
       "      <td>1</td>\n",
       "      <td>0</td>\n",
       "      <td>0.0</td>\n",
       "    </tr>\n",
       "    <tr>\n",
       "      <td>1</td>\n",
       "      <td>3</td>\n",
       "      <td>0</td>\n",
       "      <td>0.0</td>\n",
       "    </tr>\n",
       "    <tr>\n",
       "      <td>2</td>\n",
       "      <td>4</td>\n",
       "      <td>0</td>\n",
       "      <td>0.0</td>\n",
       "    </tr>\n",
       "    <tr>\n",
       "      <td>3</td>\n",
       "      <td>7</td>\n",
       "      <td>A_MOBILE/APP</td>\n",
       "      <td>4.0</td>\n",
       "    </tr>\n",
       "    <tr>\n",
       "      <td>4</td>\n",
       "      <td>8</td>\n",
       "      <td>0</td>\n",
       "      <td>0.0</td>\n",
       "    </tr>\n",
       "    <tr>\n",
       "      <td>...</td>\n",
       "      <td>...</td>\n",
       "      <td>...</td>\n",
       "      <td>...</td>\n",
       "    </tr>\n",
       "    <tr>\n",
       "      <td>6485</td>\n",
       "      <td>19371</td>\n",
       "      <td>0</td>\n",
       "      <td>0.0</td>\n",
       "    </tr>\n",
       "    <tr>\n",
       "      <td>6486</td>\n",
       "      <td>19375</td>\n",
       "      <td>0</td>\n",
       "      <td>0.0</td>\n",
       "    </tr>\n",
       "    <tr>\n",
       "      <td>6487</td>\n",
       "      <td>19376</td>\n",
       "      <td>B_MOBILE/APP</td>\n",
       "      <td>1.0</td>\n",
       "    </tr>\n",
       "    <tr>\n",
       "      <td>6488</td>\n",
       "      <td>19379</td>\n",
       "      <td>0</td>\n",
       "      <td>0.0</td>\n",
       "    </tr>\n",
       "    <tr>\n",
       "      <td>6489</td>\n",
       "      <td>19380</td>\n",
       "      <td>D_MOBILE/APP</td>\n",
       "      <td>1.0</td>\n",
       "    </tr>\n",
       "  </tbody>\n",
       "</table>\n",
       "<p>6490 rows × 3 columns</p>\n",
       "</div>"
      ],
      "text/plain": [
       "       고객번호           제휴사  이용횟수\n",
       "0         1             0   0.0\n",
       "1         3             0   0.0\n",
       "2         4             0   0.0\n",
       "3         7  A_MOBILE/APP   4.0\n",
       "4         8             0   0.0\n",
       "...     ...           ...   ...\n",
       "6485  19371             0   0.0\n",
       "6486  19375             0   0.0\n",
       "6487  19376  B_MOBILE/APP   1.0\n",
       "6488  19379             0   0.0\n",
       "6489  19380  D_MOBILE/APP   1.0\n",
       "\n",
       "[6490 rows x 3 columns]"
      ]
     },
     "execution_count": 32,
     "metadata": {},
     "output_type": "execute_result"
    }
   ],
   "source": [
    "null_channel['제휴사'].fillna(0, inplace=True)\n",
    "null_channel['이용횟수'].fillna(0, inplace=True)\n",
    "null_channel"
   ]
  },
  {
   "cell_type": "code",
   "execution_count": 33,
   "metadata": {
    "scrolled": true
   },
   "outputs": [
    {
     "data": {
      "text/plain": [
       "0               4042\n",
       "B_MOBILE/APP    1295\n",
       "A_MOBILE/APP     491\n",
       "B_ONLINEMALL     395\n",
       "C_ONLINEMALL     157\n",
       "D_MOBILE/APP     101\n",
       "C_MOBILE/APP       9\n",
       "Name: 제휴사, dtype: int64"
      ]
     },
     "execution_count": 33,
     "metadata": {},
     "output_type": "execute_result"
    }
   ],
   "source": [
    "null_channel['제휴사'].value_counts()"
   ]
  },
  {
   "cell_type": "code",
   "execution_count": 34,
   "metadata": {},
   "outputs": [
    {
     "data": {
      "text/plain": [
       "int"
      ]
     },
     "execution_count": 34,
     "metadata": {},
     "output_type": "execute_result"
    }
   ],
   "source": [
    "type(null_channel['제휴사'][0])"
   ]
  },
  {
   "cell_type": "markdown",
   "metadata": {},
   "source": [
    "# 4. Data Preprocessing"
   ]
  },
  {
   "cell_type": "code",
   "execution_count": null,
   "metadata": {},
   "outputs": [],
   "source": []
  },
  {
   "cell_type": "markdown",
   "metadata": {},
   "source": [
    "# 4-1. Clustering\n",
    "* 고객의 구매 내역 데이터에서 (구매빈도, 구매시간, 구매금액) 기준으로 clustering 진행\n",
    "* KMeans, 계층적군집분석, DBSCAN 시도\n",
    "* KMeans cluster 데이터 분포가 적절하여 해당 방식 이용"
   ]
  },
  {
   "cell_type": "code",
   "execution_count": 35,
   "metadata": {},
   "outputs": [
    {
     "data": {
      "text/html": [
       "<div>\n",
       "<style scoped>\n",
       "    .dataframe tbody tr th:only-of-type {\n",
       "        vertical-align: middle;\n",
       "    }\n",
       "\n",
       "    .dataframe tbody tr th {\n",
       "        vertical-align: top;\n",
       "    }\n",
       "\n",
       "    .dataframe thead th {\n",
       "        text-align: right;\n",
       "    }\n",
       "</style>\n",
       "<table border=\"1\" class=\"dataframe\">\n",
       "  <thead>\n",
       "    <tr style=\"text-align: right;\">\n",
       "      <th></th>\n",
       "      <th>구매빈도</th>\n",
       "      <th>구매시간</th>\n",
       "      <th>구매금액</th>\n",
       "    </tr>\n",
       "    <tr>\n",
       "      <th>소분류코드</th>\n",
       "      <th></th>\n",
       "      <th></th>\n",
       "      <th></th>\n",
       "    </tr>\n",
       "  </thead>\n",
       "  <tbody>\n",
       "    <tr>\n",
       "      <td>A010101</td>\n",
       "      <td>101454</td>\n",
       "      <td>15.540748</td>\n",
       "      <td>11597.932166</td>\n",
       "    </tr>\n",
       "    <tr>\n",
       "      <td>A010102</td>\n",
       "      <td>720</td>\n",
       "      <td>15.752778</td>\n",
       "      <td>4777.805556</td>\n",
       "    </tr>\n",
       "    <tr>\n",
       "      <td>A010103</td>\n",
       "      <td>46517</td>\n",
       "      <td>15.547434</td>\n",
       "      <td>30730.050949</td>\n",
       "    </tr>\n",
       "    <tr>\n",
       "      <td>A010104</td>\n",
       "      <td>25080</td>\n",
       "      <td>15.496252</td>\n",
       "      <td>6138.696970</td>\n",
       "    </tr>\n",
       "    <tr>\n",
       "      <td>A010105</td>\n",
       "      <td>484</td>\n",
       "      <td>15.254132</td>\n",
       "      <td>220207.851240</td>\n",
       "    </tr>\n",
       "  </tbody>\n",
       "</table>\n",
       "</div>"
      ],
      "text/plain": [
       "           구매빈도       구매시간           구매금액\n",
       "소분류코드                                    \n",
       "A010101  101454  15.540748   11597.932166\n",
       "A010102     720  15.752778    4777.805556\n",
       "A010103   46517  15.547434   30730.050949\n",
       "A010104   25080  15.496252    6138.696970\n",
       "A010105     484  15.254132  220207.851240"
      ]
     },
     "execution_count": 35,
     "metadata": {},
     "output_type": "execute_result"
    }
   ],
   "source": [
    "# 구매빈도\n",
    "df_stuff_cnt = df_purchase['소분류코드'].groupby(df_purchase['소분류코드']).count()\n",
    "# 구매시간\n",
    "df_stuff_time = df_purchase['구매시간'].groupby(df_purchase['소분류코드']).mean()\n",
    "# 구매금액\n",
    "df_stuff_amt = df_purchase['구매금액'].groupby(df_purchase['소분류코드']).mean()\n",
    "\n",
    "frame1 = { '구매빈도': df_stuff_cnt, '구매시간': df_stuff_time, '구매금액':df_stuff_amt } \n",
    "\n",
    "df_stuff = pd.DataFrame(frame1)\n",
    "df_stuff.head()"
   ]
  },
  {
   "cell_type": "markdown",
   "metadata": {},
   "source": [
    "### KMeans"
   ]
  },
  {
   "cell_type": "code",
   "execution_count": 36,
   "metadata": {},
   "outputs": [],
   "source": [
    "feature = df_stuff[ ['구매빈도', '구매시간', '구매금액']]"
   ]
  },
  {
   "cell_type": "code",
   "execution_count": 37,
   "metadata": {},
   "outputs": [
    {
     "data": {
      "image/png": "[encoded data removed]",
      "text/plain": [
       "<Figure size 432x288 with 1 Axes>"
      ]
     },
     "metadata": {
      "needs_background": "light"
     },
     "output_type": "display_data"
    }
   ],
   "source": [
    "# 적절한 cluster 수 확인 (but 편차때문에 강제로 늘려버림 5 -> 10개)\n",
    "ks = range(1,20)\n",
    "inertias = []\n",
    "\n",
    "for k in ks:\n",
    "    model = KMeans(n_clusters=k)\n",
    "    model.fit(feature)\n",
    "    inertias.append(model.inertia_)\n",
    "\n",
    "# Plot ks vs inertias\n",
    "plt.plot(ks, inertias, '-o')\n",
    "plt.xlabel('number of clusters, k')\n",
    "plt.ylabel('inertia')\n",
    "plt.xticks(ks)\n",
    "plt.show()"
   ]
  },
  {
   "cell_type": "code",
   "execution_count": 38,
   "metadata": {},
   "outputs": [],
   "source": [
    "# 정규표준화, KMeans, 파이프라인 선언\n",
    "scaler = StandardScaler()\n",
    "model = KMeans(n_clusters=10)\n",
    "pipeline = make_pipeline(scaler,model)"
   ]
  },
  {
   "cell_type": "code",
   "execution_count": 39,
   "metadata": {},
   "outputs": [],
   "source": [
    "# 파이프라인을 이용하여 정규표준화 한 뒤 KMeans 학습\n",
    "pipeline.fit(feature)\n",
    "predict = pd.DataFrame(pipeline.predict(feature))\n",
    "predict.columns=['predict']"
   ]
  },
  {
   "cell_type": "code",
   "execution_count": 40,
   "metadata": {},
   "outputs": [
    {
     "data": {
      "text/plain": [
       "1    1839\n",
       "9    1266\n",
       "0     657\n",
       "4     264\n",
       "5     127\n",
       "6     125\n",
       "2      47\n",
       "8      34\n",
       "3      22\n",
       "7       5\n",
       "Name: predict, dtype: int64"
      ]
     },
     "execution_count": 40,
     "metadata": {},
     "output_type": "execute_result"
    }
   ],
   "source": [
    "# clustring 결과의 분포가 적절히 이루어진 것을 확인할 수 있다.\n",
    "predict['predict'].value_counts()"
   ]
  },
  {
   "cell_type": "code",
   "execution_count": 41,
   "metadata": {},
   "outputs": [
    {
     "data": {
      "text/html": [
       "<div>\n",
       "<style scoped>\n",
       "    .dataframe tbody tr th:only-of-type {\n",
       "        vertical-align: middle;\n",
       "    }\n",
       "\n",
       "    .dataframe tbody tr th {\n",
       "        vertical-align: top;\n",
       "    }\n",
       "\n",
       "    .dataframe thead th {\n",
       "        text-align: right;\n",
       "    }\n",
       "</style>\n",
       "<table border=\"1\" class=\"dataframe\">\n",
       "  <thead>\n",
       "    <tr style=\"text-align: right;\">\n",
       "      <th></th>\n",
       "      <th>구매빈도</th>\n",
       "      <th>구매시간</th>\n",
       "      <th>구매금액</th>\n",
       "      <th>predict</th>\n",
       "    </tr>\n",
       "    <tr>\n",
       "      <th>소분류코드</th>\n",
       "      <th></th>\n",
       "      <th></th>\n",
       "      <th></th>\n",
       "      <th></th>\n",
       "    </tr>\n",
       "  </thead>\n",
       "  <tbody>\n",
       "    <tr>\n",
       "      <td>A010101</td>\n",
       "      <td>101454</td>\n",
       "      <td>15.540748</td>\n",
       "      <td>11597.932166</td>\n",
       "      <td>2</td>\n",
       "    </tr>\n",
       "    <tr>\n",
       "      <td>A010102</td>\n",
       "      <td>720</td>\n",
       "      <td>15.752778</td>\n",
       "      <td>4777.805556</td>\n",
       "      <td>0</td>\n",
       "    </tr>\n",
       "    <tr>\n",
       "      <td>A010103</td>\n",
       "      <td>46517</td>\n",
       "      <td>15.547434</td>\n",
       "      <td>30730.050949</td>\n",
       "      <td>4</td>\n",
       "    </tr>\n",
       "    <tr>\n",
       "      <td>A010104</td>\n",
       "      <td>25080</td>\n",
       "      <td>15.496252</td>\n",
       "      <td>6138.696970</td>\n",
       "      <td>0</td>\n",
       "    </tr>\n",
       "    <tr>\n",
       "      <td>A010105</td>\n",
       "      <td>484</td>\n",
       "      <td>15.254132</td>\n",
       "      <td>220207.851240</td>\n",
       "      <td>0</td>\n",
       "    </tr>\n",
       "  </tbody>\n",
       "</table>\n",
       "</div>"
      ],
      "text/plain": [
       "           구매빈도       구매시간           구매금액  predict\n",
       "소분류코드                                             \n",
       "A010101  101454  15.540748   11597.932166        2\n",
       "A010102     720  15.752778    4777.805556        0\n",
       "A010103   46517  15.547434   30730.050949        4\n",
       "A010104   25080  15.496252    6138.696970        0\n",
       "A010105     484  15.254132  220207.851240        0"
      ]
     },
     "execution_count": 41,
     "metadata": {},
     "output_type": "execute_result"
    }
   ],
   "source": [
    "# clustring 데이터와 결과값 데이터를 합침\n",
    "predict = predict.set_index(feature.index)\n",
    "r = pd.concat([feature,predict],axis=1)\n",
    "r.head()"
   ]
  },
  {
   "cell_type": "code",
   "execution_count": 42,
   "metadata": {},
   "outputs": [],
   "source": [
    "# KMeans 결과값 저장\n",
    "r.to_csv('./data/r_KMeans.csv')"
   ]
  },
  {
   "cell_type": "code",
   "execution_count": null,
   "metadata": {},
   "outputs": [],
   "source": []
  },
  {
   "cell_type": "markdown",
   "metadata": {},
   "source": [
    "# 4-2. "
   ]
  },
  {
   "cell_type": "code",
   "execution_count": 43,
   "metadata": {},
   "outputs": [
    {
     "data": {
      "text/html": [
       "<div>\n",
       "<style scoped>\n",
       "    .dataframe tbody tr th:only-of-type {\n",
       "        vertical-align: middle;\n",
       "    }\n",
       "\n",
       "    .dataframe tbody tr th {\n",
       "        vertical-align: top;\n",
       "    }\n",
       "\n",
       "    .dataframe thead th {\n",
       "        text-align: right;\n",
       "    }\n",
       "</style>\n",
       "<table border=\"1\" class=\"dataframe\">\n",
       "  <thead>\n",
       "    <tr style=\"text-align: right;\">\n",
       "      <th></th>\n",
       "      <th>소분류코드</th>\n",
       "      <th>고객번호</th>\n",
       "    </tr>\n",
       "  </thead>\n",
       "  <tbody>\n",
       "    <tr>\n",
       "      <td>0</td>\n",
       "      <td>B150401</td>\n",
       "      <td>17218</td>\n",
       "    </tr>\n",
       "    <tr>\n",
       "      <td>1</td>\n",
       "      <td>B160101</td>\n",
       "      <td>17218</td>\n",
       "    </tr>\n",
       "    <tr>\n",
       "      <td>2</td>\n",
       "      <td>B160201</td>\n",
       "      <td>17218</td>\n",
       "    </tr>\n",
       "    <tr>\n",
       "      <td>3</td>\n",
       "      <td>B180301</td>\n",
       "      <td>17218</td>\n",
       "    </tr>\n",
       "    <tr>\n",
       "      <td>4</td>\n",
       "      <td>B050901</td>\n",
       "      <td>17674</td>\n",
       "    </tr>\n",
       "  </tbody>\n",
       "</table>\n",
       "</div>"
      ],
      "text/plain": [
       "     소분류코드   고객번호\n",
       "0  B150401  17218\n",
       "1  B160101  17218\n",
       "2  B160201  17218\n",
       "3  B180301  17218\n",
       "4  B050901  17674"
      ]
     },
     "execution_count": 43,
     "metadata": {},
     "output_type": "execute_result"
    }
   ],
   "source": [
    "product_code = df_purchase['소분류코드']\n",
    "customer_no = df_purchase['고객번호']\n",
    "\n",
    "frame2 = { '소분류코드': product_code, '고객번호': customer_no} \n",
    "\n",
    "pur_product = pd.DataFrame(frame2)\n",
    "pur_product.head()"
   ]
  },
  {
   "cell_type": "code",
   "execution_count": 44,
   "metadata": {},
   "outputs": [
    {
     "data": {
      "text/html": [
       "<div>\n",
       "<style scoped>\n",
       "    .dataframe tbody tr th:only-of-type {\n",
       "        vertical-align: middle;\n",
       "    }\n",
       "\n",
       "    .dataframe tbody tr th {\n",
       "        vertical-align: top;\n",
       "    }\n",
       "\n",
       "    .dataframe thead th {\n",
       "        text-align: right;\n",
       "    }\n",
       "</style>\n",
       "<table border=\"1\" class=\"dataframe\">\n",
       "  <thead>\n",
       "    <tr style=\"text-align: right;\">\n",
       "      <th></th>\n",
       "      <th>소분류코드</th>\n",
       "      <th>고객번호</th>\n",
       "      <th>predict</th>\n",
       "    </tr>\n",
       "  </thead>\n",
       "  <tbody>\n",
       "    <tr>\n",
       "      <td>0</td>\n",
       "      <td>B150401</td>\n",
       "      <td>17218</td>\n",
       "      <td>4</td>\n",
       "    </tr>\n",
       "    <tr>\n",
       "      <td>1</td>\n",
       "      <td>B160101</td>\n",
       "      <td>17218</td>\n",
       "      <td>4</td>\n",
       "    </tr>\n",
       "    <tr>\n",
       "      <td>2</td>\n",
       "      <td>B160201</td>\n",
       "      <td>17218</td>\n",
       "      <td>2</td>\n",
       "    </tr>\n",
       "    <tr>\n",
       "      <td>3</td>\n",
       "      <td>B180301</td>\n",
       "      <td>17218</td>\n",
       "      <td>1</td>\n",
       "    </tr>\n",
       "    <tr>\n",
       "      <td>4</td>\n",
       "      <td>B050901</td>\n",
       "      <td>17674</td>\n",
       "      <td>4</td>\n",
       "    </tr>\n",
       "  </tbody>\n",
       "</table>\n",
       "</div>"
      ],
      "text/plain": [
       "     소분류코드   고객번호  predict\n",
       "0  B150401  17218        4\n",
       "1  B160101  17218        4\n",
       "2  B160201  17218        2\n",
       "3  B180301  17218        1\n",
       "4  B050901  17674        4"
      ]
     },
     "execution_count": 44,
     "metadata": {},
     "output_type": "execute_result"
    }
   ],
   "source": [
    "# 구매데이터의 소분류코드, 고객번호와 제품데이터의 clustring 결과값을 merge\n",
    "pur_prod = pd.merge(pur_product, r['predict'].reset_index(), how='left')\n",
    "pur_prod.head()"
   ]
  },
  {
   "cell_type": "code",
   "execution_count": 45,
   "metadata": {},
   "outputs": [
    {
     "data": {
      "text/html": [
       "<div>\n",
       "<style scoped>\n",
       "    .dataframe tbody tr th:only-of-type {\n",
       "        vertical-align: middle;\n",
       "    }\n",
       "\n",
       "    .dataframe tbody tr th {\n",
       "        vertical-align: top;\n",
       "    }\n",
       "\n",
       "    .dataframe thead th {\n",
       "        text-align: right;\n",
       "    }\n",
       "</style>\n",
       "<table border=\"1\" class=\"dataframe\">\n",
       "  <thead>\n",
       "    <tr style=\"text-align: right;\">\n",
       "      <th></th>\n",
       "      <th>cluster_0</th>\n",
       "      <th>cluster_1</th>\n",
       "      <th>cluster_2</th>\n",
       "      <th>cluster_3</th>\n",
       "      <th>cluster_4</th>\n",
       "      <th>cluster_5</th>\n",
       "      <th>cluster_6</th>\n",
       "      <th>cluster_7</th>\n",
       "      <th>cluster_8</th>\n",
       "      <th>cluster_9</th>\n",
       "    </tr>\n",
       "  </thead>\n",
       "  <tbody>\n",
       "    <tr>\n",
       "      <td>0</td>\n",
       "      <td>0</td>\n",
       "      <td>0</td>\n",
       "      <td>0</td>\n",
       "      <td>0</td>\n",
       "      <td>1</td>\n",
       "      <td>0</td>\n",
       "      <td>0</td>\n",
       "      <td>0</td>\n",
       "      <td>0</td>\n",
       "      <td>0</td>\n",
       "    </tr>\n",
       "    <tr>\n",
       "      <td>1</td>\n",
       "      <td>0</td>\n",
       "      <td>0</td>\n",
       "      <td>0</td>\n",
       "      <td>0</td>\n",
       "      <td>1</td>\n",
       "      <td>0</td>\n",
       "      <td>0</td>\n",
       "      <td>0</td>\n",
       "      <td>0</td>\n",
       "      <td>0</td>\n",
       "    </tr>\n",
       "    <tr>\n",
       "      <td>2</td>\n",
       "      <td>0</td>\n",
       "      <td>0</td>\n",
       "      <td>1</td>\n",
       "      <td>0</td>\n",
       "      <td>0</td>\n",
       "      <td>0</td>\n",
       "      <td>0</td>\n",
       "      <td>0</td>\n",
       "      <td>0</td>\n",
       "      <td>0</td>\n",
       "    </tr>\n",
       "    <tr>\n",
       "      <td>3</td>\n",
       "      <td>0</td>\n",
       "      <td>1</td>\n",
       "      <td>0</td>\n",
       "      <td>0</td>\n",
       "      <td>0</td>\n",
       "      <td>0</td>\n",
       "      <td>0</td>\n",
       "      <td>0</td>\n",
       "      <td>0</td>\n",
       "      <td>0</td>\n",
       "    </tr>\n",
       "    <tr>\n",
       "      <td>4</td>\n",
       "      <td>0</td>\n",
       "      <td>0</td>\n",
       "      <td>0</td>\n",
       "      <td>0</td>\n",
       "      <td>1</td>\n",
       "      <td>0</td>\n",
       "      <td>0</td>\n",
       "      <td>0</td>\n",
       "      <td>0</td>\n",
       "      <td>0</td>\n",
       "    </tr>\n",
       "  </tbody>\n",
       "</table>\n",
       "</div>"
      ],
      "text/plain": [
       "   cluster_0  cluster_1  cluster_2  cluster_3  cluster_4  cluster_5  \\\n",
       "0          0          0          0          0          1          0   \n",
       "1          0          0          0          0          1          0   \n",
       "2          0          0          1          0          0          0   \n",
       "3          0          1          0          0          0          0   \n",
       "4          0          0          0          0          1          0   \n",
       "\n",
       "   cluster_6  cluster_7  cluster_8  cluster_9  \n",
       "0          0          0          0          0  \n",
       "1          0          0          0          0  \n",
       "2          0          0          0          0  \n",
       "3          0          0          0          0  \n",
       "4          0          0          0          0  "
      ]
     },
     "execution_count": 45,
     "metadata": {},
     "output_type": "execute_result"
    }
   ],
   "source": [
    "# cluster에 대한 가변수 생성\n",
    "cluster_dumm = pd.get_dummies(pur_prod['predict'], prefix='cluster')\n",
    "cluster_dumm.head()"
   ]
  },
  {
   "cell_type": "code",
   "execution_count": 46,
   "metadata": {},
   "outputs": [
    {
     "data": {
      "text/html": [
       "<div>\n",
       "<style scoped>\n",
       "    .dataframe tbody tr th:only-of-type {\n",
       "        vertical-align: middle;\n",
       "    }\n",
       "\n",
       "    .dataframe tbody tr th {\n",
       "        vertical-align: top;\n",
       "    }\n",
       "\n",
       "    .dataframe thead th {\n",
       "        text-align: right;\n",
       "    }\n",
       "</style>\n",
       "<table border=\"1\" class=\"dataframe\">\n",
       "  <thead>\n",
       "    <tr style=\"text-align: right;\">\n",
       "      <th></th>\n",
       "      <th>고객번호</th>\n",
       "      <th>cluster_0</th>\n",
       "      <th>cluster_1</th>\n",
       "      <th>cluster_2</th>\n",
       "      <th>cluster_3</th>\n",
       "      <th>cluster_4</th>\n",
       "      <th>cluster_5</th>\n",
       "      <th>cluster_6</th>\n",
       "      <th>cluster_7</th>\n",
       "      <th>cluster_8</th>\n",
       "      <th>cluster_9</th>\n",
       "    </tr>\n",
       "  </thead>\n",
       "  <tbody>\n",
       "    <tr>\n",
       "      <td>0</td>\n",
       "      <td>17218</td>\n",
       "      <td>0</td>\n",
       "      <td>0</td>\n",
       "      <td>0</td>\n",
       "      <td>0</td>\n",
       "      <td>1</td>\n",
       "      <td>0</td>\n",
       "      <td>0</td>\n",
       "      <td>0</td>\n",
       "      <td>0</td>\n",
       "      <td>0</td>\n",
       "    </tr>\n",
       "    <tr>\n",
       "      <td>1</td>\n",
       "      <td>17218</td>\n",
       "      <td>0</td>\n",
       "      <td>0</td>\n",
       "      <td>0</td>\n",
       "      <td>0</td>\n",
       "      <td>1</td>\n",
       "      <td>0</td>\n",
       "      <td>0</td>\n",
       "      <td>0</td>\n",
       "      <td>0</td>\n",
       "      <td>0</td>\n",
       "    </tr>\n",
       "    <tr>\n",
       "      <td>2</td>\n",
       "      <td>17218</td>\n",
       "      <td>0</td>\n",
       "      <td>0</td>\n",
       "      <td>1</td>\n",
       "      <td>0</td>\n",
       "      <td>0</td>\n",
       "      <td>0</td>\n",
       "      <td>0</td>\n",
       "      <td>0</td>\n",
       "      <td>0</td>\n",
       "      <td>0</td>\n",
       "    </tr>\n",
       "    <tr>\n",
       "      <td>3</td>\n",
       "      <td>17218</td>\n",
       "      <td>0</td>\n",
       "      <td>1</td>\n",
       "      <td>0</td>\n",
       "      <td>0</td>\n",
       "      <td>0</td>\n",
       "      <td>0</td>\n",
       "      <td>0</td>\n",
       "      <td>0</td>\n",
       "      <td>0</td>\n",
       "      <td>0</td>\n",
       "    </tr>\n",
       "    <tr>\n",
       "      <td>4</td>\n",
       "      <td>17674</td>\n",
       "      <td>0</td>\n",
       "      <td>0</td>\n",
       "      <td>0</td>\n",
       "      <td>0</td>\n",
       "      <td>1</td>\n",
       "      <td>0</td>\n",
       "      <td>0</td>\n",
       "      <td>0</td>\n",
       "      <td>0</td>\n",
       "      <td>0</td>\n",
       "    </tr>\n",
       "  </tbody>\n",
       "</table>\n",
       "</div>"
      ],
      "text/plain": [
       "    고객번호  cluster_0  cluster_1  cluster_2  cluster_3  cluster_4  cluster_5  \\\n",
       "0  17218          0          0          0          0          1          0   \n",
       "1  17218          0          0          0          0          1          0   \n",
       "2  17218          0          0          1          0          0          0   \n",
       "3  17218          0          1          0          0          0          0   \n",
       "4  17674          0          0          0          0          1          0   \n",
       "\n",
       "   cluster_6  cluster_7  cluster_8  cluster_9  \n",
       "0          0          0          0          0  \n",
       "1          0          0          0          0  \n",
       "2          0          0          0          0  \n",
       "3          0          0          0          0  \n",
       "4          0          0          0          0  "
      ]
     },
     "execution_count": 46,
     "metadata": {},
     "output_type": "execute_result"
    }
   ],
   "source": [
    "purchase_product = pd.concat([pur_prod,cluster_dumm],axis=1)\n",
    "purchase_product = pd.concat([purchase_product['고객번호'], purchase_product.iloc[:,3:]], axis=1)\n",
    "purchase_product.head()"
   ]
  },
  {
   "cell_type": "code",
   "execution_count": 47,
   "metadata": {},
   "outputs": [
    {
     "data": {
      "text/html": [
       "<div>\n",
       "<style scoped>\n",
       "    .dataframe tbody tr th:only-of-type {\n",
       "        vertical-align: middle;\n",
       "    }\n",
       "\n",
       "    .dataframe tbody tr th {\n",
       "        vertical-align: top;\n",
       "    }\n",
       "\n",
       "    .dataframe thead th {\n",
       "        text-align: right;\n",
       "    }\n",
       "</style>\n",
       "<table border=\"1\" class=\"dataframe\">\n",
       "  <thead>\n",
       "    <tr style=\"text-align: right;\">\n",
       "      <th></th>\n",
       "      <th>cluster_0</th>\n",
       "      <th>cluster_1</th>\n",
       "      <th>cluster_2</th>\n",
       "      <th>cluster_3</th>\n",
       "      <th>cluster_4</th>\n",
       "      <th>cluster_5</th>\n",
       "      <th>cluster_6</th>\n",
       "      <th>cluster_7</th>\n",
       "      <th>cluster_8</th>\n",
       "      <th>cluster_9</th>\n",
       "    </tr>\n",
       "    <tr>\n",
       "      <th>고객번호</th>\n",
       "      <th></th>\n",
       "      <th></th>\n",
       "      <th></th>\n",
       "      <th></th>\n",
       "      <th></th>\n",
       "      <th></th>\n",
       "      <th></th>\n",
       "      <th></th>\n",
       "      <th></th>\n",
       "      <th></th>\n",
       "    </tr>\n",
       "  </thead>\n",
       "  <tbody>\n",
       "    <tr>\n",
       "      <td>1</td>\n",
       "      <td>256.0</td>\n",
       "      <td>40.0</td>\n",
       "      <td>351.0</td>\n",
       "      <td>5.0</td>\n",
       "      <td>341.0</td>\n",
       "      <td>0.0</td>\n",
       "      <td>44.0</td>\n",
       "      <td>0.0</td>\n",
       "      <td>0.0</td>\n",
       "      <td>20.0</td>\n",
       "    </tr>\n",
       "    <tr>\n",
       "      <td>2</td>\n",
       "      <td>294.0</td>\n",
       "      <td>28.0</td>\n",
       "      <td>553.0</td>\n",
       "      <td>4.0</td>\n",
       "      <td>186.0</td>\n",
       "      <td>0.0</td>\n",
       "      <td>41.0</td>\n",
       "      <td>0.0</td>\n",
       "      <td>0.0</td>\n",
       "      <td>10.0</td>\n",
       "    </tr>\n",
       "    <tr>\n",
       "      <td>3</td>\n",
       "      <td>3.0</td>\n",
       "      <td>174.0</td>\n",
       "      <td>729.0</td>\n",
       "      <td>0.0</td>\n",
       "      <td>232.0</td>\n",
       "      <td>0.0</td>\n",
       "      <td>0.0</td>\n",
       "      <td>0.0</td>\n",
       "      <td>0.0</td>\n",
       "      <td>53.0</td>\n",
       "    </tr>\n",
       "    <tr>\n",
       "      <td>4</td>\n",
       "      <td>211.0</td>\n",
       "      <td>127.0</td>\n",
       "      <td>252.0</td>\n",
       "      <td>0.0</td>\n",
       "      <td>286.0</td>\n",
       "      <td>0.0</td>\n",
       "      <td>13.0</td>\n",
       "      <td>0.0</td>\n",
       "      <td>0.0</td>\n",
       "      <td>41.0</td>\n",
       "    </tr>\n",
       "    <tr>\n",
       "      <td>5</td>\n",
       "      <td>130.0</td>\n",
       "      <td>4.0</td>\n",
       "      <td>464.0</td>\n",
       "      <td>0.0</td>\n",
       "      <td>112.0</td>\n",
       "      <td>0.0</td>\n",
       "      <td>3.0</td>\n",
       "      <td>0.0</td>\n",
       "      <td>0.0</td>\n",
       "      <td>6.0</td>\n",
       "    </tr>\n",
       "  </tbody>\n",
       "</table>\n",
       "</div>"
      ],
      "text/plain": [
       "      cluster_0  cluster_1  cluster_2  cluster_3  cluster_4  cluster_5  \\\n",
       "고객번호                                                                     \n",
       "1         256.0       40.0      351.0        5.0      341.0        0.0   \n",
       "2         294.0       28.0      553.0        4.0      186.0        0.0   \n",
       "3           3.0      174.0      729.0        0.0      232.0        0.0   \n",
       "4         211.0      127.0      252.0        0.0      286.0        0.0   \n",
       "5         130.0        4.0      464.0        0.0      112.0        0.0   \n",
       "\n",
       "      cluster_6  cluster_7  cluster_8  cluster_9  \n",
       "고객번호                                              \n",
       "1          44.0        0.0        0.0       20.0  \n",
       "2          41.0        0.0        0.0       10.0  \n",
       "3           0.0        0.0        0.0       53.0  \n",
       "4          13.0        0.0        0.0       41.0  \n",
       "5           3.0        0.0        0.0        6.0  "
      ]
     },
     "execution_count": 47,
     "metadata": {},
     "output_type": "execute_result"
    }
   ],
   "source": [
    "# 고객별 제품cluster 구매 횟수\n",
    "customer_product_cluster = purchase_product.groupby(purchase_product['고객번호']).sum()\n",
    "customer_product_cluster.head()"
   ]
  },
  {
   "cell_type": "code",
   "execution_count": 48,
   "metadata": {},
   "outputs": [],
   "source": [
    "# 고객별 제품cluster csv파일로 저장\n",
    "customer_product_cluster.to_csv('./data/cust_KMeans.csv')"
   ]
  },
  {
   "cell_type": "code",
   "execution_count": null,
   "metadata": {},
   "outputs": [],
   "source": []
  }
 ],
 "metadata": {
  "kernelspec": {
   "display_name": "Python 3",
   "language": "python",
   "name": "python3"
  },
  "language_info": {
   "codemirror_mode": {
    "name": "ipython",
    "version": 3
   },
   "file_extension": ".py",
   "mimetype": "text/x-python",
   "name": "python",
   "nbconvert_exporter": "python",
   "pygments_lexer": "ipython3",
   "version": "3.7.4"
  }
 },
 "nbformat": 4,
 "nbformat_minor": 2
}
